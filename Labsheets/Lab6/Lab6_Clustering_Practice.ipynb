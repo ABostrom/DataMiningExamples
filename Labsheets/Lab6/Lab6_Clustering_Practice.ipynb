{
 "metadata": {
  "language_info": {
   "codemirror_mode": {
    "name": "ipython",
    "version": 3
   },
   "file_extension": ".py",
   "mimetype": "text/x-python",
   "name": "python",
   "nbconvert_exporter": "python",
   "pygments_lexer": "ipython3",
   "version": "3.7.9-final"
  },
  "orig_nbformat": 2,
  "kernelspec": {
   "name": "python3",
   "display_name": "Python 3.7.9 64-bit ('DeepRL': conda)",
   "metadata": {
    "interpreter": {
     "hash": "a6b797a4091570d69f8a8160f81f5dba34294d1e3a310d498be04ef5196ed8f6"
    }
   }
  }
 },
 "nbformat": 4,
 "nbformat_minor": 2,
 "cells": [
  {
   "source": [
    "This lab uses the Crecit Card dataset\n",
    "\n"
   ],
   "cell_type": "markdown",
   "metadata": {}
  },
  {
   "source": [
    "Load the data using pandas and inspect the head."
   ],
   "cell_type": "markdown",
   "metadata": {}
  },
  {
   "source": [
    "Use the describe function to get a feel for the data, and the categorys"
   ],
   "cell_type": "markdown",
   "metadata": {}
  },
  {
   "source": [
    "Use the info function to get a feel for the different categories and there counts and data type."
   ],
   "cell_type": "markdown",
   "metadata": {}
  },
  {
   "source": [
    "Using the drop function, remove the 'CUST_ID' column as we don't need this piece of information."
   ],
   "cell_type": "markdown",
   "metadata": {}
  },
  {
   "source": [
    "Inspect the original data see if we have an NA or missing values"
   ],
   "cell_type": "markdown",
   "metadata": {}
  },
  {
   "source": [
    "Based on the column(s) you found had missing values, replace the data with an appropriate fill value (Median, Mean etc.)"
   ],
   "cell_type": "markdown",
   "metadata": {}
  },
  {
   "source": [
    "For each data column, plot the Kernel Density Estimate using the seaborn package."
   ],
   "cell_type": "markdown",
   "metadata": {}
  },
  {
   "source": [
    "Inpsect the KDE plots and consider which columns you think are important to the Credit Card dataset. \n",
    "\n",
    "Consider how the plots are skewed, and the variation across the plots. \n",
    "Because we're going to be using clustering to get a good visualisation we want to include the skewness."
   ],
   "cell_type": "markdown",
   "metadata": {}
  },
  {
   "cell_type": "code",
   "execution_count": 49,
   "metadata": {},
   "outputs": [],
   "source": [
    "cols = ['BALANCE', 'ONEOFF_PURCHASES', 'INSTALLMENTS_PURCHASES', 'CASH_ADVANCE', 'ONEOFF_PURCHASES_FREQUENCY','PURCHASES_INSTALLMENTS_FREQUENCY', 'CASH_ADVANCE_TRX', 'PURCHASES_TRX', 'CREDIT_LIMIT', 'PAYMENTS', 'MINIMUM_PAYMENTS', 'PRC_FULL_PAYMENT']"
   ]
  },
  {
   "source": [
    "Here we're going to take the natural log of our dataset to accentuate our KDE plots.\n",
    "\n",
    "Consider: Why we might want to use ln(1+x) instead of ln(x)\n",
    "\n",
    "We use the function: https://numpy.org/doc/stable/reference/generated/numpy.log1p.html"
   ],
   "cell_type": "markdown",
   "metadata": {}
  },
  {
   "source": [
    "Plot your KDE plots with your chosen subset of columns with the newly transformed column data"
   ],
   "cell_type": "markdown",
   "metadata": {}
  },
  {
   "source": [
    "Plot a a heatmap of the correlations of your columns"
   ],
   "cell_type": "markdown",
   "metadata": {}
  },
  {
   "source": [
    "Use the elbow method to find a good KMeans clustering for our dataset.\n",
    "\n",
    "You'll want to consider clusters in the range of 1 to 10\n",
    "\n",
    "https://en.wikipedia.org/wiki/Elbow_method_(clustering)\n",
    "\n",
    "Optionally: You could consider if using a PCA before clustering has any effect on the number of clusters.\n",
    "\n",
    "Display the elbow plot, by plotting the numbers of clusters against the models inertia\n"
   ],
   "cell_type": "markdown",
   "metadata": {}
  },
  {
   "source": [
    "Plot the silhouette score of each of the kmeans score to better inspect the clusters and decide where the best clustering lies.\n",
    "\n",
    "https://scikit-learn.org/stable/modules/generated/sklearn.metrics.silhouette_score.html\n"
   ],
   "cell_type": "markdown",
   "metadata": {}
  },
  {
   "source": [
    "The highest silhouette gives us an idea of the ideal number of clusters.\n",
    "\n",
    "Train the model for the optimal number of clusters based on the score.\n",
    "\n"
   ],
   "cell_type": "markdown",
   "metadata": {}
  },
  {
   "source": [
    "Add the labels to our original dataset with a column called 'cluster_id'"
   ],
   "cell_type": "markdown",
   "metadata": {}
  },
  {
   "source": [
    "Transform our column data back to the original by exponentiating it."
   ],
   "cell_type": "markdown",
   "metadata": {}
  },
  {
   "source": [
    "Use a scatter plot to show the ONEOFF_PURCHASES vs PURCHASES overall. \n",
    "\n",
    "Using the cluster-ids to color the points.\n",
    "\n",
    "Is there any pattern to how our clustering represents singular purchases vs. many purchases."
   ],
   "cell_type": "markdown",
   "metadata": {}
  },
  {
   "source": [
    "Use a scaterplot to show the CREDIT_LIMIT vs. Purchases.\n",
    "\n",
    "Use the cluser-id to color the points. \n",
    "\n",
    "This will show the distribution of the clusters based on the credit limit and total purchases.\n",
    "\n",
    "What does our plot tell us?\n"
   ],
   "cell_type": "markdown",
   "metadata": {}
  }
 ]
}