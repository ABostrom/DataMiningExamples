{
 "cells": [
  {
   "cell_type": "markdown",
   "metadata": {},
   "source": [
    "# Lab 1 - Starting with Jupiter Notebooks and Pandas\n",
    "\n",
    "# First steps with Jupiter Notebooks - preliminary learning\n",
    "\n",
    "We will start by learning how to use Jupiter notebooks.  For this, the recomendation is that you have cover the following tutorial first https://www.dataquest.io/blog/jupyter-notebook-tutorial/\n",
    "\n",
    "The beginning would have got you here so hopefully you have your fist Notebook opened through Anaconda and you are able to insert new cells and run code. \n",
    "\n",
    "This is a markdown cell which can be use to insert text, instructions, comments etc.  To generate headings, lists, etc. in a markdown cell you have some information here https://jupyter-notebook.readthedocs.io/en/stable/examples/Notebook/Working%20With%20Markdown%20Cells.html.  You can even add Latex equations (how cool is that!).\n",
    "\n",
    "Through this lab, we are going to learn how to load a dataset using the Pandas library, how to start to explore the data though various functions, code and visualisations.  We will show you how to do it with a simple dataset, and you will then repeat the steps using a larger and more complex dataset. \n",
    "\n",
    "The strong recommendation is that you do your own learning first to understand the basic concepts behind Pandas and the Visualisation libraries provided by Seaborn and Matplotlib.  For this we recommend you do the following free online courses from Kaggle which we use as a guide for our work: \n",
    "\n",
    "1. Follow a refresher Python course here: https://www.kaggle.com/learn/python\n",
    "2. Follow a course on Pandas to undestand some data manipulation skills: https://www.kaggle.com/learn/pandas\n",
    "3. Follow a visualisation course to make great visualisations of your data: https://www.kaggle.com/learn/data-visualization\n",
    "\n",
    "That would be a great start and should be accomplished preferably before you tackle lab 1 as would have been instructed through the course material. \n"
   ]
  },
  {
   "cell_type": "markdown",
   "metadata": {},
   "source": [
    "# Loading Data using Pandas\n",
    "\n",
    "We will now try to load a new dataset using the Pandas library and perform some preliminary investigation of the data.  \n",
    "\n",
    "We are going to load the data into a DataFrame, which is a table. It contains an array of individual entries, each of which has a certain value. Each entry corresponds to a row (or record) and a column.   The first thing that we need to do, however, is import the relevant libraries. We will import _pandas_ but also _numpy_ as it contains some functions (e.g. mean,std) which we will use later.   The code in the following cell, once executed will do that. "
   ]
  },
  {
   "cell_type": "code",
   "execution_count": 1,
   "metadata": {},
   "outputs": [
    {
     "output_type": "stream",
     "name": "stdout",
     "text": [
      "Setup complete.\n"
     ]
    }
   ],
   "source": [
    "import pandas as pd\n",
    "import numpy as np\n",
    "pd.set_option('max_rows', 10)\n",
    "print(\"Setup complete.\")"
   ]
  },
  {
   "cell_type": "markdown",
   "metadata": {},
   "source": [
    "Now we are in a position to write the code to load a file.  To do this we will use a function that enable us to read from a .csv file.  There are functions also to read from other types of file but .csv is pretty common. \n",
    "\n",
    "You need to dowload the Iris dataset from Blackboard.  Once you have done this find the file path to your saved Iris dataset.  The code below contains my path so you will need to subsitute with yours. \n",
    "\n",
    "Note that the read_csv function has many parameters.  In this case the Iris file has column names and they have been used within the dataframe.  If not, the additional parameter _names_ can be used to specify the names for the columns, using a list to include them.  The .head() function prints the first 5 objects in the dataframe.  The .tail() function prints the last 5.   "
   ]
  },
  {
   "cell_type": "code",
   "execution_count": 2,
   "metadata": {},
   "outputs": [
    {
     "output_type": "stream",
     "name": "stdout",
     "text": [
      "   sepal_length  sepal_width  petal_length  petal_width      species\n0           5.1          3.5           1.4          0.2  Iris-setosa\n1           4.9          3.0           1.4          0.2  Iris-setosa\n2           4.7          3.2           1.3          0.2  Iris-setosa\n3           4.6          3.1           1.5          0.2  Iris-setosa\n4           5.0          3.6           1.4          0.2  Iris-setosa\n     sepal_length  sepal_width  petal_length  petal_width         species\n145           6.7          3.0           5.2          2.3  Iris-virginica\n146           6.3          2.5           5.0          1.9  Iris-virginica\n147           6.5          3.0           5.2          2.0  Iris-virginica\n148           6.2          3.4           5.4          2.3  Iris-virginica\n149           5.9          3.0           5.1          1.8  Iris-virginica\n"
     ]
    }
   ],
   "source": [
    "#designate the path where you saved your Iris data\n",
    "Iris_data_path = \"../../Datasets/Iris.csv\"\n",
    "\n",
    "#Load the data using pandas read_csv function. \n",
    "\n",
    "Iris_data = pd.read_csv(Iris_data_path)\n",
    "\n",
    "print(Iris_data.head())\n",
    "print(Iris_data.tail())\n",
    "\n",
    "\n",
    "\n"
   ]
  },
  {
   "cell_type": "markdown",
   "metadata": {},
   "source": [
    "The same effect can be obtained now by calling the variable that holds the dataframe.  "
   ]
  },
  {
   "cell_type": "code",
   "execution_count": 3,
   "metadata": {},
   "outputs": [
    {
     "output_type": "execute_result",
     "data": {
      "text/plain": [
       "     sepal_length  sepal_width  petal_length  petal_width         species\n",
       "0             5.1          3.5           1.4          0.2     Iris-setosa\n",
       "1             4.9          3.0           1.4          0.2     Iris-setosa\n",
       "2             4.7          3.2           1.3          0.2     Iris-setosa\n",
       "3             4.6          3.1           1.5          0.2     Iris-setosa\n",
       "4             5.0          3.6           1.4          0.2     Iris-setosa\n",
       "..            ...          ...           ...          ...             ...\n",
       "145           6.7          3.0           5.2          2.3  Iris-virginica\n",
       "146           6.3          2.5           5.0          1.9  Iris-virginica\n",
       "147           6.5          3.0           5.2          2.0  Iris-virginica\n",
       "148           6.2          3.4           5.4          2.3  Iris-virginica\n",
       "149           5.9          3.0           5.1          1.8  Iris-virginica\n",
       "\n",
       "[150 rows x 5 columns]"
      ],
      "text/html": "<div>\n<style scoped>\n    .dataframe tbody tr th:only-of-type {\n        vertical-align: middle;\n    }\n\n    .dataframe tbody tr th {\n        vertical-align: top;\n    }\n\n    .dataframe thead th {\n        text-align: right;\n    }\n</style>\n<table border=\"1\" class=\"dataframe\">\n  <thead>\n    <tr style=\"text-align: right;\">\n      <th></th>\n      <th>sepal_length</th>\n      <th>sepal_width</th>\n      <th>petal_length</th>\n      <th>petal_width</th>\n      <th>species</th>\n    </tr>\n  </thead>\n  <tbody>\n    <tr>\n      <th>0</th>\n      <td>5.1</td>\n      <td>3.5</td>\n      <td>1.4</td>\n      <td>0.2</td>\n      <td>Iris-setosa</td>\n    </tr>\n    <tr>\n      <th>1</th>\n      <td>4.9</td>\n      <td>3.0</td>\n      <td>1.4</td>\n      <td>0.2</td>\n      <td>Iris-setosa</td>\n    </tr>\n    <tr>\n      <th>2</th>\n      <td>4.7</td>\n      <td>3.2</td>\n      <td>1.3</td>\n      <td>0.2</td>\n      <td>Iris-setosa</td>\n    </tr>\n    <tr>\n      <th>3</th>\n      <td>4.6</td>\n      <td>3.1</td>\n      <td>1.5</td>\n      <td>0.2</td>\n      <td>Iris-setosa</td>\n    </tr>\n    <tr>\n      <th>4</th>\n      <td>5.0</td>\n      <td>3.6</td>\n      <td>1.4</td>\n      <td>0.2</td>\n      <td>Iris-setosa</td>\n    </tr>\n    <tr>\n      <th>...</th>\n      <td>...</td>\n      <td>...</td>\n      <td>...</td>\n      <td>...</td>\n      <td>...</td>\n    </tr>\n    <tr>\n      <th>145</th>\n      <td>6.7</td>\n      <td>3.0</td>\n      <td>5.2</td>\n      <td>2.3</td>\n      <td>Iris-virginica</td>\n    </tr>\n    <tr>\n      <th>146</th>\n      <td>6.3</td>\n      <td>2.5</td>\n      <td>5.0</td>\n      <td>1.9</td>\n      <td>Iris-virginica</td>\n    </tr>\n    <tr>\n      <th>147</th>\n      <td>6.5</td>\n      <td>3.0</td>\n      <td>5.2</td>\n      <td>2.0</td>\n      <td>Iris-virginica</td>\n    </tr>\n    <tr>\n      <th>148</th>\n      <td>6.2</td>\n      <td>3.4</td>\n      <td>5.4</td>\n      <td>2.3</td>\n      <td>Iris-virginica</td>\n    </tr>\n    <tr>\n      <th>149</th>\n      <td>5.9</td>\n      <td>3.0</td>\n      <td>5.1</td>\n      <td>1.8</td>\n      <td>Iris-virginica</td>\n    </tr>\n  </tbody>\n</table>\n<p>150 rows × 5 columns</p>\n</div>"
     },
     "metadata": {},
     "execution_count": 3
    }
   ],
   "source": [
    "Iris_data"
   ]
  },
  {
   "cell_type": "markdown",
   "metadata": {},
   "source": [
    "As you may observe, the Iris dataset contains 150 records with 4 variables, all of them numeric and the target or label (__species__). The method of the dataframe below `shape` returns the number of records and attributes.   The attributes describe the sepal lenght, sepal width, petal length and petal width in cm for each flower.  Each record is of one species: _Setosa, Virginica or Versicolor_.  __species__ is the target variable or label (e.g. for a potential classification exercise). "
   ]
  },
  {
   "cell_type": "code",
   "execution_count": 4,
   "metadata": {},
   "outputs": [
    {
     "output_type": "execute_result",
     "data": {
      "text/plain": [
       "(150, 5)"
      ]
     },
     "metadata": {},
     "execution_count": 4
    }
   ],
   "source": [
    "Iris_data.shape"
   ]
  },
  {
   "cell_type": "markdown",
   "metadata": {},
   "source": [
    "## Accesing the data\n",
    "\n",
    "You may also wish to try different accessors.  For example, we can access individual columns of the dataframe using various notations.  Try running the code in the following cells to inspect various elements of the dataframe.  The first uses the dot notation to access the __sepal_length__ attribute of the iris dataframe.  The second uses the indexing ([]) operator.  They produce the same result so are equivalen, however the indexing operator can handle column names with reserved characters (e.g. spaces). You can experiment accessing different columns."
   ]
  },
  {
   "cell_type": "code",
   "execution_count": 5,
   "metadata": {},
   "outputs": [
    {
     "output_type": "execute_result",
     "data": {
      "text/plain": [
       "0      5.1\n",
       "1      4.9\n",
       "2      4.7\n",
       "3      4.6\n",
       "4      5.0\n",
       "      ... \n",
       "145    6.7\n",
       "146    6.3\n",
       "147    6.5\n",
       "148    6.2\n",
       "149    5.9\n",
       "Name: sepal_length, Length: 150, dtype: float64"
      ]
     },
     "metadata": {},
     "execution_count": 5
    }
   ],
   "source": [
    "Iris_data.sepal_length"
   ]
  },
  {
   "cell_type": "code",
   "execution_count": 6,
   "metadata": {},
   "outputs": [
    {
     "output_type": "execute_result",
     "data": {
      "text/plain": [
       "0      3.5\n",
       "1      3.0\n",
       "2      3.2\n",
       "3      3.1\n",
       "4      3.6\n",
       "      ... \n",
       "145    3.0\n",
       "146    2.5\n",
       "147    3.0\n",
       "148    3.4\n",
       "149    3.0\n",
       "Name: sepal_width, Length: 150, dtype: float64"
      ]
     },
     "metadata": {},
     "execution_count": 6
    }
   ],
   "source": [
    "Iris_data['sepal_width']"
   ]
  },
  {
   "cell_type": "markdown",
   "metadata": {},
   "source": [
    "We may also want to access specific rows of the dataframe.  We can do this through indexing in Pandas.\n",
    "\n",
    "We can use index-based selection, which selects based on the numerical position in the data.  One mechanism for this is `iloc`, so for example `Iris_data.iloc[0]` will bring the first row of the dataframe, `Iris_data.iloc[52]` would access the 53th element (with 0 being the first), etc. \n",
    "\n",
    "Another mechanism is `.loc` which uses the dataset index instead of the position in the dataframe matrix.  \n",
    "\n",
    "Something to be aware of is `iloc` uses the Python stdlib indexing scheme, where the first element of the range is included and the last one excluded. So 0:10 will select entries 0,...,9. loc, meanwhile, indexes inclusively. So 0:10 will select entries 0,...,10."
   ]
  },
  {
   "cell_type": "code",
   "execution_count": 7,
   "metadata": {},
   "outputs": [
    {
     "output_type": "execute_result",
     "data": {
      "text/plain": [
       "sepal_length               6.7\n",
       "sepal_width                3.1\n",
       "petal_length               5.6\n",
       "petal_width                2.4\n",
       "species         Iris-virginica\n",
       "Name: 140, dtype: object"
      ]
     },
     "metadata": {},
     "execution_count": 7
    }
   ],
   "source": [
    "Iris_data.iloc[140]"
   ]
  },
  {
   "cell_type": "code",
   "execution_count": 8,
   "metadata": {},
   "outputs": [
    {
     "output_type": "execute_result",
     "data": {
      "text/plain": [
       "sepal_length               6.7\n",
       "sepal_width                3.1\n",
       "petal_length               5.6\n",
       "petal_width                2.4\n",
       "species         Iris-virginica\n",
       "Name: 140, dtype: object"
      ]
     },
     "metadata": {},
     "execution_count": 8
    }
   ],
   "source": [
    "Iris_data.loc[140]"
   ]
  },
  {
   "cell_type": "markdown",
   "metadata": {},
   "source": [
    "If you want to combine row and column selection note that in the dataframe you need to pass two parameters to loc/iloc.  The first selects the rows, whereas the second selects the columns. For example, the code below will select the first 10 rows and only the data on the __sepal_length__ column."
   ]
  },
  {
   "cell_type": "code",
   "execution_count": 9,
   "metadata": {},
   "outputs": [
    {
     "output_type": "execute_result",
     "data": {
      "text/plain": [
       "0     5.1\n",
       "1     4.9\n",
       "2     4.7\n",
       "3     4.6\n",
       "4     5.0\n",
       "     ... \n",
       "6     4.6\n",
       "7     5.0\n",
       "8     4.4\n",
       "9     4.9\n",
       "10    5.4\n",
       "Name: sepal_length, Length: 11, dtype: float64"
      ]
     },
     "metadata": {},
     "execution_count": 9
    }
   ],
   "source": [
    "Iris_data.loc[0:10,'sepal_length']"
   ]
  },
  {
   "cell_type": "markdown",
   "metadata": {},
   "source": [
    "Whereas the code below will select the last 5 rows of the __petal_lenght__ and __petal_width__ attributes. \n"
   ]
  },
  {
   "cell_type": "code",
   "execution_count": 10,
   "metadata": {},
   "outputs": [
    {
     "output_type": "execute_result",
     "data": {
      "text/plain": [
       "     petal_length  petal_width\n",
       "145           5.2          2.3\n",
       "146           5.0          1.9\n",
       "147           5.2          2.0\n",
       "148           5.4          2.3\n",
       "149           5.1          1.8"
      ],
      "text/html": "<div>\n<style scoped>\n    .dataframe tbody tr th:only-of-type {\n        vertical-align: middle;\n    }\n\n    .dataframe tbody tr th {\n        vertical-align: top;\n    }\n\n    .dataframe thead th {\n        text-align: right;\n    }\n</style>\n<table border=\"1\" class=\"dataframe\">\n  <thead>\n    <tr style=\"text-align: right;\">\n      <th></th>\n      <th>petal_length</th>\n      <th>petal_width</th>\n    </tr>\n  </thead>\n  <tbody>\n    <tr>\n      <th>145</th>\n      <td>5.2</td>\n      <td>2.3</td>\n    </tr>\n    <tr>\n      <th>146</th>\n      <td>5.0</td>\n      <td>1.9</td>\n    </tr>\n    <tr>\n      <th>147</th>\n      <td>5.2</td>\n      <td>2.0</td>\n    </tr>\n    <tr>\n      <th>148</th>\n      <td>5.4</td>\n      <td>2.3</td>\n    </tr>\n    <tr>\n      <th>149</th>\n      <td>5.1</td>\n      <td>1.8</td>\n    </tr>\n  </tbody>\n</table>\n</div>"
     },
     "metadata": {},
     "execution_count": 10
    }
   ],
   "source": [
    "Iris_data.loc[145:150,['petal_length','petal_width']]"
   ]
  },
  {
   "cell_type": "markdown",
   "metadata": {},
   "source": [
    "It is also possible to apply conditional selection.  For example, if we want to get rows where the __petal_length__ is less that some value, we can execute the code below.  Note that gives a _Series_ (a column) with booleans."
   ]
  },
  {
   "cell_type": "code",
   "execution_count": 11,
   "metadata": {},
   "outputs": [
    {
     "output_type": "execute_result",
     "data": {
      "text/plain": [
       "0       True\n",
       "1       True\n",
       "2       True\n",
       "3       True\n",
       "4       True\n",
       "       ...  \n",
       "145    False\n",
       "146    False\n",
       "147    False\n",
       "148    False\n",
       "149    False\n",
       "Name: petal_length, Length: 150, dtype: bool"
      ]
     },
     "metadata": {},
     "execution_count": 11
    }
   ],
   "source": [
    "Iris_data.petal_length<3"
   ]
  },
  {
   "cell_type": "markdown",
   "metadata": {},
   "source": [
    "To do data selection, we can use the conditional within the `.loc` selector. "
   ]
  },
  {
   "cell_type": "code",
   "execution_count": 12,
   "metadata": {},
   "outputs": [
    {
     "output_type": "execute_result",
     "data": {
      "text/plain": [
       "    sepal_length  sepal_width  petal_length  petal_width      species\n",
       "0            5.1          3.5           1.4          0.2  Iris-setosa\n",
       "1            4.9          3.0           1.4          0.2  Iris-setosa\n",
       "2            4.7          3.2           1.3          0.2  Iris-setosa\n",
       "3            4.6          3.1           1.5          0.2  Iris-setosa\n",
       "4            5.0          3.6           1.4          0.2  Iris-setosa\n",
       "..           ...          ...           ...          ...          ...\n",
       "45           4.8          3.0           1.4          0.3  Iris-setosa\n",
       "46           5.1          3.8           1.6          0.2  Iris-setosa\n",
       "47           4.6          3.2           1.4          0.2  Iris-setosa\n",
       "48           5.3          3.7           1.5          0.2  Iris-setosa\n",
       "49           5.0          3.3           1.4          0.2  Iris-setosa\n",
       "\n",
       "[50 rows x 5 columns]"
      ],
      "text/html": "<div>\n<style scoped>\n    .dataframe tbody tr th:only-of-type {\n        vertical-align: middle;\n    }\n\n    .dataframe tbody tr th {\n        vertical-align: top;\n    }\n\n    .dataframe thead th {\n        text-align: right;\n    }\n</style>\n<table border=\"1\" class=\"dataframe\">\n  <thead>\n    <tr style=\"text-align: right;\">\n      <th></th>\n      <th>sepal_length</th>\n      <th>sepal_width</th>\n      <th>petal_length</th>\n      <th>petal_width</th>\n      <th>species</th>\n    </tr>\n  </thead>\n  <tbody>\n    <tr>\n      <th>0</th>\n      <td>5.1</td>\n      <td>3.5</td>\n      <td>1.4</td>\n      <td>0.2</td>\n      <td>Iris-setosa</td>\n    </tr>\n    <tr>\n      <th>1</th>\n      <td>4.9</td>\n      <td>3.0</td>\n      <td>1.4</td>\n      <td>0.2</td>\n      <td>Iris-setosa</td>\n    </tr>\n    <tr>\n      <th>2</th>\n      <td>4.7</td>\n      <td>3.2</td>\n      <td>1.3</td>\n      <td>0.2</td>\n      <td>Iris-setosa</td>\n    </tr>\n    <tr>\n      <th>3</th>\n      <td>4.6</td>\n      <td>3.1</td>\n      <td>1.5</td>\n      <td>0.2</td>\n      <td>Iris-setosa</td>\n    </tr>\n    <tr>\n      <th>4</th>\n      <td>5.0</td>\n      <td>3.6</td>\n      <td>1.4</td>\n      <td>0.2</td>\n      <td>Iris-setosa</td>\n    </tr>\n    <tr>\n      <th>...</th>\n      <td>...</td>\n      <td>...</td>\n      <td>...</td>\n      <td>...</td>\n      <td>...</td>\n    </tr>\n    <tr>\n      <th>45</th>\n      <td>4.8</td>\n      <td>3.0</td>\n      <td>1.4</td>\n      <td>0.3</td>\n      <td>Iris-setosa</td>\n    </tr>\n    <tr>\n      <th>46</th>\n      <td>5.1</td>\n      <td>3.8</td>\n      <td>1.6</td>\n      <td>0.2</td>\n      <td>Iris-setosa</td>\n    </tr>\n    <tr>\n      <th>47</th>\n      <td>4.6</td>\n      <td>3.2</td>\n      <td>1.4</td>\n      <td>0.2</td>\n      <td>Iris-setosa</td>\n    </tr>\n    <tr>\n      <th>48</th>\n      <td>5.3</td>\n      <td>3.7</td>\n      <td>1.5</td>\n      <td>0.2</td>\n      <td>Iris-setosa</td>\n    </tr>\n    <tr>\n      <th>49</th>\n      <td>5.0</td>\n      <td>3.3</td>\n      <td>1.4</td>\n      <td>0.2</td>\n      <td>Iris-setosa</td>\n    </tr>\n  </tbody>\n</table>\n<p>50 rows × 5 columns</p>\n</div>"
     },
     "metadata": {},
     "execution_count": 12
    }
   ],
   "source": [
    "Iris_data.loc[Iris_data.petal_length<3]"
   ]
  },
  {
   "cell_type": "markdown",
   "metadata": {},
   "source": [
    "Or you can build more complex conditions, e.g.  to select rows with petal lengths in a specific range for the _Setosa_ records: "
   ]
  },
  {
   "cell_type": "code",
   "execution_count": 13,
   "metadata": {},
   "outputs": [
    {
     "output_type": "execute_result",
     "data": {
      "text/plain": [
       "Empty DataFrame\n",
       "Columns: [sepal_length, sepal_width, petal_length, petal_width, species]\n",
       "Index: []"
      ],
      "text/html": "<div>\n<style scoped>\n    .dataframe tbody tr th:only-of-type {\n        vertical-align: middle;\n    }\n\n    .dataframe tbody tr th {\n        vertical-align: top;\n    }\n\n    .dataframe thead th {\n        text-align: right;\n    }\n</style>\n<table border=\"1\" class=\"dataframe\">\n  <thead>\n    <tr style=\"text-align: right;\">\n      <th></th>\n      <th>sepal_length</th>\n      <th>sepal_width</th>\n      <th>petal_length</th>\n      <th>petal_width</th>\n      <th>species</th>\n    </tr>\n  </thead>\n  <tbody>\n  </tbody>\n</table>\n</div>"
     },
     "metadata": {},
     "execution_count": 13
    }
   ],
   "source": [
    "Iris_data.loc[(Iris_data.petal_length>1) & (Iris_data.petal_length<1.5)& (Iris_data.species=='setosa')]"
   ]
  },
  {
   "cell_type": "markdown",
   "metadata": {},
   "source": [
    "# Summary statistics and aggregations \n",
    "\n",
    "There are some intereresting summary functions too, to begin building an understanding of your data.  First the `describe()` function which gives the summary statistics for a field.  "
   ]
  },
  {
   "cell_type": "code",
   "execution_count": 14,
   "metadata": {},
   "outputs": [
    {
     "output_type": "execute_result",
     "data": {
      "text/plain": [
       "count    150.000000\n",
       "mean       5.843333\n",
       "std        0.828066\n",
       "min        4.300000\n",
       "25%        5.100000\n",
       "50%        5.800000\n",
       "75%        6.400000\n",
       "max        7.900000\n",
       "Name: sepal_length, dtype: float64"
      ]
     },
     "metadata": {},
     "execution_count": 14
    }
   ],
   "source": [
    "Iris_data.sepal_length.describe()"
   ]
  },
  {
   "cell_type": "markdown",
   "metadata": {},
   "source": [
    "Or more specific statistics such as number of unique values, how often they occur, mean, etc.  This will help you in building your data dictionary.  "
   ]
  },
  {
   "cell_type": "code",
   "execution_count": 15,
   "metadata": {},
   "outputs": [
    {
     "output_type": "execute_result",
     "data": {
      "text/plain": [
       "array([5.1, 4.9, 4.7, 4.6, 5. , 5.4, 4.4, 4.8, 4.3, 5.8, 5.7, 5.2, 5.5,\n",
       "       4.5, 5.3, 7. , 6.4, 6.9, 6.5, 6.3, 6.6, 5.9, 6. , 6.1, 5.6, 6.7,\n",
       "       6.2, 6.8, 7.1, 7.6, 7.3, 7.2, 7.7, 7.4, 7.9])"
      ]
     },
     "metadata": {},
     "execution_count": 15
    }
   ],
   "source": [
    "Iris_data.sepal_length.unique()\n"
   ]
  },
  {
   "cell_type": "code",
   "execution_count": 16,
   "metadata": {},
   "outputs": [
    {
     "output_type": "execute_result",
     "data": {
      "text/plain": [
       "5.0    10\n",
       "6.3     9\n",
       "5.1     9\n",
       "5.7     8\n",
       "6.7     8\n",
       "       ..\n",
       "4.5     1\n",
       "7.0     1\n",
       "5.3     1\n",
       "7.3     1\n",
       "4.3     1\n",
       "Name: sepal_length, Length: 35, dtype: int64"
      ]
     },
     "metadata": {},
     "execution_count": 16
    }
   ],
   "source": [
    "Iris_data.sepal_length.value_counts()"
   ]
  },
  {
   "cell_type": "code",
   "execution_count": 17,
   "metadata": {},
   "outputs": [
    {
     "output_type": "execute_result",
     "data": {
      "text/plain": [
       "5.843333333333334"
      ]
     },
     "metadata": {},
     "execution_count": 17
    }
   ],
   "source": [
    "Iris_data.sepal_length.mean()"
   ]
  },
  {
   "cell_type": "markdown",
   "metadata": {},
   "source": [
    "Furthermore, you can calculate counts and other statistics based on a `groupby()` function similar to those provided by SQL. For example, to get statistics for each of the types of Iris flowers we could use something like the code below"
   ]
  },
  {
   "cell_type": "code",
   "execution_count": 18,
   "metadata": {},
   "outputs": [
    {
     "output_type": "execute_result",
     "data": {
      "text/plain": [
       "                 sepal_length  sepal_width  petal_length  petal_width\n",
       "species                                                              \n",
       "Iris-setosa             5.006        3.418         1.464        0.244\n",
       "Iris-versicolor         5.936        2.770         4.260        1.326\n",
       "Iris-virginica          6.588        2.974         5.552        2.026"
      ],
      "text/html": "<div>\n<style scoped>\n    .dataframe tbody tr th:only-of-type {\n        vertical-align: middle;\n    }\n\n    .dataframe tbody tr th {\n        vertical-align: top;\n    }\n\n    .dataframe thead th {\n        text-align: right;\n    }\n</style>\n<table border=\"1\" class=\"dataframe\">\n  <thead>\n    <tr style=\"text-align: right;\">\n      <th></th>\n      <th>sepal_length</th>\n      <th>sepal_width</th>\n      <th>petal_length</th>\n      <th>petal_width</th>\n    </tr>\n    <tr>\n      <th>species</th>\n      <th></th>\n      <th></th>\n      <th></th>\n      <th></th>\n    </tr>\n  </thead>\n  <tbody>\n    <tr>\n      <th>Iris-setosa</th>\n      <td>5.006</td>\n      <td>3.418</td>\n      <td>1.464</td>\n      <td>0.244</td>\n    </tr>\n    <tr>\n      <th>Iris-versicolor</th>\n      <td>5.936</td>\n      <td>2.770</td>\n      <td>4.260</td>\n      <td>1.326</td>\n    </tr>\n    <tr>\n      <th>Iris-virginica</th>\n      <td>6.588</td>\n      <td>2.974</td>\n      <td>5.552</td>\n      <td>2.026</td>\n    </tr>\n  </tbody>\n</table>\n</div>"
     },
     "metadata": {},
     "execution_count": 18
    }
   ],
   "source": [
    "Iris_data.groupby('species').mean()"
   ]
  },
  {
   "cell_type": "code",
   "execution_count": 19,
   "metadata": {},
   "outputs": [
    {
     "output_type": "execute_result",
     "data": {
      "text/plain": [
       "species\n",
       "Iris-setosa        4.3\n",
       "Iris-versicolor    4.9\n",
       "Iris-virginica     4.9\n",
       "Name: sepal_length, dtype: float64"
      ]
     },
     "metadata": {},
     "execution_count": 19
    }
   ],
   "source": [
    "Iris_data.groupby('species').sepal_length.min()"
   ]
  },
  {
   "cell_type": "code",
   "execution_count": 20,
   "metadata": {},
   "outputs": [
    {
     "output_type": "execute_result",
     "data": {
      "text/plain": [
       "species\n",
       "Iris-setosa        5.8\n",
       "Iris-versicolor    7.0\n",
       "Iris-virginica     7.9\n",
       "Name: sepal_length, dtype: float64"
      ]
     },
     "metadata": {},
     "execution_count": 20
    }
   ],
   "source": [
    "Iris_data.groupby('species').sepal_length.max()"
   ]
  },
  {
   "cell_type": "markdown",
   "metadata": {},
   "source": [
    "Or you could run the function `agg()` which allows you to run a bunch of different functions on your DataFrame simultaneously. As part of the `agg()` function we can call some _numpy_ operations (e.g. mean, std for mean and standard deviation).\n"
   ]
  },
  {
   "cell_type": "code",
   "execution_count": 21,
   "metadata": {},
   "outputs": [
    {
     "output_type": "execute_result",
     "data": {
      "text/plain": [
       "                sepal_length                            sepal_width            \\\n",
       "                         len  min  max   mean       std         len  min  max   \n",
       "species                                                                         \n",
       "Iris-setosa             50.0  4.3  5.8  5.006  0.352490        50.0  2.3  4.4   \n",
       "Iris-versicolor         50.0  4.9  7.0  5.936  0.516171        50.0  2.0  3.4   \n",
       "Iris-virginica          50.0  4.9  7.9  6.588  0.635880        50.0  2.2  3.8   \n",
       "\n",
       "                                 petal_length                             \\\n",
       "                  mean       std          len  min  max   mean       std   \n",
       "species                                                                    \n",
       "Iris-setosa      3.418  0.381024         50.0  1.0  1.9  1.464  0.173511   \n",
       "Iris-versicolor  2.770  0.313798         50.0  3.0  5.1  4.260  0.469911   \n",
       "Iris-virginica   2.974  0.322497         50.0  4.5  6.9  5.552  0.551895   \n",
       "\n",
       "                petal_width                             \n",
       "                        len  min  max   mean       std  \n",
       "species                                                 \n",
       "Iris-setosa            50.0  0.1  0.6  0.244  0.107210  \n",
       "Iris-versicolor        50.0  1.0  1.8  1.326  0.197753  \n",
       "Iris-virginica         50.0  1.4  2.5  2.026  0.274650  "
      ],
      "text/html": "<div>\n<style scoped>\n    .dataframe tbody tr th:only-of-type {\n        vertical-align: middle;\n    }\n\n    .dataframe tbody tr th {\n        vertical-align: top;\n    }\n\n    .dataframe thead tr th {\n        text-align: left;\n    }\n\n    .dataframe thead tr:last-of-type th {\n        text-align: right;\n    }\n</style>\n<table border=\"1\" class=\"dataframe\">\n  <thead>\n    <tr>\n      <th></th>\n      <th colspan=\"5\" halign=\"left\">sepal_length</th>\n      <th colspan=\"5\" halign=\"left\">sepal_width</th>\n      <th colspan=\"5\" halign=\"left\">petal_length</th>\n      <th colspan=\"5\" halign=\"left\">petal_width</th>\n    </tr>\n    <tr>\n      <th></th>\n      <th>len</th>\n      <th>min</th>\n      <th>max</th>\n      <th>mean</th>\n      <th>std</th>\n      <th>len</th>\n      <th>min</th>\n      <th>max</th>\n      <th>mean</th>\n      <th>std</th>\n      <th>len</th>\n      <th>min</th>\n      <th>max</th>\n      <th>mean</th>\n      <th>std</th>\n      <th>len</th>\n      <th>min</th>\n      <th>max</th>\n      <th>mean</th>\n      <th>std</th>\n    </tr>\n    <tr>\n      <th>species</th>\n      <th></th>\n      <th></th>\n      <th></th>\n      <th></th>\n      <th></th>\n      <th></th>\n      <th></th>\n      <th></th>\n      <th></th>\n      <th></th>\n      <th></th>\n      <th></th>\n      <th></th>\n      <th></th>\n      <th></th>\n      <th></th>\n      <th></th>\n      <th></th>\n      <th></th>\n      <th></th>\n    </tr>\n  </thead>\n  <tbody>\n    <tr>\n      <th>Iris-setosa</th>\n      <td>50.0</td>\n      <td>4.3</td>\n      <td>5.8</td>\n      <td>5.006</td>\n      <td>0.352490</td>\n      <td>50.0</td>\n      <td>2.3</td>\n      <td>4.4</td>\n      <td>3.418</td>\n      <td>0.381024</td>\n      <td>50.0</td>\n      <td>1.0</td>\n      <td>1.9</td>\n      <td>1.464</td>\n      <td>0.173511</td>\n      <td>50.0</td>\n      <td>0.1</td>\n      <td>0.6</td>\n      <td>0.244</td>\n      <td>0.107210</td>\n    </tr>\n    <tr>\n      <th>Iris-versicolor</th>\n      <td>50.0</td>\n      <td>4.9</td>\n      <td>7.0</td>\n      <td>5.936</td>\n      <td>0.516171</td>\n      <td>50.0</td>\n      <td>2.0</td>\n      <td>3.4</td>\n      <td>2.770</td>\n      <td>0.313798</td>\n      <td>50.0</td>\n      <td>3.0</td>\n      <td>5.1</td>\n      <td>4.260</td>\n      <td>0.469911</td>\n      <td>50.0</td>\n      <td>1.0</td>\n      <td>1.8</td>\n      <td>1.326</td>\n      <td>0.197753</td>\n    </tr>\n    <tr>\n      <th>Iris-virginica</th>\n      <td>50.0</td>\n      <td>4.9</td>\n      <td>7.9</td>\n      <td>6.588</td>\n      <td>0.635880</td>\n      <td>50.0</td>\n      <td>2.2</td>\n      <td>3.8</td>\n      <td>2.974</td>\n      <td>0.322497</td>\n      <td>50.0</td>\n      <td>4.5</td>\n      <td>6.9</td>\n      <td>5.552</td>\n      <td>0.551895</td>\n      <td>50.0</td>\n      <td>1.4</td>\n      <td>2.5</td>\n      <td>2.026</td>\n      <td>0.274650</td>\n    </tr>\n  </tbody>\n</table>\n</div>"
     },
     "metadata": {},
     "execution_count": 21
    }
   ],
   "source": [
    "Iris_data.groupby('species').agg([len,min,max,np.mean,np.std])"
   ]
  },
  {
   "cell_type": "markdown",
   "metadata": {},
   "source": [
    "It is also possible to find out about null values (i.e. missing data).  In Pandas, missing values are given a _NaN_ value (Not a Number).  We can select missing data entries by using the `pd.isnull()` or `pd.notnull()` functions. For example, to find out any null values in the sepal_length column we can run the following code."
   ]
  },
  {
   "cell_type": "code",
   "execution_count": 22,
   "metadata": {},
   "outputs": [
    {
     "output_type": "execute_result",
     "data": {
      "text/plain": [
       "Empty DataFrame\n",
       "Columns: [sepal_length, sepal_width, petal_length, petal_width, species]\n",
       "Index: []"
      ],
      "text/html": "<div>\n<style scoped>\n    .dataframe tbody tr th:only-of-type {\n        vertical-align: middle;\n    }\n\n    .dataframe tbody tr th {\n        vertical-align: top;\n    }\n\n    .dataframe thead th {\n        text-align: right;\n    }\n</style>\n<table border=\"1\" class=\"dataframe\">\n  <thead>\n    <tr style=\"text-align: right;\">\n      <th></th>\n      <th>sepal_length</th>\n      <th>sepal_width</th>\n      <th>petal_length</th>\n      <th>petal_width</th>\n      <th>species</th>\n    </tr>\n  </thead>\n  <tbody>\n  </tbody>\n</table>\n</div>"
     },
     "metadata": {},
     "execution_count": 22
    }
   ],
   "source": [
    "Iris_data[pd.isnull(Iris_data.sepal_length)]"
   ]
  },
  {
   "cell_type": "markdown",
   "metadata": {},
   "source": [
    "# Visualising your data\n",
    "\n",
    "Now we are going to explore some of the visualisations that may give us a further understanding of the data and relationships within it.  For this we will use the _seaborn_ tool which is covered in the Kaggle visualisation course.  \n",
    "\n",
    "We need further imports in order to use the visualisation libraries as follows: "
   ]
  },
  {
   "cell_type": "code",
   "execution_count": 23,
   "metadata": {},
   "outputs": [
    {
     "output_type": "error",
     "ename": "ModuleNotFoundError",
     "evalue": "No module named 'seaborn'",
     "traceback": [
      "\u001b[1;31m---------------------------------------------------------------------------\u001b[0m",
      "\u001b[1;31mModuleNotFoundError\u001b[0m                       Traceback (most recent call last)",
      "\u001b[1;32m<ipython-input-23-66bb756c97f2>\u001b[0m in \u001b[0;36m<module>\u001b[1;34m\u001b[0m\n\u001b[0;32m      2\u001b[0m \u001b[1;32mimport\u001b[0m \u001b[0mmatplotlib\u001b[0m\u001b[1;33m.\u001b[0m\u001b[0mpyplot\u001b[0m \u001b[1;32mas\u001b[0m \u001b[0mplt\u001b[0m\u001b[1;33m\u001b[0m\u001b[1;33m\u001b[0m\u001b[0m\n\u001b[0;32m      3\u001b[0m \u001b[0mget_ipython\u001b[0m\u001b[1;33m(\u001b[0m\u001b[1;33m)\u001b[0m\u001b[1;33m.\u001b[0m\u001b[0mrun_line_magic\u001b[0m\u001b[1;33m(\u001b[0m\u001b[1;34m'matplotlib'\u001b[0m\u001b[1;33m,\u001b[0m \u001b[1;34m'inline'\u001b[0m\u001b[1;33m)\u001b[0m\u001b[1;33m\u001b[0m\u001b[1;33m\u001b[0m\u001b[0m\n\u001b[1;32m----> 4\u001b[1;33m \u001b[1;32mimport\u001b[0m \u001b[0mseaborn\u001b[0m \u001b[1;32mas\u001b[0m \u001b[0msns\u001b[0m\u001b[1;33m\u001b[0m\u001b[1;33m\u001b[0m\u001b[0m\n\u001b[0m\u001b[0;32m      5\u001b[0m \u001b[0mprint\u001b[0m\u001b[1;33m(\u001b[0m\u001b[1;34m\"Vis setup Complete\"\u001b[0m\u001b[1;33m)\u001b[0m\u001b[1;33m\u001b[0m\u001b[1;33m\u001b[0m\u001b[0m\n",
      "\u001b[1;31mModuleNotFoundError\u001b[0m: No module named 'seaborn'"
     ]
    }
   ],
   "source": [
    "pd.plotting.register_matplotlib_converters()\n",
    "import matplotlib.pyplot as plt\n",
    "%matplotlib inline\n",
    "import seaborn as sns\n",
    "print(\"Vis setup Complete\")"
   ]
  },
  {
   "cell_type": "markdown",
   "metadata": {},
   "source": [
    "## Barcharts\n",
    "\n",
    "The first simple visualisation we could plot may be to produce a bar chart showing the average values of each an attribute (say __petal_lenght__) for each of the Iris Species.  See below how we may do that. We select the size of the figure(width and height). Then we specify a title for the whole plot. Then we use the _seaborn_ library to specify what data to chart as a barplot in the x and y axis.  Then we produce labels for both the y label and x label.  Experiment with the code below to plot the other attributes in the dataset."
   ]
  },
  {
   "cell_type": "code",
   "execution_count": 113,
   "metadata": {},
   "outputs": [
    {
     "name": "stdout",
     "output_type": "stream",
     "text": [
      "species\n",
      "setosa        1.464\n",
      "versicolor    4.260\n",
      "virginica     5.552\n",
      "Name: petal_length, dtype: float64\n"
     ]
    },
    {
     "data": {
      "text/plain": [
       "Text(0.5, 0, 'Species of Iris flower')"
      ]
     },
     "execution_count": 113,
     "metadata": {},
     "output_type": "execute_result"
    },
    {
     "data": {
      "image/png": "[encoded data removed]",
      "text/plain": [
       "<Figure size 720x288 with 1 Axes>"
      ]
     },
     "metadata": {
      "needs_background": "light"
     },
     "output_type": "display_data"
    }
   ],
   "source": [
    "#Show first what we are trying to plot\n",
    "print(Iris_data.groupby('species').petal_length.mean())\n",
    "\n",
    "#Select size of plot to be produced\n",
    "plt.figure(figsize=(10,4))\n",
    "\n",
    "# Add title\n",
    "plt.title(\"Average Petal Lengh\")\n",
    "\n",
    "# Bar chart showing average \n",
    "sns.barplot(x=Iris_data['species'], y=Iris_data.petal_length)\n",
    "\n",
    "# Add label for vertical axis\n",
    "plt.ylabel(\"Petal Lenght (in cm)\")\n",
    "plt.xlabel(\"Species of Iris flower\")"
   ]
  },
  {
   "cell_type": "markdown",
   "metadata": {},
   "source": [
    "## Scaterplots \n",
    "\n",
    "We may now want to plot variables against other variables through a scatter plot. To create a simple _scatter plot_, we can use the `sns.scatterplot` command and specify the values for the horizontal x-axis and vertical y-axis.  In this case let us examine the relationship between petal lenght and petal width.  "
   ]
  },
  {
   "cell_type": "code",
   "execution_count": 120,
   "metadata": {},
   "outputs": [
    {
     "data": {
      "text/plain": [
       "<AxesSubplot:xlabel='petal_length', ylabel='petal_width'>"
      ]
     },
     "execution_count": 120,
     "metadata": {},
     "output_type": "execute_result"
    },
    {
     "data": {
      "image/png": "[encoded data removed]",
      "text/plain": [
       "<Figure size 1008x504 with 1 Axes>"
      ]
     },
     "metadata": {
      "needs_background": "light"
     },
     "output_type": "display_data"
    }
   ],
   "source": [
    "# Set the width and height of the figure\n",
    "plt.figure(figsize=(14,7))\n",
    "\n",
    "sns.scatterplot(x=Iris_data['petal_length'], y=Iris_data['petal_width'])"
   ]
  },
  {
   "cell_type": "markdown",
   "metadata": {},
   "source": [
    "That just shows the relationship between petal_lenght and petal_width, but if we impose the species using the color (with the hue parameter as below) then we may see patterns emerging for the Iris species.  We can see that there is a cluster of points well separate from the others. The belong to the _Iris Setosa_ variety and have low values of petal length and petal width. The other two varieties may be more difficult to separate by the values of those two variables.   You can try with other variables to see if more interesting visualisations emerge. "
   ]
  },
  {
   "cell_type": "code",
   "execution_count": 125,
   "metadata": {},
   "outputs": [
    {
     "data": {
      "text/plain": [
       "<AxesSubplot:xlabel='petal_length', ylabel='petal_width'>"
      ]
     },
     "execution_count": 125,
     "metadata": {},
     "output_type": "execute_result"
    },
    {
     "data": {
      "image/png": "[encoded data removed]",
      "text/plain": [
       "<Figure size 1008x504 with 1 Axes>"
      ]
     },
     "metadata": {
      "needs_background": "light"
     },
     "output_type": "display_data"
    }
   ],
   "source": [
    "# Set the width and height of the figure\n",
    "plt.figure(figsize=(14,7))\n",
    "\n",
    "sns.scatterplot(x=Iris_data['petal_length'], y=Iris_data['petal_width'],hue=Iris_data['species'])"
   ]
  },
  {
   "cell_type": "markdown",
   "metadata": {},
   "source": [
    "The next scatter plot shows that both _Setosa_ an _Versicolor_ have higher petal width with the petal lenght (as shown by the stepness of the regression line added to this type of plot) but for the Iris _Virginica_ petal width grows slower with petal width. \n",
    "\n"
   ]
  },
  {
   "cell_type": "code",
   "execution_count": 124,
   "metadata": {},
   "outputs": [
    {
     "data": {
      "text/plain": [
       "<seaborn.axisgrid.FacetGrid at 0x7f8d1271f970>"
      ]
     },
     "execution_count": 124,
     "metadata": {},
     "output_type": "execute_result"
    },
    {
     "data": {
      "text/plain": [
       "<Figure size 1008x504 with 0 Axes>"
      ]
     },
     "metadata": {},
     "output_type": "display_data"
    },
    {
     "data": {
      "image/png": "[encoded data removed]",
      "text/plain": [
       "<Figure size 444.75x360 with 1 Axes>"
      ]
     },
     "metadata": {
      "needs_background": "light"
     },
     "output_type": "display_data"
    }
   ],
   "source": [
    "# Set the width and height of the figure\n",
    "plt.figure(figsize=(14,7))\n",
    "\n",
    "sns.lmplot(x=\"petal_length\", y=\"petal_width\", hue=\"species\", data=Iris_data)"
   ]
  },
  {
   "cell_type": "markdown",
   "metadata": {},
   "source": [
    "## Histograms\n",
    "\n",
    "We now look at how histograms can be used to show the distribution of values within a variable.  For example, to show the distribution of values for the attribute __petal_length__ we can use the following code. Note that below `kde=False` creates a simple histogram whereas if we make it True the plot is shown with a _Kernel Density Estimate_ line.  You can try that and see how the plot varies. "
   ]
  },
  {
   "cell_type": "code",
   "execution_count": 136,
   "metadata": {},
   "outputs": [
    {
     "data": {
      "text/plain": [
       "<AxesSubplot:xlabel='petal_length'>"
      ]
     },
     "execution_count": 136,
     "metadata": {},
     "output_type": "execute_result"
    },
    {
     "data": {
      "image/png": "[encoded data removed]",
      "text/plain": [
       "<Figure size 432x288 with 1 Axes>"
      ]
     },
     "metadata": {
      "needs_background": "light"
     },
     "output_type": "display_data"
    }
   ],
   "source": [
    "# Histogram \n",
    "sns.distplot(a=Iris_data['petal_length'], kde=False)"
   ]
  },
  {
   "cell_type": "markdown",
   "metadata": {},
   "source": [
    "## Density Plots\n",
    "\n",
    "Alternatively, we can create a _kernel density estimate (KDE)_ plot. They are a smoothed histogram.  To make them, we use the `sns.kdeplot` command. Setting `shade=True` colors the area below the curve."
   ]
  },
  {
   "cell_type": "code",
   "execution_count": 139,
   "metadata": {},
   "outputs": [
    {
     "data": {
      "text/plain": [
       "<AxesSubplot:xlabel='petal_length', ylabel='Density'>"
      ]
     },
     "execution_count": 139,
     "metadata": {},
     "output_type": "execute_result"
    },
    {
     "data": {
      "image/png": "[encoded data removed]",
      "text/plain": [
       "<Figure size 432x288 with 1 Axes>"
      ]
     },
     "metadata": {
      "needs_background": "light"
     },
     "output_type": "display_data"
    }
   ],
   "source": [
    "# KDE plot \n",
    "sns.kdeplot(data=Iris_data['petal_length'], shade=True)"
   ]
  },
  {
   "cell_type": "markdown",
   "metadata": {},
   "source": [
    "We're not restricted to a single column when creating a KDE plot. We can create a two-dimensional (2D) KDE plot with the `sns.jointplot` command.\n",
    "\n",
    "In the plot below, the color-coding shows us how likely we are to see different combinations of sepal width and petal length, where darker parts of the figure are more likely."
   ]
  },
  {
   "cell_type": "code",
   "execution_count": 144,
   "metadata": {},
   "outputs": [
    {
     "data": {
      "text/plain": [
       "<seaborn.axisgrid.JointGrid at 0x7f8d12f07430>"
      ]
     },
     "execution_count": 144,
     "metadata": {},
     "output_type": "execute_result"
    },
    {
     "data": {
      "image/png": "[encoded data removed]",
      "text/plain": [
       "<Figure size 432x432 with 3 Axes>"
      ]
     },
     "metadata": {
      "needs_background": "light"
     },
     "output_type": "display_data"
    }
   ],
   "source": [
    "# 2D KDE plot\n",
    "sns.jointplot(x=Iris_data['petal_length'], y=Iris_data['sepal_width'], kind=\"kde\",shade=True)"
   ]
  },
  {
   "cell_type": "markdown",
   "metadata": {},
   "source": [
    "In addition to the 2D KDE plot in the center:\n",
    "* the curve at the top of the figure is a KDE plot for the data on the x-axis (in this case, `Iris_data['petal_lenght']`) and\n",
    "*  the curve on the right of the figure is a KDE plot for the data on the y-axis (in this case,` Iris_data['sepal_width']`)."
   ]
  },
  {
   "cell_type": "markdown",
   "metadata": {},
   "source": [
    "## Color-coded plots\n",
    "\n",
    "Now we can create plots another type of plots to understand differences between the species. To accomplish this, we begin by breaking the dataset into three separate files, with one for each species. We do this using the conditional selection we saw earlier. Each of the \\_data files below becomes a new dataframe."
   ]
  },
  {
   "cell_type": "code",
   "execution_count": 153,
   "metadata": {},
   "outputs": [
    {
     "name": "stdout",
     "output_type": "stream",
     "text": [
      "    sepal_length  sepal_width  petal_length  petal_width species\n",
      "45           4.8          3.0           1.4          0.3  setosa\n",
      "46           5.1          3.8           1.6          0.2  setosa\n",
      "47           4.6          3.2           1.4          0.2  setosa\n",
      "48           5.3          3.7           1.5          0.2  setosa\n",
      "49           5.0          3.3           1.4          0.2  setosa\n",
      "    sepal_length  sepal_width  petal_length  petal_width     species\n",
      "95           5.7          3.0           4.2          1.2  versicolor\n",
      "96           5.7          2.9           4.2          1.3  versicolor\n",
      "97           6.2          2.9           4.3          1.3  versicolor\n",
      "98           5.1          2.5           3.0          1.1  versicolor\n",
      "99           5.7          2.8           4.1          1.3  versicolor\n",
      "     sepal_length  sepal_width  petal_length  petal_width    species\n",
      "145           6.7          3.0           5.2          2.3  virginica\n",
      "146           6.3          2.5           5.0          1.9  virginica\n",
      "147           6.5          3.0           5.2          2.0  virginica\n",
      "148           6.2          3.4           5.4          2.3  virginica\n",
      "149           5.9          3.0           5.1          1.8  virginica\n"
     ]
    }
   ],
   "source": [
    "#Select only the rows with Setosa records\n",
    "Setosa_data = Iris_data.loc[Iris_data.species=='setosa']\n",
    "print(Setosa_data.tail())\n",
    "\n",
    "#Select only the rows with Versicolor records\n",
    "Versicolor_data = Iris_data.loc[Iris_data.species=='versicolor']\n",
    "print(Versicolor_data.tail())\n",
    "\n",
    "#Select only the rows with virginica records\n",
    "Virginica_data = Iris_data.loc[Iris_data.species=='virginica']\n",
    "print(Virginica_data.tail())\n"
   ]
  },
  {
   "cell_type": "markdown",
   "metadata": {},
   "source": [
    "We now combine the distplot for the 3 separate dataframes we have created together by calling the function as follows.  For each we specify the correct label and type of graph `(kde=false)` \n",
    "\n",
    "Furthermore, we add a title to the plot and print the legend showing inside the graph. In this plot we can see the clear separation of Iris Setosa in terms of Petal lenght (under 2 cm appears to be associated with _Iris Setosa_). The separation is more difficult for the other two varieties as the petal lenght overlaps around 4.5 to 5 cm for both.  We have seen this in other visualisations."
   ]
  },
  {
   "cell_type": "code",
   "execution_count": 159,
   "metadata": {},
   "outputs": [
    {
     "data": {
      "text/plain": [
       "<matplotlib.legend.Legend at 0x7f8cf1f727f0>"
      ]
     },
     "execution_count": 159,
     "metadata": {},
     "output_type": "execute_result"
    },
    {
     "data": {
      "image/png": "[encoded data removed]",
      "text/plain": [
       "<Figure size 432x288 with 1 Axes>"
      ]
     },
     "metadata": {
      "needs_background": "light"
     },
     "output_type": "display_data"
    }
   ],
   "source": [
    "sns.distplot(a=Setosa_data['petal_length'], label=\"Iris-setosa\", kde=False)\n",
    "sns.distplot(a=Versicolor_data['petal_length'], label=\"Iris-versicolor\", kde=False)\n",
    "sns.distplot(a=Virginica_data['petal_length'], label=\"Iris-virginica\", kde=False)\n",
    "\n",
    "# Add title\n",
    "plt.title(\"Histogram of Petal Lengths, by Species\")\n",
    "\n",
    "# Force legend to appear\n",
    "plt.legend()"
   ]
  },
  {
   "cell_type": "markdown",
   "metadata": {},
   "source": [
    "We can instead produce the kde version of this plot by calling the `kdeplot` function as below.  "
   ]
  },
  {
   "cell_type": "code",
   "execution_count": 161,
   "metadata": {},
   "outputs": [
    {
     "data": {
      "text/plain": [
       "<matplotlib.legend.Legend at 0x7f8cc25be040>"
      ]
     },
     "execution_count": 161,
     "metadata": {},
     "output_type": "execute_result"
    },
    {
     "data": {
      "image/png": "[encoded data removed]",
      "text/plain": [
       "<Figure size 432x288 with 1 Axes>"
      ]
     },
     "metadata": {
      "needs_background": "light"
     },
     "output_type": "display_data"
    }
   ],
   "source": [
    "sns.kdeplot(data=Setosa_data['petal_length'], label=\"Iris-setosa\", shade=True)\n",
    "sns.kdeplot(data=Versicolor_data['petal_length'], label=\"Iris-versicolor\", shade=True)\n",
    "sns.kdeplot(data=Virginica_data['petal_length'], label=\"Iris-virginica\", shade=True)\n",
    "\n",
    "# Add title and legend\n",
    "plt.title(\"Distribution of Petal Lengths, by Species\")\n",
    "plt.legend()"
   ]
  },
  {
   "cell_type": "markdown",
   "metadata": {},
   "source": [
    "We can look at other variables, e.g the __sepal_width__ and we see separation of the three variety is not really possible with this variable."
   ]
  },
  {
   "cell_type": "code",
   "execution_count": 163,
   "metadata": {},
   "outputs": [
    {
     "data": {
      "text/plain": [
       "<matplotlib.legend.Legend at 0x7f8d12fbc4f0>"
      ]
     },
     "execution_count": 163,
     "metadata": {},
     "output_type": "execute_result"
    },
    {
     "data": {
      "image/png": "[encoded data removed]",
      "text/plain": [
       "<Figure size 432x288 with 1 Axes>"
      ]
     },
     "metadata": {
      "needs_background": "light"
     },
     "output_type": "display_data"
    }
   ],
   "source": [
    "sns.kdeplot(data=Setosa_data['sepal_width'], label=\"Iris-setosa\", shade=True)\n",
    "sns.kdeplot(data=Versicolor_data['sepal_width'], label=\"Iris-versicolor\", shade=True)\n",
    "sns.kdeplot(data=Virginica_data['sepal_width'], label=\"Iris-virginica\", shade=True)\n",
    "\n",
    "# Add title and legend\n",
    "plt.title(\"Distribution of Sepal widths, by Species\")\n",
    "plt.legend()"
   ]
  },
  {
   "cell_type": "markdown",
   "metadata": {},
   "source": [
    "# Learning Outcomes\n",
    "\n",
    "Ok, now you have learned some of the basis around using Pandas, loading data into a dataframe and getting to explore it.  You should know in particular\n",
    "\n",
    "* How to import libraries \n",
    "* How to read a .csv file into a dataframe\n",
    "* How to access columns and rows of the dataframe\n",
    "* How to get summary statistics, aggregations\n",
    "* How to create simple visualisations such as bar charts to visualise values within a variable\n",
    "* How to create scatter plots look for relationships between two variables  \n",
    "* How to create scatter plots look for relationships between two variables and the target variable\n",
    "* How to create distribution plots to understand values within a variable\n",
    "* How to produce 1d and 2d density plots\n",
    "* How to combine plots with color coding to understand distributions in relation to the target variable\n"
   ]
  }
 ],
 "metadata": {
  "kernelspec": {
   "display_name": "Python 3",
   "language": "python",
   "name": "python3"
  },
  "language_info": {
   "codemirror_mode": {
    "name": "ipython",
    "version": 3
   },
   "file_extension": ".py",
   "mimetype": "text/x-python",
   "name": "python",
   "nbconvert_exporter": "python",
   "pygments_lexer": "ipython3",
   "version": "3.8.5-final"
  }
 },
 "nbformat": 4,
 "nbformat_minor": 4
}