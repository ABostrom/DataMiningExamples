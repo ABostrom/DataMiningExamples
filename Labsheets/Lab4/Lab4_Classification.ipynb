{
 "cells": [
  {
   "cell_type": "markdown",
   "metadata": {},
   "source": [
    "# Lab 4: Classification\n",
    "\n",
    "In this introduction to classification we will aim to understand how to apply classification algorithms to our datasets. \n",
    "Identifying the labels and values in order to predict classification targets. We will take a standard UCI dataset and look at how to split it into a train and test dataset.\n",
    "\n",
    "Initially we will consider simple classification of datasets.\n",
    "We will move on to consider how we can perform some pre-processing on our datasets to make classification more effective. \n",
    "We will then finish with looking at how we can measure the performance of our algorithms. \n",
    "Does classification accuracy tell the whole story?\n"
   ]
  },
  {
   "cell_type": "markdown",
   "metadata": {},
   "source": [
    "## Loading the data\n",
    "\n",
    "In this example we are using one of the built in UCR datasets (`Iris`)."
   ]
  },
  {
   "cell_type": "code",
   "execution_count": 1,
   "metadata": {},
   "outputs": [
    {
     "name": "stdout",
     "output_type": "stream",
     "text": [
      "     sepal_length  petal_length  petal_width\n",
      "0             5.1           1.4          0.2\n",
      "1             4.9           1.4          0.2\n",
      "2             4.7           1.3          0.2\n",
      "3             4.6           1.5          0.2\n",
      "4             5.0           1.4          0.2\n",
      "..            ...           ...          ...\n",
      "145           6.7           5.2          2.3\n",
      "146           6.3           5.0          1.9\n",
      "147           6.5           5.2          2.0\n",
      "148           6.2           5.4          2.3\n",
      "149           5.9           5.1          1.8\n",
      "\n",
      "[150 rows x 3 columns]\n",
      "0         Iris-setosa\n",
      "1         Iris-setosa\n",
      "2         Iris-setosa\n",
      "3         Iris-setosa\n",
      "4         Iris-setosa\n",
      "            ...      \n",
      "145    Iris-virginica\n",
      "146    Iris-virginica\n",
      "147    Iris-virginica\n",
      "148    Iris-virginica\n",
      "149    Iris-virginica\n",
      "Name: species, Length: 150, dtype: object\n"
     ]
    }
   ],
   "source": [
    "#here i am using the built in datasets in sklearn.\n",
    "#from sklearn import datasets\n",
    "\n",
    "#make the plots bigger\n",
    "import matplotlib.pyplot as plt\n",
    "plt.rcParams['figure.figsize'] = [10, 10]\n",
    "\n",
    "#load the iris datasets\n",
    "#iris = datasets.load_iris(as_frame=True)\n",
    "#X = iris.data   #setup the tabular data\n",
    "#y = iris.target #setup the labels\n",
    "\n",
    "import pandas as pd\n",
    "import numpy as np\n",
    "\n",
    "iris = pd.read_csv(\"../../Datasets/Iris.csv\")\n",
    "\n",
    "X = iris[[\"sepal_length\", \"petal_length\", \"petal_width\"]]\n",
    "y = iris[\"species\"]\n",
    "print(X)\n",
    "print(y)\n"
   ]
  },
  {
   "cell_type": "markdown",
   "metadata": {},
   "source": [
    "# Train and Test Split\n",
    "\n",
    "When creating a classification problem we need a set of data, and an associated set of labels. \n",
    "In the case of the iris datasets we have properties of the flower, and the associated species as the label. \n",
    "\n",
    "In order to learn about the data we need split our dataset into a train and test split. \n",
    "The reason for doing this is because we want to learn from a set of data for which we have labels, and then measure our models effectiveness against unseen test data, for which we do have the labels. \n",
    "\n",
    "Here we use the sklearn function `train_test_split` to create a train and test datasets for both the data and the labels. Setting `test_size=0.2` the test set (`X_test`) will be 20% of the samples in the dataset (`X`) and the train set (`X_train`) will contain 80% of the samples. \n",
    "\n",
    "Consider how different train and test set sizes might affect the accuracy of a classifier. Is accuracy the best measure of model performance?\n",
    "\n",
    "To start on classificatin we may have to encode the actual target variable or label.  For that we can use the `label Encoder` from sklearn.  \n"
   ]
  },
  {
   "cell_type": "code",
   "execution_count": 2,
   "metadata": {},
   "outputs": [
    {
     "name": "stdout",
     "output_type": "stream",
     "text": [
      "['Iris-setosa' 'Iris-versicolor' 'Iris-virginica']\n"
     ]
    },
    {
     "data": {
      "text/plain": [
       "array([0, 0, 0, 0, 0, 0, 0, 0, 0, 0, 0, 0, 0, 0, 0, 0, 0, 0, 0, 0, 0, 0,\n",
       "       0, 0, 0, 0, 0, 0, 0, 0, 0, 0, 0, 0, 0, 0, 0, 0, 0, 0, 0, 0, 0, 0,\n",
       "       0, 0, 0, 0, 0, 0, 1, 1, 1, 1, 1, 1, 1, 1, 1, 1, 1, 1, 1, 1, 1, 1,\n",
       "       1, 1, 1, 1, 1, 1, 1, 1, 1, 1, 1, 1, 1, 1, 1, 1, 1, 1, 1, 1, 1, 1,\n",
       "       1, 1, 1, 1, 1, 1, 1, 1, 1, 1, 1, 1, 2, 2, 2, 2, 2, 2, 2, 2, 2, 2,\n",
       "       2, 2, 2, 2, 2, 2, 2, 2, 2, 2, 2, 2, 2, 2, 2, 2, 2, 2, 2, 2, 2, 2,\n",
       "       2, 2, 2, 2, 2, 2, 2, 2, 2, 2, 2, 2, 2, 2, 2, 2, 2, 2])"
      ]
     },
     "execution_count": 2,
     "metadata": {},
     "output_type": "execute_result"
    }
   ],
   "source": [
    "from sklearn.preprocessing import LabelEncoder\n",
    "\n",
    "#encode the labels from strings to values.\n",
    "le = LabelEncoder()\n",
    "\n",
    "y = le.fit_transform(y)\n",
    "print(le.classes_)\n",
    "y"
   ]
  },
  {
   "cell_type": "markdown",
   "metadata": {},
   "source": [
    "Now we create the train/test split for modelling. "
   ]
  },
  {
   "cell_type": "code",
   "execution_count": 3,
   "metadata": {},
   "outputs": [],
   "source": [
    "from sklearn.model_selection import train_test_split\n",
    "\n",
    "X_train, X_test, y_train, y_test = train_test_split(X, y, test_size=0.2)"
   ]
  },
  {
   "cell_type": "markdown",
   "metadata": {},
   "source": [
    "# Pre-Processing\n",
    "\n",
    "Before we feed the dataset to the classifier, we can perform some pre processing stages to our dataset. You should have looked at various pre-processing steps in the previous lab. \n",
    "\n",
    "When performing pre-processing to data that is going to be fed into a classifier, or other model that needs fitting, care must be taken.\n",
    "\n",
    "In this example I perform `L2` normalisation on the train and test set <b>together</b>. This is important in the case of normalisation because when we calculate the mean and standard deviation for the dataset, if we normalised the dataset as a continuous block we would get potentially different values for each sample, when compared with normalising together. Additionally, It's important to normalise the test data using the mean and standard deviation of the train so that the normalisation is <b>consistent</b> but doesn't introduce bias from looking at the train data. Hence the model for normalisation is obtained from the train data but then applied to the test data.\n"
   ]
  },
  {
   "cell_type": "code",
   "execution_count": 4,
   "metadata": {},
   "outputs": [],
   "source": [
    "from sklearn.preprocessing import Normalizer\n",
    "\n",
    "normalizer = Normalizer(norm='l2')\n",
    "X_train = normalizer.fit_transform(X_train)\n",
    "X_test = normalizer.transform(X_test)\n"
   ]
  },
  {
   "cell_type": "markdown",
   "metadata": {},
   "source": [
    "# Classification\n",
    "\n",
    "Here we can select the classifier to use. we show 3 simple classifiers that are commonly used in classification (there are MANY more).\n",
    "In the first cell we sue a 2NN classifier, this is by setting `n_neighbours=2`. \n",
    "In the second cell we use a Support Vector Classifier with a order 3 polynomial kernel `kernel='poly'` and `degree=3`, the decision boundary will take the form:\n",
    " $$f(x) = ax^3 + bx^2 + cx + d$$\n",
    "\n",
    "In the third cell we use a Decision Tree Classifier, where we use Entropy for the information gain (`criterion='entropy'`) to determine the splitting criteria. \n",
    "\n",
    "In SKLearn most classifiers are created as an object, the parameters for which are entered via the constructor, and then we have two commons functions available, the first being fit and the second being `predict` and `predict_proba`.\n",
    "\n",
    "The fit function, is where we input the train data and labels into the classifier. \n",
    "The `predict` and `predict_proba` function is where we can input our test data to receive label predictions, or a vector of probabilities for each sample, where the prediction is the argmax of the probabilities."
   ]
  },
  {
   "cell_type": "code",
   "execution_count": 5,
   "metadata": {},
   "outputs": [],
   "source": [
    "from sklearn.neighbors import KNeighborsClassifier\n",
    "\n",
    "clf_nn = KNeighborsClassifier(n_neighbors=2)"
   ]
  },
  {
   "cell_type": "code",
   "execution_count": 6,
   "metadata": {},
   "outputs": [],
   "source": [
    "from sklearn.svm import SVC\n",
    "\n",
    "clf_svm = SVC(kernel='poly', degree=3)"
   ]
  },
  {
   "cell_type": "code",
   "execution_count": 7,
   "metadata": {},
   "outputs": [],
   "source": [
    "from sklearn.tree import DecisionTreeClassifier\n",
    "\n",
    "clf_tree = DecisionTreeClassifier(criterion='entropy')"
   ]
  },
  {
   "cell_type": "code",
   "execution_count": 8,
   "metadata": {},
   "outputs": [],
   "source": [
    "clf = clf_tree"
   ]
  },
  {
   "cell_type": "markdown",
   "metadata": {},
   "source": [
    "## Fit the data to the model\n",
    "\n",
    "Here we call the fit function as discussed earlier, passing in the train data and the train labels. In this case we are fitting the decision tree as that was instantiated in the previous cell."
   ]
  },
  {
   "cell_type": "code",
   "execution_count": 9,
   "metadata": {},
   "outputs": [],
   "source": [
    "clf.fit(X_train,y_train);"
   ]
  },
  {
   "cell_type": "markdown",
   "metadata": {},
   "source": [
    "DecisionTreeClassifier is capable of both binary classification and multiclass classification. \n",
    "Using the iris dataset we have trained our tree, and we can plot what that tree looks like using the `tree` Module in sklearn.  In particular there is a method `plot_tree` for visualising the model. Spend some time trying to understand what the model visualisation is telling us about how decisions are made. "
   ]
  },
  {
   "cell_type": "code",
   "execution_count": 10,
   "metadata": {},
   "outputs": [
    {
     "data": {
      "image/png": "[encoded data removed]",
      "text/plain": [
       "<Figure size 720x720 with 1 Axes>"
      ]
     },
     "metadata": {
      "needs_background": "light"
     },
     "output_type": "display_data"
    }
   ],
   "source": [
    "from sklearn import tree\n",
    "tree_plot = tree.plot_tree(clf_tree, class_names=le.classes_)"
   ]
  },
  {
   "cell_type": "markdown",
   "metadata": {},
   "source": [
    "# Prediction\n",
    "\n",
    "Here we call the predict function as dicussed earlier, passing in the test data, and <b>NO</b> labels.  What we get is a set of _predited_ labels, given the model we created. "
   ]
  },
  {
   "cell_type": "code",
   "execution_count": 11,
   "metadata": {},
   "outputs": [
    {
     "data": {
      "text/plain": [
       "array([0, 2, 2, 2, 1, 2, 1, 1, 1, 2, 1, 2, 1, 1, 2, 1, 1, 0, 2, 2, 1, 0,\n",
       "       1, 0, 1, 2, 1, 2, 2, 1])"
      ]
     },
     "execution_count": 11,
     "metadata": {},
     "output_type": "execute_result"
    }
   ],
   "source": [
    "y_hat = clf.predict(X_test)\n",
    "y_hat"
   ]
  },
  {
   "cell_type": "markdown",
   "metadata": {},
   "source": [
    "# Scoring\n",
    "\n",
    "Accuracy is the simplest measure of performance we can consider for a classification model. \n",
    "We calculate the percentage of correctly predicted labels.  In the next week's lab sheet will consider more complex performance measures.\n",
    "\n",
    "We start using the `accuracy` method in _sklearn_ but we also look at how we may calculate the same manually so we can understand what accuracy is.  \n"
   ]
  },
  {
   "cell_type": "code",
   "execution_count": 12,
   "metadata": {},
   "outputs": [
    {
     "name": "stdout",
     "output_type": "stream",
     "text": [
      "Sklearn calculated accuracy: 0.9333333333333333\n",
      "Number of data points in test data: 30\n",
      "Number of data points where prediction is correct: 28\n",
      "Manual accuracy: 0.9333333333333333\n",
      "[ 0  1  2  3  4  5  6  7  8  9 10 11 12 13 14 15 16 17 18 19 20 21 22 23\n",
      " 24 27 28 29]\n",
      "Prediction [0 2 2 2 1 2 1 1 1 2 1 2 1 1 2 1 1 0 2 2 1 0 1 0 1 2 1 2 2 1]\n",
      "Actual     [0 2 2 2 1 2 1 1 1 2 1 2 1 1 2 1 1 0 2 2 1 0 1 0 1 1 2 2 2 1]\n"
     ]
    }
   ],
   "source": [
    "from sklearn.metrics import accuracy_score\n",
    "\n",
    "#we can use the built in accuracy metrics in sklearn.\n",
    "accuracy = accuracy_score(y_test, y_hat)\n",
    "print('Sklearn calculated accuracy:',accuracy)\n",
    "\n",
    "#We coould implement our own accuracy.\n",
    "#find the indices where the predicted and the actual match\n",
    "counts, = np.where(y_hat==y_test)\n",
    "\n",
    "print('Number of data points in test data:',len(y_test))\n",
    "print('Number of data points where prediction is correct:',len(counts))\n",
    "\n",
    "manual_accuracy = len(counts) / len(y_test)\n",
    "\n",
    "print('Manual accuracy:',manual_accuracy)\n",
    "print(counts)\n",
    "print('Prediction', y_hat)\n",
    "print('Actual    ',y_test)\n",
    "\n"
   ]
  },
  {
   "cell_type": "markdown",
   "metadata": {},
   "source": [
    "Now the next important thing in understanding classification is visualising the erros through use of a _confusion matrix_.  We import this from _sklearn_.  The confusion matrix shows us the predicted against the actual so we can see errors for each class and correct predictions.  Take some time to understand the confusion matrix. The diagonal shows the correct predictions where actual and predicted coincide, whereas off-diagonal we wee the errors in prediction.  Below we can see that the model performs badly as it predicts some class 2 instances (Iris Virginica) as class 1 (Iris Versicolor)."
   ]
  },
  {
   "cell_type": "code",
   "execution_count": 13,
   "metadata": {},
   "outputs": [
    {
     "data": {
      "text/plain": [
       "<sklearn.metrics._plot.confusion_matrix.ConfusionMatrixDisplay at 0x7fc1e8ec0d00>"
      ]
     },
     "execution_count": 13,
     "metadata": {},
     "output_type": "execute_result"
    },
    {
     "data": {
      "image/png": "[encoded data removed]",
      "text/plain": [
       "<Figure size 720x720 with 2 Axes>"
      ]
     },
     "metadata": {
      "needs_background": "light"
     },
     "output_type": "display_data"
    }
   ],
   "source": [
    "#Making the Confusion Matrix\n",
    "\n",
    "from sklearn.metrics import confusion_matrix\n",
    "\n",
    "#we can get the confusion matrix\n",
    "cm = confusion_matrix(y_test, y_hat)\n",
    "\n",
    "#we can plot it\n",
    "from sklearn.metrics import plot_confusion_matrix\n",
    "plot_confusion_matrix(clf, X_test, y_test)\n"
   ]
  },
  {
   "cell_type": "markdown",
   "metadata": {},
   "source": [
    "# K-Fold Cross Validation for parameter tuning\n",
    "\n",
    "Sometimes we have multiple options for the parameters for our models.\n",
    "We may wish to tune these parameters. If we select parameters based on the test data, this is considered \"cheating\", as we have looked the anwers and fit our data to them to maximise some score.\n",
    "\n",
    "In practice what we want to do, when picking and tuning our parameters, is to validate on some unseen data (but not use the test data).  We can do that by using cross-validation, so that we create a number of \"internal\" partitions of the data and each time we train on some of the partitions and use one for testing. We can repeat this over different partitions to get more robust evaluation.\n",
    "\n",
    "We then try to maximise (or minimise) our scoring (often accuracy) function to pick the parameter which produced the best result.\n"
   ]
  },
  {
   "cell_type": "code",
   "execution_count": 14,
   "metadata": {},
   "outputs": [
    {
     "name": "stdout",
     "output_type": "stream",
     "text": [
      "Criterion: entropy \\ Accuracy: 1.0\n",
      "Criterion: gini \\ Accuracy: 1.0\n",
      "Best parameter is: entropy\n",
      "Accuracy on unseen test data: 0.9333333333333333\n"
     ]
    }
   ],
   "source": [
    "criterion_parameter = [\"entropy\", \"gini\"]\n",
    "\n",
    "#import our KFold cross validation object.\n",
    "from sklearn.model_selection import KFold\n",
    "\n",
    "#we want one split for each parameter option\n",
    "kf = KFold(n_splits=(len(criterion_parameter)))\n",
    "\n",
    "accuracies = []\n",
    "for index, (train_index, test_index) in enumerate(kf.split(X_train)):\n",
    "    #build classifier with our current parameter.\n",
    "    clf_tree_cv = DecisionTreeClassifier(criterion=criterion_parameter[index])\n",
    "    #extract the cross vadlidated data into train and test datasets\n",
    "    X_train_cv, y_train_cv = X_train[train_index], y_train[train_index]\n",
    "    X_test_cv, y_test_cv = X_train[train_index], y_train[train_index]\n",
    "    \n",
    "    #fit our parameterised model to the cross-validated data.\n",
    "    clf_tree_cv.fit(X_train_cv, y_train_cv)\n",
    "\n",
    "    #obtain predictions on the cv test set.\n",
    "    y_hat_cv = clf_tree_cv.predict(X_test_cv)\n",
    "\n",
    "    #append the accuracies to the list of all of them.\n",
    "    accuracies.append(accuracy_score(y_test_cv, y_hat_cv))\n",
    "    print('Criterion:',criterion_parameter[index], '\\ Accuracy:',accuracies[index])\n",
    "\n",
    "#print(accuracies)\n",
    "import numpy as np\n",
    "# pick the best parameter\n",
    "best_paramater = criterion_parameter[np.argmax(accuracies)]\n",
    "print('Best parameter is:',best_paramater)\n",
    "\n",
    "# train the classifier using the best parameter and the whole train set.\n",
    "tuned_clf = DecisionTreeClassifier(criterion=best_paramater)\n",
    "tuned_clf.fit(X_train, y_train)\n",
    "\n",
    "# evaluate the accuracy using the unseen test data.\n",
    "score = accuracy_score(y_test, tuned_clf.predict(X_test))\n",
    "print('Accuracy on unseen test data:',score)"
   ]
  },
  {
   "cell_type": "markdown",
   "metadata": {},
   "source": [
    "####  K-Fold Things to Remember\n",
    "\n",
    "When training and fitting our parameters we must remember to never use the test data. We may apply a similar approach to choosing pre-processing strategies via cross-validation.  "
   ]
  },
  {
   "cell_type": "markdown",
   "metadata": {},
   "source": [
    "## Modelling using the KNN algorithm\n",
    "\n",
    "Now we can repeat the same exercise but this time we apply our second algorith, the `KNeighborsClassifier`.  We generate the accuracy and the confusion matrix.  "
   ]
  },
  {
   "cell_type": "code",
   "execution_count": 15,
   "metadata": {},
   "outputs": [
    {
     "name": "stdout",
     "output_type": "stream",
     "text": [
      "Sklearn calculated accuracy: 0.8333333333333334\n"
     ]
    },
    {
     "data": {
      "text/plain": [
       "<sklearn.metrics._plot.confusion_matrix.ConfusionMatrixDisplay at 0x7fc1e8ec0bb0>"
      ]
     },
     "execution_count": 15,
     "metadata": {},
     "output_type": "execute_result"
    },
    {
     "data": {
      "image/png": "[encoded data removed]",
      "text/plain": [
       "<Figure size 720x720 with 2 Axes>"
      ]
     },
     "metadata": {
      "needs_background": "light"
     },
     "output_type": "display_data"
    }
   ],
   "source": [
    "clf = clf_nn\n",
    "clf.fit(X_train,y_train);\n",
    "y_hat = clf.predict(X_test)\n",
    "y_hat\n",
    "#we can use the built in accuracy metrics in sklearn.\n",
    "accuracy = accuracy_score(y_test, y_hat)\n",
    "print('Sklearn calculated accuracy:',accuracy)\n",
    "\n",
    "#we can get the confusion matrix\n",
    "cm = confusion_matrix(y_test, y_hat)\n",
    "\n",
    "#we can plot it\n",
    "from sklearn.metrics import plot_confusion_matrix\n",
    "plot_confusion_matrix(clf, X_test, y_test)\n"
   ]
  },
  {
   "cell_type": "markdown",
   "metadata": {},
   "source": [
    "We can  experiment with the number of neighbours as a parameter of the `KNeighborsClassifier` algorithm.  Let us try neighbours from 2 to 9 to understand which gives us the best performance. "
   ]
  },
  {
   "cell_type": "code",
   "execution_count": 16,
   "metadata": {},
   "outputs": [
    {
     "name": "stdout",
     "output_type": "stream",
     "text": [
      "Criterion: 2 \\ Accuracy: 0.9714285714285714\n",
      "Criterion: 3 \\ Accuracy: 0.9904761904761905\n",
      "Criterion: 4 \\ Accuracy: 0.9809523809523809\n",
      "Criterion: 5 \\ Accuracy: 0.9714285714285714\n",
      "Criterion: 6 \\ Accuracy: 0.9619047619047619\n",
      "Criterion: 7 \\ Accuracy: 0.9619047619047619\n",
      "Criterion: 8 \\ Accuracy: 0.9714285714285714\n",
      "Criterion: 9 \\ Accuracy: 0.9619047619047619\n",
      "Best parameter is: 3\n",
      "Accuracy on unseen test data: 0.9333333333333333\n"
     ]
    }
   ],
   "source": [
    "from sklearn.tree import DecisionTreeClassifier\n",
    "#in the case of decision trees, we have to options for selecting our splitting criterion method\n",
    "#the first is entropy and the second is Gini impurity.\n",
    "# we could just use the default of entropy, but what if gini was better?\n",
    "criterion_parameter = [2,3,4,5,6,7,8,9]\n",
    "\n",
    "#import our KFold cross validation object.\n",
    "from sklearn.model_selection import KFold\n",
    "\n",
    "#we want one split for each parameter option\n",
    "kf = KFold(n_splits=(len(criterion_parameter)))\n",
    "\n",
    "accuracies = []\n",
    "for index, (train_index, test_index) in enumerate(kf.split(X_train)):\n",
    "    #build classifier with our current parameter.\n",
    "    clf_knn_cv = KNeighborsClassifier(n_neighbors=criterion_parameter[index])\n",
    "    #extract the cross vadlidated data into train and test datasets\n",
    "    X_train_cv, y_train_cv = X_train[train_index], y_train[train_index]\n",
    "    X_test_cv, y_test_cv = X_train[train_index], y_train[train_index]\n",
    "    \n",
    "    #fit our parameterised model to the cross-validated data.\n",
    "    clf_knn_cv.fit(X_train_cv, y_train_cv)\n",
    "\n",
    "    #obtain predictions on the cv test set.\n",
    "    y_hat_cv = clf_knn_cv.predict(X_test_cv)\n",
    "\n",
    "    #append the accuracies to the list of all of them.\n",
    "    accuracies.append(accuracy_score(y_test_cv, y_hat_cv))\n",
    "    print('Criterion:',criterion_parameter[index], '\\ Accuracy:',accuracies[index])\n",
    "\n",
    "#print(accuracies)\n",
    "import numpy as np\n",
    "# pick the best parameter\n",
    "best_paramater = criterion_parameter[np.argmax(accuracies)]\n",
    "print('Best parameter is:',best_paramater)\n",
    "\n",
    "# train the classifier using the best parameter and the whole train set.\n",
    "tuned_clf = KNeighborsClassifier(n_neighbors=best_paramater)\n",
    "tuned_clf.fit(X_train, y_train)\n",
    "\n",
    "# evaluate the accuracy using the unseen test data.\n",
    "score = accuracy_score(y_test, tuned_clf.predict(X_test))\n",
    "print('Accuracy on unseen test data:',score)\n"
   ]
  },
  {
   "cell_type": "markdown",
   "metadata": {},
   "source": [
    "Before you finish here, you can try to run the `SVC` kernel from earlier and find some parameters you could experiment with. "
   ]
  },
  {
   "cell_type": "markdown",
   "metadata": {},
   "source": [
    "##  Learning outcomes\n",
    "- We have learned about creating train and test partititions\n",
    "- We have used a new preprocessing technique, normalistion\n",
    "- We have looked at three different models\n",
    "- We have evaluated those models using accuracy as the scoring function\n",
    "- We have looked at confusion matrices\n",
    "- We have done some parameter experimentation\n",
    "\n"
   ]
  },
  {
   "cell_type": "code",
   "execution_count": null,
   "metadata": {},
   "outputs": [],
   "source": []
  }
 ],
 "metadata": {
  "kernelspec": {
   "display_name": "Python 3",
   "language": "python",
   "name": "python3"
  },
  "language_info": {
   "codemirror_mode": {
    "name": "ipython",
    "version": 3
   },
   "file_extension": ".py",
   "mimetype": "text/x-python",
   "name": "python",
   "nbconvert_exporter": "python",
   "pygments_lexer": "ipython3",
   "version": "3.8.5"
  }
 },
 "nbformat": 4,
 "nbformat_minor": 2
}
