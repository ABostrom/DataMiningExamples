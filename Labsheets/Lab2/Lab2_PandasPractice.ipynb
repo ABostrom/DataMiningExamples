{
 "cells": [
  {
   "cell_type": "markdown",
   "metadata": {},
   "source": [
    "# Lab 1: practice what you learned\n",
    "\n",
    "Now that you have learned the basics of data frames and pandas, you will use this to load and explore a new data file.  We will work with the adult data which you can obtain from the Kaggle repository: https://www.kaggle.com/wenruliu/adult-income-dataset\n",
    "\n",
    "The first step is to import the libraries you will need for your work.  Insert your code to load the libraries in the code cell below: "
   ]
  },
  {
   "cell_type": "code",
   "execution_count": null,
   "metadata": {},
   "outputs": [],
   "source": []
  },
  {
   "cell_type": "markdown",
   "metadata": {},
   "source": [
    "## Read the data \n",
    "\n",
    "Now you need to specify the path for the file, which you have previously downloaded: "
   ]
  },
  {
   "cell_type": "code",
   "execution_count": null,
   "metadata": {},
   "outputs": [],
   "source": []
  },
  {
   "cell_type": "markdown",
   "metadata": {},
   "source": [
    "Once you inspect the data you will The columns are: \"age\", \"workclass\", \"fnlwgt\", \"education\",  \"educational-num\",\"marital_status\", \"occupation\", \"relationship\", \"race\", \"gender\",\"capital-gain\", \"capital-loss\", \"hours-per-week\", \"native-country\",\"income\".\n",
    "\n"
   ]
  },
  {
   "cell_type": "markdown",
   "metadata": {},
   "source": [
    "You may wish to specified now two separate lists, one which contains the __categorical columns__, and one which contains the __numeric columns__ of interest. Note that we can exclude some columns (e.g. \"fnlwgt\" by not adding them to the array below).  This is not necessary for loading the data but may help when you are applying particular operations to each type of column.  The categorical columns of interest are: \"workclass\", \"education\", \"marital-status\", \"occupation\",\"relationship\", \"race\", \"gender\", \"native-country\".  The numeric columns are: \"age\", \"education-num\", \"capital-gain\", \"capital-loss\", \"hours-per-week\"."
   ]
  },
  {
   "cell_type": "code",
   "execution_count": null,
   "metadata": {},
   "outputs": [],
   "source": []
  },
  {
   "cell_type": "markdown",
   "metadata": {},
   "source": [
    "Now you are ready to read the data into the data frame _Adult_data_.  "
   ]
  },
  {
   "cell_type": "code",
   "execution_count": null,
   "metadata": {},
   "outputs": [],
   "source": []
  },
  {
   "cell_type": "markdown",
   "metadata": {},
   "source": [
    "Check the data that you read, in particular find out how many records and columns there are in the dataset. Check the first and last few rows to ensure the data is being read correctly.  "
   ]
  },
  {
   "cell_type": "code",
   "execution_count": null,
   "metadata": {},
   "outputs": [],
   "source": []
  },
  {
   "cell_type": "markdown",
   "metadata": {},
   "source": [
    "## Accesing the data\n",
    "\n",
    "We will focus on the training data for some exploration. Practice now accessing a few columns.  For example, start by accessing the column containing __education__."
   ]
  },
  {
   "cell_type": "code",
   "execution_count": null,
   "metadata": {},
   "outputs": [],
   "source": []
  },
  {
   "cell_type": "markdown",
   "metadata": {},
   "source": [
    "Now access the all of the rows but only the __relationship, gender__ and __income_bracket__ columns.\n"
   ]
  },
  {
   "cell_type": "code",
   "execution_count": null,
   "metadata": {},
   "outputs": [],
   "source": []
  },
  {
   "cell_type": "markdown",
   "metadata": {},
   "source": [
    "Now, access the first 5 rows for the 3th column, __education__."
   ]
  },
  {
   "cell_type": "code",
   "execution_count": null,
   "metadata": {},
   "outputs": [],
   "source": []
  },
  {
   "cell_type": "markdown",
   "metadata": {},
   "source": [
    "Let us do some conditional selection.  Select only those with the higher salaries, >50K and with __relationship__ _'Husband'_. How many rows are there? "
   ]
  },
  {
   "cell_type": "code",
   "execution_count": null,
   "metadata": {},
   "outputs": [],
   "source": []
  },
  {
   "cell_type": "markdown",
   "metadata": {},
   "source": [
    "## Summary statistics \n",
    "\n",
    "Let us now attempt to describe all our attributes. Start by describing some attributes, for example the categorical attribute __education__ and then the numeric attribute __education_number__. What kind of information do you get from the `describe()` function for a categorical attribute?  What about for a numeric attribute? "
   ]
  },
  {
   "cell_type": "code",
   "execution_count": null,
   "metadata": {},
   "outputs": [],
   "source": []
  },
  {
   "cell_type": "code",
   "execution_count": null,
   "metadata": {},
   "outputs": [],
   "source": []
  },
  {
   "cell_type": "markdown",
   "metadata": {},
   "source": [
    "Try to find the mean for the capital-gain atribute using the `mean()` function. "
   ]
  },
  {
   "cell_type": "code",
   "execution_count": null,
   "metadata": {},
   "outputs": [],
   "source": []
  },
  {
   "cell_type": "markdown",
   "metadata": {},
   "source": [
    "What are the unique values in the __education__ attribute? How many occurrences of each are there in the dataset? Which are the most and least frequent?"
   ]
  },
  {
   "cell_type": "code",
   "execution_count": null,
   "metadata": {},
   "outputs": [],
   "source": []
  },
  {
   "cell_type": "code",
   "execution_count": null,
   "metadata": {},
   "outputs": [],
   "source": []
  },
  {
   "cell_type": "markdown",
   "metadata": {},
   "source": [
    "## Creating a data dictionary\n",
    "\n",
    "### Numeric variables\n",
    "\n",
    "Let us know collect all of the statistics for all of the attribute plus some initial visualisations to show us the characteristics of each attribute.  First, try you use the `describe()` function but apply it to all of the numeric columns of interest so that you end up with a data frame that has the as columns the attributes and as rows the different values returned by `describe()`, e.g. count, mean, etc.\n"
   ]
  },
  {
   "cell_type": "code",
   "execution_count": null,
   "metadata": {},
   "outputs": [],
   "source": []
  },
  {
   "cell_type": "markdown",
   "metadata": {},
   "source": [
    "We can add even more information to it.  Calculate also the median and total number of null values for each attribute and add them to the Data Frame you created for the stats. (Hint: for this you can use `median()` and `isnull().sum`."
   ]
  },
  {
   "cell_type": "code",
   "execution_count": null,
   "metadata": {},
   "outputs": [],
   "source": []
  },
  {
   "cell_type": "markdown",
   "metadata": {},
   "source": [
    "### Visualisations to show distributions for each numeric variable\n",
    "\n",
    "Now, let us produce a visualisation for each of those attributes that enable us to see the distribution, but also using the target attribute to contrast the distributions for the different labels.  First we need to divide the data into two data frames one for the records with _High_ income (>50K) and one for those with _Low_ income (<=50K). Remember that you can do conditional selects.  "
   ]
  },
  {
   "cell_type": "code",
   "execution_count": null,
   "metadata": {},
   "outputs": [],
   "source": []
  },
  {
   "cell_type": "markdown",
   "metadata": {},
   "source": [
    "Now, let us use a __kde plot__, just as we did in the first part of the lab to show the distribution of an attribute, using colour shading to contrast distributions for each target income. Remember, this can be done by doing one plot after another for the  (>50K) and  (<=50K) data frames. Let us do this for the attribute _educational-num_ and make sure you add a title and a legend to your graph. What does it tell you about the differences in education for each income group?"
   ]
  },
  {
   "cell_type": "code",
   "execution_count": null,
   "metadata": {},
   "outputs": [],
   "source": []
  },
  {
   "cell_type": "markdown",
   "metadata": {},
   "source": [
    "Now, let us try the same but we will do the graphs for every numeric attribute in succession, just as we generated the descriptive statistics for each attribute.  To make sure that all your graphs do not merge into one you can use the ` plt.figure()` method before you plot the graph for a particular attribute. Your plots should still include a title and legend.  You can save each plot in the working directory as a figure too if you wish.  For this, you can use the  `plt.savefig('Name of graph'+'.jpg')` to produce the .jpg in the working directory.  "
   ]
  },
  {
   "cell_type": "code",
   "execution_count": null,
   "metadata": {},
   "outputs": [],
   "source": [
    " "
   ]
  },
  {
   "cell_type": "markdown",
   "metadata": {},
   "source": [
    "You can even plot all of the figures together as subplots. "
   ]
  },
  {
   "cell_type": "code",
   "execution_count": null,
   "metadata": {},
   "outputs": [],
   "source": []
  },
  {
   "cell_type": "markdown",
   "metadata": {},
   "source": [
    "This graphs show what we may call one-way analysis when we look at the effect of each variable on the target variable.  What have you learned from the data by looking at those?  "
   ]
  },
  {
   "cell_type": "markdown",
   "metadata": {},
   "source": [
    "### Categorical variables\n",
    "\n",
    "Now we do similar statistics and visualisations for the categorical variables.  Again, we use the `describe()` function and apply it to all of the  categorical columns so that we end up with a data frame that has the as columns the attributes and as rows the different values returned by `describe()`, e.g. count, unique, etc.  We can optionally add for the categorical variables also how many missing values, plus the list of unique values in each column or attribute. \n",
    "\n"
   ]
  },
  {
   "cell_type": "code",
   "execution_count": null,
   "metadata": {},
   "outputs": [],
   "source": []
  },
  {
   "cell_type": "markdown",
   "metadata": {},
   "source": [
    "### Visualisations to show distributions for each categorical  variable\n",
    "\n",
    "Now, we will produce countplots to show distribution of values for categorical variables.  We can add the __income__ attribute through the _hue_ parameter to contrast the distributions for the different labels.   In the previous exercise we did not see so much about visualisation of categorical variables but you can find some help here: https://seaborn.pydata.org/generated/seaborn.countplot.html#seaborn.countplot.  The first thing we may want is a `sns.countplot` to show the distribution of, say, __gender__.  Countplots only require you to specify the values for the x_axis (if you are happy with a horizontal plot).  Make sure you use the   `hue='income` parameter to ensure distribution for both labels are shown.  You can experiment with plot size through the `plt.figure(figsize=(length,width))` parameter by chaging the values length and width."
   ]
  },
  {
   "cell_type": "code",
   "execution_count": null,
   "metadata": {},
   "outputs": [],
   "source": []
  },
  {
   "cell_type": "markdown",
   "metadata": {},
   "source": [
    "The plot can be changed to be a vertical plot by specifying gender to be the y-axis (no x-axis).  Try it. "
   ]
  },
  {
   "cell_type": "code",
   "execution_count": null,
   "metadata": {},
   "outputs": [],
   "source": []
  },
  {
   "cell_type": "markdown",
   "metadata": {},
   "source": [
    "Not let's do the plots for every categorical variable, as we did before for every numeric variable.  When you have done so, you may notice some of them have many categories and the labels are squashed in the graph.  You could turn the labels vertically with ` plt.xticks(rotation=90) ` if you have a horizontal bar graph. "
   ]
  },
  {
   "cell_type": "code",
   "execution_count": null,
   "metadata": {},
   "outputs": [],
   "source": []
  },
  {
   "cell_type": "markdown",
   "metadata": {},
   "source": [
    "Again, what can we learn from those plots in terms of the relationship between various categorical variables and income levels? "
   ]
  },
  {
   "cell_type": "code",
   "execution_count": null,
   "metadata": {},
   "outputs": [],
   "source": []
  },
  {
   "cell_type": "markdown",
   "metadata": {},
   "source": [
    "## Further Visualisations: relationships within 2 or more variables\n",
    "\n",
    "As the final part of our lab, let us explore further visualisations that explore two or more variables and their relationship to the target variable.  For example, we could try a violin plot (see https://seaborn.pydata.org/generated/seaborn.violinplot.html#seaborn.violinplot) showing __gender__ in the x-axis and __age__ in the y-axis, with the income represented by the hue.  What does it tell us?"
   ]
  },
  {
   "cell_type": "code",
   "execution_count": null,
   "metadata": {},
   "outputs": [],
   "source": [
    " "
   ]
  },
  {
   "cell_type": "markdown",
   "metadata": {},
   "source": [
    "Or alternatively try the same as a box or boxen plot and compare them.  Which is visually more informative? "
   ]
  },
  {
   "cell_type": "code",
   "execution_count": null,
   "metadata": {},
   "outputs": [],
   "source": [
    " "
   ]
  },
  {
   "cell_type": "markdown",
   "metadata": {},
   "source": [
    "Insert a scatterplot if __relationship__ against __education__. Help can be found here (https://seaborn.pydata.org/generated/seaborn.catplot.html#seaborn.catplot) Play with the height and aspect to make it look right.  What do you learn about the data? Are there particular combinations that have a high concentration of high earners? "
   ]
  },
  {
   "cell_type": "code",
   "execution_count": null,
   "metadata": {},
   "outputs": [],
   "source": []
  },
  {
   "cell_type": "markdown",
   "metadata": {},
   "source": [
    "Perhaps look at __education__ against __capital-gain__ with a scatterplot.  What do you discover? "
   ]
  },
  {
   "cell_type": "code",
   "execution_count": null,
   "metadata": {},
   "outputs": [],
   "source": []
  },
  {
   "cell_type": "markdown",
   "metadata": {},
   "source": [
    "Or try the same variables, __education__ against __capital-gain__ but using a barplot."
   ]
  },
  {
   "cell_type": "code",
   "execution_count": null,
   "metadata": {},
   "outputs": [],
   "source": [
    " "
   ]
  },
  {
   "cell_type": "markdown",
   "metadata": {},
   "source": [
    "# All done!!!\n",
    "\n",
    "You have experimented with how to start building data dictionaries, how to use various visualisations to discover relationships between the data in the exploratory face of the project and more!"
   ]
  },
  {
   "cell_type": "code",
   "execution_count": null,
   "metadata": {},
   "outputs": [],
   "source": []
  }
 ],
 "metadata": {
  "celltoolbar": "Raw Cell Format",
  "kernelspec": {
   "display_name": "Python 3",
   "language": "python",
   "name": "python3"
  },
  "language_info": {
   "codemirror_mode": {
    "name": "ipython",
    "version": 3
   },
   "file_extension": ".py",
   "mimetype": "text/x-python",
   "name": "python",
   "nbconvert_exporter": "python",
   "pygments_lexer": "ipython3",
   "version": "3.8.5"
  }
 },
 "nbformat": 4,
 "nbformat_minor": 4
}
