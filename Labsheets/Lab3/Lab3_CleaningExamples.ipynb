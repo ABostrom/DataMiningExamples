{
 "cells": [
  {
   "cell_type": "markdown",
   "metadata": {},
   "source": [
    "# Lab 2: cleaning operations\n",
    "In this lab, we will practice what we learned in the lectures about sampling, outlier detection, balancing and missing data handling.  We will do this again by looking at the Iris dataset although we will provide you with slightly altered examples that contain missing data, outliers, etc so you can see how to deal with the various aspects we are learning.  You can then practice further by applying similar operations to another dataset.  \n",
    "\n",
    "We assume you now know how to use Jupyter Notebooks and you have practiced what we learned in the first lab about loading data using Pandas, Visualisations using Seaborn, etc.  We recommend that you have looked at the Kaggle courses for data cleaning https://www.kaggle.com/learn/data-cleaning and introduction to machine learning https://www.kaggle.com/learn/intro-to-machine-learning before you attempt this lab."
   ]
  },
  {
   "cell_type": "markdown",
   "metadata": {},
   "source": [
    "## Starting out: loading data and libraries\n",
    "\n",
    "We begin by loading the necessary libraries for the work we are going to do in this lab. "
   ]
  },
  {
   "cell_type": "code",
   "execution_count": 1,
   "metadata": {},
   "outputs": [
    {
     "name": "stdout",
     "output_type": "stream",
     "text": [
      "Vis setup Complete\n",
      "Setup complete.\n"
     ]
    }
   ],
   "source": [
    "import pandas as pd\n",
    "import numpy as np\n",
    "pd.set_option('max_rows', 10)\n",
    "pd.plotting.register_matplotlib_converters()\n",
    "import matplotlib.pyplot as plt\n",
    "%matplotlib inline\n",
    "import seaborn as sns\n",
    "from sklearn.metrics import mean_absolute_error\n",
    "from sklearn.model_selection import train_test_split\n",
    "from sklearn.tree import DecisionTreeRegressor\n",
    "print(\"Vis setup Complete\")\n",
    "print(\"Setup complete.\")"
   ]
  },
  {
   "cell_type": "markdown",
   "metadata": {},
   "source": [
    "Now we read the Iris data which we can use to exemplify various operations.  We first load the data, and we use a `sns.countplot` to understand the distribution of the target variable _species_.  Note that in the original dataset the classes are balanced with 50 examples each.  You may need to alter the path below to the path where you have stored the Iris dataset."
   ]
  },
  {
   "cell_type": "code",
   "execution_count": 2,
   "metadata": {},
   "outputs": [
    {
     "name": "stdout",
     "output_type": "stream",
     "text": [
      "   sepal_length  sepal_width  petal_length  petal_width species\n",
      "0           5.1          3.5           1.4          0.2  setosa\n",
      "1           4.9          3.0           1.4          0.2  setosa\n",
      "2           4.7          3.2           1.3          0.2  setosa\n",
      "3           4.6          3.1           1.5          0.2  setosa\n",
      "4           5.0          3.6           1.4          0.2  setosa\n",
      "     sepal_length  sepal_width  petal_length  petal_width    species\n",
      "145           6.7          3.0           5.2          2.3  virginica\n",
      "146           6.3          2.5           5.0          1.9  virginica\n",
      "147           6.5          3.0           5.2          2.0  virginica\n",
      "148           6.2          3.4           5.4          2.3  virginica\n",
      "149           5.9          3.0           5.1          1.8  virginica\n"
     ]
    },
    {
     "data": {
      "text/plain": [
       "<AxesSubplot:xlabel='species', ylabel='count'>"
      ]
     },
     "execution_count": 2,
     "metadata": {},
     "output_type": "execute_result"
    },
    {
     "data": {
      "image/png": "[encoded data removed]",
      "text/plain": [
       "<Figure size 432x288 with 1 Axes>"
      ]
     },
     "metadata": {
      "needs_background": "light"
     },
     "output_type": "display_data"
    }
   ],
   "source": [
    "#designate the path where you saved your Iris data\n",
    "Iris_data_path = \"../Datasets/iris.csv\"\n",
    "\n",
    "#Load the data using pandas read_csv function. \n",
    "Iris_data = pd.read_csv(Iris_data_path)\n",
    "\n",
    "#Show the first and last few records to check data is loading correctly\n",
    "print(Iris_data.head())\n",
    "print(Iris_data.tail())\n",
    "\n",
    "#Show distribution of the class on whole dataset\n",
    "sns.countplot(x= 'species', data=Iris_data)"
   ]
  },
  {
   "cell_type": "markdown",
   "metadata": {},
   "source": [
    "# Designate input and output variables\n",
    "\n",
    "As we begin looking at classification tasks, it is often the case that for the purposes of running models, etc., we often set the target variable as y, in our case the _species_ variable, and the other input variables as X. We do that next. We then observe the data in X using the `describe()` method on the data frame containing the input variables."
   ]
  },
  {
   "cell_type": "code",
   "execution_count": 3,
   "metadata": {},
   "outputs": [],
   "source": [
    "#Designate the outcome or target variable as y\n",
    "y = Iris_data.species"
   ]
  },
  {
   "cell_type": "code",
   "execution_count": 4,
   "metadata": {},
   "outputs": [],
   "source": [
    "#Designate the input features as X\n",
    "iris_features=['sepal_length', 'sepal_width','petal_length','petal_width']\n",
    "X= Iris_data[iris_features]\n"
   ]
  },
  {
   "cell_type": "code",
   "execution_count": 5,
   "metadata": {},
   "outputs": [
    {
     "data": {
      "text/html": [
       "<div>\n",
       "<style scoped>\n",
       "    .dataframe tbody tr th:only-of-type {\n",
       "        vertical-align: middle;\n",
       "    }\n",
       "\n",
       "    .dataframe tbody tr th {\n",
       "        vertical-align: top;\n",
       "    }\n",
       "\n",
       "    .dataframe thead th {\n",
       "        text-align: right;\n",
       "    }\n",
       "</style>\n",
       "<table border=\"1\" class=\"dataframe\">\n",
       "  <thead>\n",
       "    <tr style=\"text-align: right;\">\n",
       "      <th></th>\n",
       "      <th>sepal_length</th>\n",
       "      <th>sepal_width</th>\n",
       "      <th>petal_length</th>\n",
       "      <th>petal_width</th>\n",
       "    </tr>\n",
       "  </thead>\n",
       "  <tbody>\n",
       "    <tr>\n",
       "      <th>count</th>\n",
       "      <td>150.000000</td>\n",
       "      <td>150.000000</td>\n",
       "      <td>150.000000</td>\n",
       "      <td>150.000000</td>\n",
       "    </tr>\n",
       "    <tr>\n",
       "      <th>mean</th>\n",
       "      <td>5.843333</td>\n",
       "      <td>3.054000</td>\n",
       "      <td>3.758667</td>\n",
       "      <td>1.198667</td>\n",
       "    </tr>\n",
       "    <tr>\n",
       "      <th>std</th>\n",
       "      <td>0.828066</td>\n",
       "      <td>0.433594</td>\n",
       "      <td>1.764420</td>\n",
       "      <td>0.763161</td>\n",
       "    </tr>\n",
       "    <tr>\n",
       "      <th>min</th>\n",
       "      <td>4.300000</td>\n",
       "      <td>2.000000</td>\n",
       "      <td>1.000000</td>\n",
       "      <td>0.100000</td>\n",
       "    </tr>\n",
       "    <tr>\n",
       "      <th>25%</th>\n",
       "      <td>5.100000</td>\n",
       "      <td>2.800000</td>\n",
       "      <td>1.600000</td>\n",
       "      <td>0.300000</td>\n",
       "    </tr>\n",
       "    <tr>\n",
       "      <th>50%</th>\n",
       "      <td>5.800000</td>\n",
       "      <td>3.000000</td>\n",
       "      <td>4.350000</td>\n",
       "      <td>1.300000</td>\n",
       "    </tr>\n",
       "    <tr>\n",
       "      <th>75%</th>\n",
       "      <td>6.400000</td>\n",
       "      <td>3.300000</td>\n",
       "      <td>5.100000</td>\n",
       "      <td>1.800000</td>\n",
       "    </tr>\n",
       "    <tr>\n",
       "      <th>max</th>\n",
       "      <td>7.900000</td>\n",
       "      <td>4.400000</td>\n",
       "      <td>6.900000</td>\n",
       "      <td>2.500000</td>\n",
       "    </tr>\n",
       "  </tbody>\n",
       "</table>\n",
       "</div>"
      ],
      "text/plain": [
       "       sepal_length  sepal_width  petal_length  petal_width\n",
       "count    150.000000   150.000000    150.000000   150.000000\n",
       "mean       5.843333     3.054000      3.758667     1.198667\n",
       "std        0.828066     0.433594      1.764420     0.763161\n",
       "min        4.300000     2.000000      1.000000     0.100000\n",
       "25%        5.100000     2.800000      1.600000     0.300000\n",
       "50%        5.800000     3.000000      4.350000     1.300000\n",
       "75%        6.400000     3.300000      5.100000     1.800000\n",
       "max        7.900000     4.400000      6.900000     2.500000"
      ]
     },
     "execution_count": 5,
     "metadata": {},
     "output_type": "execute_result"
    }
   ],
   "source": [
    "X.describe()"
   ]
  },
  {
   "cell_type": "markdown",
   "metadata": {},
   "source": [
    "# Sampling the data (train & validation split)\n",
    "\n",
    "Now, let us do some sampling to start with.  This is necessary before running any machine learning algorithms and in its simplest form, consists of randomly partitioning the data into a train/validation or train/test or train/validation/test set.   We begin with a train and validation/test dataset.  In our first example, we create those without using any stratification.  We can specify the size of the test/validation set with the parameter `test_size= x`.  The training set size will be the compliment of this, so if we use for example 0.3, then 30% of the data will end up in the validation set and the remaining 70% in the train set.  For this we need the `train_test_split` from scikitlearn.  The method returns a number of splits for the train and validation/test input data and the train and validation target variable, given input variables (X) and decision variable (y). The `random_state=1` parameter ensures reproducibility of results as it controls the shuffling of the data before partition.  Passing an integer gives you a reproducible split.\n",
    "\n",
    "You can experiment with different train/validation splits by altering the `test_size` parameter.\n",
    " "
   ]
  },
  {
   "cell_type": "code",
   "execution_count": 6,
   "metadata": {},
   "outputs": [],
   "source": [
    "from sklearn.model_selection import train_test_split\n",
    "\n",
    "# Without stratification\n",
    "train_X,val_X, train_y, val_y= train_test_split (X,y, test_size=0.2,random_state=1)\n"
   ]
  },
  {
   "cell_type": "code",
   "execution_count": 7,
   "metadata": {},
   "outputs": [
    {
     "data": {
      "text/html": [
       "<div>\n",
       "<style scoped>\n",
       "    .dataframe tbody tr th:only-of-type {\n",
       "        vertical-align: middle;\n",
       "    }\n",
       "\n",
       "    .dataframe tbody tr th {\n",
       "        vertical-align: top;\n",
       "    }\n",
       "\n",
       "    .dataframe thead th {\n",
       "        text-align: right;\n",
       "    }\n",
       "</style>\n",
       "<table border=\"1\" class=\"dataframe\">\n",
       "  <thead>\n",
       "    <tr style=\"text-align: right;\">\n",
       "      <th></th>\n",
       "      <th>sepal_length</th>\n",
       "      <th>sepal_width</th>\n",
       "      <th>petal_length</th>\n",
       "      <th>petal_width</th>\n",
       "    </tr>\n",
       "  </thead>\n",
       "  <tbody>\n",
       "    <tr>\n",
       "      <th>count</th>\n",
       "      <td>120.000000</td>\n",
       "      <td>120.000000</td>\n",
       "      <td>120.000000</td>\n",
       "      <td>120.000000</td>\n",
       "    </tr>\n",
       "    <tr>\n",
       "      <th>mean</th>\n",
       "      <td>5.838333</td>\n",
       "      <td>3.015000</td>\n",
       "      <td>3.810833</td>\n",
       "      <td>1.218333</td>\n",
       "    </tr>\n",
       "    <tr>\n",
       "      <th>std</th>\n",
       "      <td>0.832752</td>\n",
       "      <td>0.417002</td>\n",
       "      <td>1.770951</td>\n",
       "      <td>0.777843</td>\n",
       "    </tr>\n",
       "    <tr>\n",
       "      <th>min</th>\n",
       "      <td>4.300000</td>\n",
       "      <td>2.000000</td>\n",
       "      <td>1.000000</td>\n",
       "      <td>0.100000</td>\n",
       "    </tr>\n",
       "    <tr>\n",
       "      <th>25%</th>\n",
       "      <td>5.100000</td>\n",
       "      <td>2.800000</td>\n",
       "      <td>1.600000</td>\n",
       "      <td>0.300000</td>\n",
       "    </tr>\n",
       "    <tr>\n",
       "      <th>50%</th>\n",
       "      <td>5.800000</td>\n",
       "      <td>3.000000</td>\n",
       "      <td>4.350000</td>\n",
       "      <td>1.300000</td>\n",
       "    </tr>\n",
       "    <tr>\n",
       "      <th>75%</th>\n",
       "      <td>6.400000</td>\n",
       "      <td>3.300000</td>\n",
       "      <td>5.125000</td>\n",
       "      <td>1.800000</td>\n",
       "    </tr>\n",
       "    <tr>\n",
       "      <th>max</th>\n",
       "      <td>7.700000</td>\n",
       "      <td>4.400000</td>\n",
       "      <td>6.900000</td>\n",
       "      <td>2.500000</td>\n",
       "    </tr>\n",
       "  </tbody>\n",
       "</table>\n",
       "</div>"
      ],
      "text/plain": [
       "       sepal_length  sepal_width  petal_length  petal_width\n",
       "count    120.000000   120.000000    120.000000   120.000000\n",
       "mean       5.838333     3.015000      3.810833     1.218333\n",
       "std        0.832752     0.417002      1.770951     0.777843\n",
       "min        4.300000     2.000000      1.000000     0.100000\n",
       "25%        5.100000     2.800000      1.600000     0.300000\n",
       "50%        5.800000     3.000000      4.350000     1.300000\n",
       "75%        6.400000     3.300000      5.125000     1.800000\n",
       "max        7.700000     4.400000      6.900000     2.500000"
      ]
     },
     "execution_count": 7,
     "metadata": {},
     "output_type": "execute_result"
    }
   ],
   "source": [
    "#Let's look into the contents of the training input data.\n",
    "train_X.describe()\n"
   ]
  },
  {
   "cell_type": "code",
   "execution_count": 8,
   "metadata": {},
   "outputs": [
    {
     "name": "stdout",
     "output_type": "stream",
     "text": [
      "count           120\n",
      "unique            3\n",
      "top       virginica\n",
      "freq             44\n",
      "Name: species, dtype: object\n"
     ]
    },
    {
     "data": {
      "image/png": "[encoded data removed]",
      "text/plain": [
       "<Figure size 432x288 with 1 Axes>"
      ]
     },
     "metadata": {
      "needs_background": "light"
     },
     "output_type": "display_data"
    }
   ],
   "source": [
    "# And now look at the training set target variable\n",
    "print(train_y.describe())\n",
    "train_labels=train_y.to_frame()\n",
    "sns.countplot(x='species',data=train_labels)\n",
    "plt.show()"
   ]
  },
  {
   "cell_type": "code",
   "execution_count": 9,
   "metadata": {},
   "outputs": [
    {
     "name": "stdout",
     "output_type": "stream",
     "text": [
      "count             30\n",
      "unique             3\n",
      "top       versicolor\n",
      "freq              13\n",
      "Name: species, dtype: object\n"
     ]
    },
    {
     "data": {
      "image/png": "[encoded data removed]",
      "text/plain": [
       "<Figure size 432x288 with 1 Axes>"
      ]
     },
     "metadata": {
      "needs_background": "light"
     },
     "output_type": "display_data"
    }
   ],
   "source": [
    "# And at the validation set target variable\n",
    "print(val_y.describe())\n",
    "val_labels=val_y.to_frame()\n",
    "sns.countplot(x='species',data=val_labels)\n",
    "plt.show()"
   ]
  },
  {
   "cell_type": "markdown",
   "metadata": {},
   "source": [
    "### Samplying with stratification \n",
    "\n",
    "Note that our random split of the data should guarantee a similar number of instances of each class end up in the train and validation set, so if we start with balanced data we should have balanced samples.  However, if we want to ensure that, we can use stratification in the sampling.  We can use stratification on the target variable _'species'_ so that we get a Stratified Random Sample. "
   ]
  },
  {
   "cell_type": "code",
   "execution_count": 10,
   "metadata": {},
   "outputs": [],
   "source": [
    "#With stratification\n",
    "train_X,val_X, train_y, val_y= train_test_split (X,y, test_size=0.3,random_state=1, stratify=y)"
   ]
  },
  {
   "cell_type": "code",
   "execution_count": 11,
   "metadata": {},
   "outputs": [
    {
     "name": "stdout",
     "output_type": "stream",
     "text": [
      "count           105\n",
      "unique            3\n",
      "top       virginica\n",
      "freq             35\n",
      "Name: species, dtype: object\n"
     ]
    },
    {
     "data": {
      "image/png": "[encoded data removed]",
      "text/plain": [
       "<Figure size 432x288 with 1 Axes>"
      ]
     },
     "metadata": {
      "needs_background": "light"
     },
     "output_type": "display_data"
    }
   ],
   "source": [
    "# We show the composition of the target variable for the validation set\n",
    "print(train_y.describe())\n",
    "train_labels=train_y.to_frame()\n",
    "sns.countplot(x='species',data=train_labels)\n",
    "plt.show()\n",
    "\n"
   ]
  },
  {
   "cell_type": "code",
   "execution_count": 12,
   "metadata": {},
   "outputs": [
    {
     "name": "stdout",
     "output_type": "stream",
     "text": [
      "count             45\n",
      "unique             3\n",
      "top       versicolor\n",
      "freq              15\n",
      "Name: species, dtype: object\n"
     ]
    },
    {
     "data": {
      "image/png": "[encoded data removed]",
      "text/plain": [
       "<Figure size 432x288 with 1 Axes>"
      ]
     },
     "metadata": {
      "needs_background": "light"
     },
     "output_type": "display_data"
    }
   ],
   "source": [
    "# And at the validation set target variable\n",
    "print(val_y.describe())\n",
    "val_labels=val_y.to_frame()\n",
    "sns.countplot(x='species',data=val_labels)\n",
    "plt.show()"
   ]
  },
  {
   "cell_type": "markdown",
   "metadata": {},
   "source": [
    "# Reducing sample size\n",
    "In the lectures we have also talked about using sampling to reduce the dataset size.  The Condensed Nearest Neighbour (CNN) algorithm tries to do while preserving the necesary information for classification so we will try it out here.   We need to import  `CondensedNearestNeighbour` from a library that implements a number of algorithms for imbalanced learning, for which this algorithm can also be used. The library where you can find more methods for imbalanced learning is https://imbalanced-learn.org/stable/.  Note that you may need to get this package into Anaconda. Information on how to do this can be found here https://imbalanced-learn.org/stable/install.html"
   ]
  },
  {
   "cell_type": "code",
   "execution_count": 13,
   "metadata": {},
   "outputs": [
    {
     "name": "stdout",
     "output_type": "stream",
     "text": [
      "Automatically created module for IPython interactive environment\n",
      "   sepal_length  sepal_width  petal_length  petal_width\n",
      "0           4.4          3.0           1.3          0.2\n",
      "1           6.0          2.9           4.5          1.5\n",
      "2           5.1          2.5           3.0          1.1\n",
      "3           5.8          2.8           5.1          2.4\n",
      "0        setosa\n",
      "1    versicolor\n",
      "2    versicolor\n",
      "3     virginica\n",
      "Name: species, dtype: object\n",
      "0        setosa\n",
      "1    versicolor\n",
      "2    versicolor\n",
      "3     virginica\n",
      "Name: species, dtype: object\n"
     ]
    },
    {
     "data": {
      "image/png": "[encoded data removed]",
      "text/plain": [
       "<Figure size 432x288 with 1 Axes>"
      ]
     },
     "metadata": {
      "needs_background": "light"
     },
     "output_type": "display_data"
    }
   ],
   "source": [
    "from imblearn.under_sampling import CondensedNearestNeighbour\n",
    "\n",
    "print(__doc__)\n",
    "\n",
    "#We use the CNN algorithm to sample data \n",
    "# the 'all' parameter below means we resample all classes equally. \n",
    "#We could use this to resample more of the majority or minority classes.\n",
    "cnn = CondensedNearestNeighbour(sampling_strategy='all',random_state=42) \n",
    "X_res, y_res = cnn.fit_resample(X, y) \n",
    "print(X_res)\n",
    "print (y_res)\n",
    "\n",
    "#The return of the fit_resample method are arrays so we convert back to a data frame to apply a countplot.\n",
    "val_labels=y_res.to_frame()\n",
    "print(val_labels.species)\n",
    "sns.countplot(x='species',data=val_labels)\n",
    "plt.show()"
   ]
  },
  {
   "cell_type": "markdown",
   "metadata": {},
   "source": [
    "To fully understand how this algorithm works we can visualise the original data and superimpose in that scatterplot one that shows the data chosen by this algorithm.  We can see that the example returned is indeed very compact. The points highlighted by the dark markers are those selected by the CNN sampling algorithm."
   ]
  },
  {
   "cell_type": "code",
   "execution_count": 14,
   "metadata": {},
   "outputs": [
    {
     "data": {
      "image/png": "[encoded data removed]",
      "text/plain": [
       "<Figure size 432x288 with 1 Axes>"
      ]
     },
     "metadata": {
      "needs_background": "light"
     },
     "output_type": "display_data"
    }
   ],
   "source": [
    "#In the visualisation below we superimpose a plot of all the iris data to the one returned in X_res after the sampling\n",
    "sns.scatterplot(x=X_res['petal_width'], y=X_res['petal_length'], style=val_labels.species,color=\".2\", marker=\"+\")\n",
    "sns.scatterplot(x=Iris_data['petal_width'], s= 10,y=Iris_data['petal_length'],hue=Iris_data.species)\n",
    "# Put the legend out of the figure\n",
    "plt.legend(bbox_to_anchor=(1.05, 1), loc=2, borderaxespad=0.)\n",
    "plt.show()"
   ]
  },
  {
   "cell_type": "markdown",
   "metadata": {},
   "source": [
    "We can appreciate that only 4 points from the original data have been sampled, one for _setosa_, and for _virginica_ and two for _versicolor_."
   ]
  },
  {
   "cell_type": "markdown",
   "metadata": {},
   "source": [
    "# Outlier handling\n",
    "\n",
    "Now we turn our attention to outlier handling and we will look at various algorithms for this.  Outlier detection is intrinsicly difficult and more so for high dimensionality datasets.  It is also the case that most algorithms work with numeric attributes so it may be necessary to transform any categorical attributes first into numeric, if they are going to be used.  We have produced a new slightly modified Iris dataset for this by adding 5 outliers at the end of the 150 records in the original data.  You can dowload this file from Blackboard.  The file is __irisOL.csv__. We will load this data and look at the outliers first. "
   ]
  },
  {
   "cell_type": "code",
   "execution_count": 15,
   "metadata": {},
   "outputs": [
    {
     "name": "stdout",
     "output_type": "stream",
     "text": [
      "     sepal_length  sepal_width  petal_length  petal_width     species\n",
      "150           9.0          0.0          13.0          5.0   virginica\n",
      "151           7.0          8.0           1.0          1.0   virginica\n",
      "152           8.0          9.0           0.2          0.3      setosa\n",
      "153           1.0          1.0           1.0          0.3  versicolor\n",
      "154           8.0          9.0           8.0          0.3      setosa\n"
     ]
    }
   ],
   "source": [
    "# load and summarize the dataset\n",
    "# load the new dataset with outliers.\n",
    "\n",
    "#designate the path where you saved your Iris data with outliers\n",
    "Iris_data_path = \"../Datasets/irisOL.csv\"\n",
    "\n",
    "#Load the data using pandas read_csv function. \n",
    "\n",
    "Oulier_Iris = pd.read_csv(Iris_data_path)\n",
    "\n",
    "print(Oulier_Iris.tail())"
   ]
  },
  {
   "cell_type": "markdown",
   "metadata": {},
   "source": [
    "### Box plots\n",
    "For each attribute it is posible to visualise outliers using boxplots.  Wikipedia says _\"In descriptive statistics, a box plot is a method for graphically depicting groups of numerical data through their quartiles. Box plots may also have lines extending vertically from the boxes (whiskers) indicating variability outside the upper and lower quartiles, hence the terms box-and-whisker plot and box-and-whisker diagram. Outliers may be plotted as individual points.\"_ so the points in the graph outside the boxes look like outliers."
   ]
  },
  {
   "cell_type": "code",
   "execution_count": 16,
   "metadata": {},
   "outputs": [
    {
     "data": {
      "image/png": "[encoded data removed]",
      "text/plain": [
       "<Figure size 576x432 with 1 Axes>"
      ]
     },
     "metadata": {
      "needs_background": "light"
     },
     "output_type": "display_data"
    }
   ],
   "source": [
    "plt.figure(figsize=(8,6))\n",
    "sns.boxplot(data=Oulier_Iris)\n",
    "plt.show()"
   ]
  },
  {
   "cell_type": "markdown",
   "metadata": {},
   "source": [
    "Now, we can use a scatterplot to see the outliers we have introduced in the data. There are 5 points which should be quite obvious in the graph. "
   ]
  },
  {
   "cell_type": "code",
   "execution_count": 17,
   "metadata": {},
   "outputs": [
    {
     "data": {
      "text/plain": [
       "<AxesSubplot:xlabel='petal_length', ylabel='petal_width'>"
      ]
     },
     "execution_count": 17,
     "metadata": {},
     "output_type": "execute_result"
    },
    {
     "data": {
      "image/png": "[encoded data removed]",
      "text/plain": [
       "<Figure size 1008x504 with 1 Axes>"
      ]
     },
     "metadata": {
      "needs_background": "light"
     },
     "output_type": "display_data"
    }
   ],
   "source": [
    "# Set the width and height of the figure\n",
    "plt.figure(figsize=(14,7))\n",
    "sns.scatterplot(x=Oulier_Iris['petal_length'], y=Oulier_Iris['petal_width'],hue=Oulier_Iris['species'])"
   ]
  },
  {
   "cell_type": "markdown",
   "metadata": {},
   "source": [
    "Now, let us separate the input features for this new dataset containing the outliers, as we did before for the previous dataset and look at those. "
   ]
  },
  {
   "cell_type": "code",
   "execution_count": 18,
   "metadata": {},
   "outputs": [
    {
     "name": "stdout",
     "output_type": "stream",
     "text": [
      "     sepal_length  sepal_width  petal_length  petal_width\n",
      "0             5.1          3.5           1.4          0.2\n",
      "1             4.9          3.0           1.4          0.2\n",
      "2             4.7          3.2           1.3          0.2\n",
      "3             4.6          3.1           1.5          0.2\n",
      "4             5.0          3.6           1.4          0.2\n",
      "..            ...          ...           ...          ...\n",
      "150           9.0          0.0          13.0          5.0\n",
      "151           7.0          8.0           1.0          1.0\n",
      "152           8.0          9.0           0.2          0.3\n",
      "153           1.0          1.0           1.0          0.3\n",
      "154           8.0          9.0           8.0          0.3\n",
      "\n",
      "[155 rows x 4 columns]\n",
      "0          setosa\n",
      "1          setosa\n",
      "2          setosa\n",
      "3          setosa\n",
      "4          setosa\n",
      "          ...    \n",
      "150     virginica\n",
      "151     virginica\n",
      "152        setosa\n",
      "153    versicolor\n",
      "154        setosa\n",
      "Name: species, Length: 155, dtype: object\n"
     ]
    }
   ],
   "source": [
    "features=['sepal_length','sepal_width','petal_length','petal_width']\n",
    "X=Oulier_Iris[features]\n",
    "#Designate the outcome or target variable as y\n",
    "y = Oulier_Iris.species\n",
    "print(X)\n",
    "print(y)"
   ]
  },
  {
   "cell_type": "markdown",
   "metadata": {},
   "source": [
    "### Clustering with DBScan\n",
    "Let us first try one of the methods described in the following tutorial https://towardsdatascience.com/5-ways-to-detect-outliers-that-every-data-scientist-should-know-python-code-70a54335a623.  It is a clustering algorithm called DBScan. It is used as a density-based anomaly detection method with either single or multi-dimensional data. There are two hyperparameters to set in this algorithm.  The first hyperparameter is `min_samples`. This is simply the minimum number of core points needed in order to form a cluster. The second important hyperparameter is `eps`. `eps` is the maximum distance between two samples for them to be considered as in the same cluster. We print the output of the algorithm and any point that is identified as -1 is an outlier. "
   ]
  },
  {
   "cell_type": "code",
   "execution_count": 19,
   "metadata": {},
   "outputs": [
    {
     "name": "stdout",
     "output_type": "stream",
     "text": [
      "[ 0  0  0  0  0  0  0  0  0  0  0  0  0  0  0  0  0  0  0  0  0  0  0  0\n",
      "  0  0  0  0  0  0  0  0  0  0  0  0  0  0  0  0  0  0  0  0  0  0  0  0\n",
      "  0  0  0  0  0  0  0  0  0  0  0  0  0  0  0  0  0  0  0  0  0  0  0  0\n",
      "  0  0  0  0  0  0  0  0  0  0  0  0  0  0  0  0  0  0  0  0  0  0  0  0\n",
      "  0  0  0  0  0  0  0  0  0  0  0  0  0  0  0  0  0  0  0  0  0  0  0  0\n",
      "  0  0  0  0  0  0  0  0  0  0  0  0  0  0  0  0  0  0  0  0  0  0  0  0\n",
      "  0  0  0  0  0  0 -1 -1 -1 -1 -1]\n",
      "Total number of outliers identified is:  5\n"
     ]
    }
   ],
   "source": [
    "#import the implementation of this algorihm from sklearn\n",
    "from sklearn.cluster import DBSCAN\n",
    "\n",
    "#Use the algorithm for outlier detection, the retun in clusters will show the membership of each point\n",
    "#Any point labelled as -1 is an outlier\n",
    "\n",
    "outlier_detection = DBSCAN(min_samples = 4, eps = 3)\n",
    "clusters = outlier_detection.fit_predict(X)\n",
    "\n",
    "#Count total number of outliers as count of those labelled as -1\n",
    "TotalOutliers=list(clusters).count(-1)\n",
    "print (clusters)\n",
    "print(\"Total number of outliers identified is: \",TotalOutliers)"
   ]
  },
  {
   "cell_type": "markdown",
   "metadata": {},
   "source": [
    "Note that the last 5 points which are the outliers are recognised as such by this algorihtm. The algorithm may not be so good with higher dimensionality data.  Since the identification of those 5 points is what we expect, let us call that the 'ground truth' to use against other algorithms trying to predict the outliers."
   ]
  },
  {
   "cell_type": "code",
   "execution_count": 20,
   "metadata": {},
   "outputs": [
    {
     "name": "stdout",
     "output_type": "stream",
     "text": [
      "Ground truth: \n",
      " [ 0  0  0  0  0  0  0  0  0  0  0  0  0  0  0  0  0  0  0  0  0  0  0  0\n",
      "  0  0  0  0  0  0  0  0  0  0  0  0  0  0  0  0  0  0  0  0  0  0  0  0\n",
      "  0  0  0  0  0  0  0  0  0  0  0  0  0  0  0  0  0  0  0  0  0  0  0  0\n",
      "  0  0  0  0  0  0  0  0  0  0  0  0  0  0  0  0  0  0  0  0  0  0  0  0\n",
      "  0  0  0  0  0  0  0  0  0  0  0  0  0  0  0  0  0  0  0  0  0  0  0  0\n",
      "  0  0  0  0  0  0  0  0  0  0  0  0  0  0  0  0  0  0  0  0  0  0  0  0\n",
      "  0  0  0  0  0  0 -1 -1 -1 -1 -1]\n"
     ]
    }
   ],
   "source": [
    "ground_truth = clusters\n",
    "print (\"Ground truth: \\n\", ground_truth)"
   ]
  },
  {
   "cell_type": "markdown",
   "metadata": {},
   "source": [
    "### Isolation Forest\n",
    "\n",
    "Another algorithm is `IsolationForest`. It is an unsupervised learning algorithm that belongs to the ensemble decision trees family.  You will learn more about this in subsequent lectures. The algorithm is supposed to isolate anomalies instead of profiling and constructing normal points and regions. It takes advantage of the fact that anomalies are the minority data points and that they have attribute-values that are very different from those of normal instances. The paper that describe the algorithm, for those interested in more details is https://cs.nju.edu.cn/zhouzh/zhouzh.files/publication/icdm08b.pdf. \n",
    "\n",
    "Perhaps the most important hyperparameter in the model is the `contamination` argument, which is used to help estimate the number of outliers in the dataset. This is a value between 0.0 and 0.5 and by default is set to 0.1."
   ]
  },
  {
   "cell_type": "code",
   "execution_count": 21,
   "metadata": {},
   "outputs": [
    {
     "name": "stdout",
     "output_type": "stream",
     "text": [
      "[ 1  1  1  1  1  1  1  1  1  1  1  1  1 -1  1 -1  1  1  1  1  1  1  1  1\n",
      "  1  1  1  1  1  1  1  1  1  1  1  1  1  1  1  1  1 -1  1  1  1  1  1  1\n",
      "  1  1  1  1  1  1  1  1  1  1  1  1 -1  1  1  1  1  1  1  1  1  1  1  1\n",
      "  1  1  1  1  1  1  1  1  1  1  1  1  1  1  1  1  1  1  1  1  1  1  1  1\n",
      "  1  1  1  1 -1  1  1  1  1  1 -1  1  1 -1  1  1  1  1  1  1  1 -1 -1  1\n",
      "  1  1  1  1  1  1  1  1  1  1  1 -1  1  1  1  1  1  1  1  1  1  1  1  1\n",
      "  1  1  1  1  1  1 -1 -1 -1 -1 -1]\n",
      "Total number of outliers identified is:  15\n",
      "Number of incorrectly identified outliers:  10\n"
     ]
    }
   ],
   "source": [
    "#import the implementation of this algorihm from sklearn\n",
    "from sklearn.ensemble import IsolationForest\n",
    "\n",
    "#Use the algorithm for outlier detection, then use it to predict each point\n",
    "#Any point labelled as -1 is an outlier\n",
    "clf = IsolationForest(max_samples=150, random_state = 1, contamination= 'auto')\n",
    "preds = clf.fit_predict(X)\n",
    "print(preds)\n",
    "totalOutliers=0\n",
    "for pred in preds:\n",
    "    if pred == -1:\n",
    "        totalOutliers=totalOutliers+1\n",
    "print(\"Total number of outliers identified is: \",totalOutliers)\n",
    "\n",
    "#Calculate number of erroneos predictions where outlier predicction does not coindice with groundtruth\n",
    "newarray= ((preds == -1) & (ground_truth==0))\n",
    "\n",
    "n_errors= len([i for i in newarray if i==True])\n",
    "print(\"Number of incorrectly identified outliers: \",n_errors)"
   ]
  },
  {
   "cell_type": "markdown",
   "metadata": {},
   "source": [
    "IsolationForest identifies all the 5 records as outliers but also another 10 which do not correspond to the grount truth we established."
   ]
  },
  {
   "cell_type": "markdown",
   "metadata": {},
   "source": [
    "### Local Outlier Factor\n",
    "\n",
    "Not let us look at an additional algorithm, the LocalOutlierFactor. The algorithm finds anomalous data points by measuring the local deviation of a given data point with respect to its neighbours.  The algorithm description for those interested can be found here https://www.dbs.ifi.lmu.de/Publikationen/Papers/LOF.pdf\n",
    "\n",
    "An anomaly score for each sample is calculated as the Local Outlier Factor. It measures the local deviation of density of a given sample with respect to its neighbors. It is local in that the anomaly score depends on how isolated the object is with respect to the surrounding neighborhood. More precisely, locality is given by k-nearest neighbors, whose distance is used to estimate the local density. By comparing the local density of a sample to the local densities of its neighbors, one can identify samples that have a substantially lower density than their neighbors. These are considered outliers.\n",
    "\n",
    "In the code below outliers are identified with their scoring factor. Then a graph is produced which superimposes a scatterplot of the original data with the same points withe their outlier score represented by a circle, the bigger the circle, the higher the score for a point being an outlier. "
   ]
  },
  {
   "cell_type": "code",
   "execution_count": 22,
   "metadata": {},
   "outputs": [
    {
     "name": "stdout",
     "output_type": "stream",
     "text": [
      "Predicted outliers: \n",
      " [ 1  1  1  1  1  1  1  1  1  1  1  1  1  1 -1 -1  1  1  1  1  1  1  1  1\n",
      "  1  1  1  1  1  1  1  1  1  1  1  1  1  1  1  1  1 -1  1  1  1  1  1  1\n",
      "  1  1  1  1  1  1  1  1  1 -1  1  1  1  1  1  1  1  1  1  1  1  1  1  1\n",
      "  1  1  1  1  1  1  1  1  1  1  1  1  1  1  1  1  1  1  1  1  1 -1  1  1\n",
      "  1  1 -1  1  1  1  1  1  1 -1  1  1  1  1  1  1  1  1  1  1  1 -1 -1  1\n",
      "  1  1 -1  1  1  1  1  1  1  1  1 -1  1  1  1  1  1  1  1  1  1  1  1  1\n",
      "  1  1  1  1  1  1 -1 -1 -1 -1 -1]\n",
      "Number of predicted outliers: 16\n",
      "Number of incorrectly identified outliers:  11\n"
     ]
    },
    {
     "data": {
      "image/png": "[encoded data removed]",
      "text/plain": [
       "<Figure size 864x576 with 1 Axes>"
      ]
     },
     "metadata": {
      "needs_background": "light"
     },
     "output_type": "display_data"
    }
   ],
   "source": [
    "from sklearn.neighbors import LocalOutlierFactor\n",
    "np.random.seed(42)\n",
    "\n",
    "# fit the model for outlier detection (default)\n",
    "clf = LocalOutlierFactor(n_neighbors=20, contamination=0.1)\n",
    "\n",
    "# use fit_predict to compute the predicted labels of the training samples\n",
    "# (when LOF is used for outlier detection, the estimator has no predict,\n",
    "# decision_function and score_samples methods).\n",
    "y_pred = clf.fit_predict(X)\n",
    "\n",
    "print (\"Predicted outliers: \\n\",y_pred)\n",
    "\n",
    "#Calculate number of outliers\n",
    "outlierN = len([i for i in y_pred if i == -1])\n",
    "print (\"Number of predicted outliers:\",outlierN)\n",
    "\n",
    "#Calculate number of erroneos predictions\n",
    "newarray= ((y_pred == -1) & (ground_truth==0))\n",
    "#print(newarray)\n",
    "n_errors= len([i for i in newarray if i==True])\n",
    "print(\"Number of incorrectly identified outliers: \",n_errors)\n",
    "\n",
    "#Let us see graphically how the outliers are identified\n",
    "#Use outlier scores calculated by the algorithm to plot a circle around the outlier proportional to score.\n",
    "\n",
    "X_scores = clf.negative_outlier_factor_\n",
    "\n",
    "plt.figure(figsize=(12,8))\n",
    "plt.title(\"Local Outlier Factor (LOF)\")\n",
    "\n",
    "#Convert the df to an array for the purpose of the scatterplot\n",
    "Xol = Oulier_Iris.to_numpy()\n",
    "\n",
    "#Use scatter \n",
    "plt.scatter(Xol[:, 2], Xol[:, 3], color='k', s=3, label='Data points')\n",
    "\n",
    "# plot circles with radius proportional to the outlier scores\n",
    "radius = (X_scores.max() - X_scores) / (X_scores.max() - X_scores.min())\n",
    "plt.scatter(Xol[:, 2], Xol[:, 3], s=500 * radius, edgecolors='r',\n",
    "            facecolors='none', label='Outlier scores')\n",
    "plt.axis('tight')\n",
    "plt.xlim((0, 14))\n",
    "plt.ylim((0, 6))\n",
    "plt.xlabel(\"prediction errors: %d\" % (n_errors))\n",
    "legend = plt.legend(loc='upper left')\n",
    "legend.legendHandles[0]._sizes = [12]\n",
    "legend.legendHandles[1]._sizes = [20]\n",
    "plt.show()"
   ]
  },
  {
   "cell_type": "markdown",
   "metadata": {},
   "source": [
    "### Covariance estimation \n",
    "\n",
    "Finally, we adapt some code found in https://scikit-learn.org/stable/auto_examples/applications/plot_outlier_detection_wine.html for the Iris dataset.  \n",
    "\n",
    "In this example 3 covariants estimators are used: the Empirical Covariance, Minimum Covariance Determinant and One Class SVM. Each of them learns a _frontier_ for outlier detection that is shown in a graph. Note that the example uses a visualisation onto two dimensions, _petal_length_ and _petal_width_."
   ]
  },
  {
   "cell_type": "code",
   "execution_count": 23,
   "metadata": {},
   "outputs": [
    {
     "data": {
      "image/png": "[encoded data removed]",
      "text/plain": [
       "<Figure size 864x576 with 1 Axes>"
      ]
     },
     "metadata": {
      "needs_background": "light"
     },
     "output_type": "display_data"
    }
   ],
   "source": [
    "# Author: Virgile Fritsch <virgile.fritsch@inria.fr>\n",
    "# License: BSD 3 clause\n",
    "\n",
    "from sklearn.covariance import EllipticEnvelope\n",
    "from sklearn.svm import OneClassSVM\n",
    "import matplotlib.font_manager\n",
    "\n",
    "# Define \"classifiers\" to be used\n",
    "classifiers = {\n",
    "    \"Empirical Covariance\": EllipticEnvelope(support_fraction=1.,\n",
    "                                             contamination=0.25),\n",
    "    \"Robust Covariance (Minimum Covariance Determinant)\":\n",
    "    EllipticEnvelope(contamination=0.25),\n",
    "    \"OCSVM\": OneClassSVM(nu=0.25, gamma=0.35)}\n",
    "colors = ['m', 'g', 'b']\n",
    "legend1 = {}\n",
    "legend2 = {}\n",
    "\n",
    "\n",
    "#Convert dataframe to array\n",
    "features=['petal_length','petal_width']\n",
    "X1=Oulier_Iris[features].to_numpy()\n",
    "\n",
    "# Learn a frontier for outlier detection with several classifiers\n",
    "xx1, yy1 = np.meshgrid(np.linspace(0, 9, 300), np.linspace(0, 4, 300))\n",
    "\n",
    "\n",
    "plt.figure(figsize=(12,8))\n",
    "for i, (clf_name, clf) in enumerate(classifiers.items()):\n",
    "    plt.figure(1)\n",
    "    clf.fit(X1)\n",
    "    Z1 = clf.decision_function(np.c_[xx1.ravel(), yy1.ravel()])\n",
    "    Z1 = Z1.reshape(xx1.shape)\n",
    "    legend1[clf_name] = plt.contour(\n",
    "        xx1, yy1, Z1, levels=[0], linewidths=1, colors=colors[i])\n",
    "\n",
    "legend1_values_list = list(legend1.values())\n",
    "legend1_keys_list = list(legend1.keys())\n",
    "\n",
    "# Plot the results (= shape of the data points cloud)\n",
    "plt.figure(1)  # two clusters\n",
    "plt.title(\"Outlier detection on a real data set (Iris)\")\n",
    "plt.scatter(X1[:, 0], X1[:, 1], color='black', s=8)\n",
    "bbox_args = dict(boxstyle=\"round\", fc=\"0.8\")\n",
    "arrow_args = dict(arrowstyle=\"->\")\n",
    "plt.annotate(\"outlying points\", xy=(1, 1),\n",
    "             xycoords=\"data\", textcoords=\"data\",\n",
    "             xytext=(1, 1.25), bbox=bbox_args, arrowprops=arrow_args)\n",
    "plt.xlim((xx1.min(), xx1.max()))\n",
    "plt.ylim((yy1.min(), yy1.max()))\n",
    "plt.legend((legend1_values_list[0].collections[0],\n",
    "            legend1_values_list[1].collections[0],\n",
    "            legend1_values_list[2].collections[0]),\n",
    "           (legend1_keys_list[0], legend1_keys_list[1], legend1_keys_list[2]),\n",
    "           loc=\"upper center\",\n",
    "           prop=matplotlib.font_manager.FontProperties(size=8))\n",
    "plt.ylabel(\"Petal width\")\n",
    "plt.xlabel(\"Petal length\")\n",
    "\n",
    "plt.show()"
   ]
  },
  {
   "cell_type": "markdown",
   "metadata": {},
   "source": [
    "# Balancing the data\n",
    "\n",
    "Now we will look at how to balance the data when the target or output classes appear imbalanced.  For this we use a specially constructed version of the Iris dataset. We remove many of the examples of the class _setosa_ to create an imbalanced dataset for the purpose of learning about this.  We leave intact the examples of the other two classes so now the class _setosa_ is the minority class with 10 examples only.  \n",
    "\n",
    "First we read the data and show a visualisation of the class distribution. "
   ]
  },
  {
   "cell_type": "code",
   "execution_count": 24,
   "metadata": {},
   "outputs": [
    {
     "name": "stdout",
     "output_type": "stream",
     "text": [
      "   sepal_length  sepal_width  petal_length  petal_width species\n",
      "0           5.1          3.5           1.4          0.2  setosa\n",
      "1           5.4          3.4           1.7          0.2  setosa\n",
      "2           5.1          3.7           1.5          0.4  setosa\n",
      "3           4.6          3.6           1.0          0.2  setosa\n",
      "4           5.1          3.3           1.7          0.5  setosa\n",
      "     sepal_length  sepal_width  petal_length  petal_width    species\n",
      "105           6.7          3.0           5.2          2.3  virginica\n",
      "106           6.3          2.5           5.0          1.9  virginica\n",
      "107           6.5          3.0           5.2          2.0  virginica\n",
      "108           6.2          3.4           5.4          2.3  virginica\n",
      "109           5.9          3.0           5.1          1.8  virginica\n"
     ]
    },
    {
     "data": {
      "text/plain": [
       "<AxesSubplot:xlabel='species', ylabel='count'>"
      ]
     },
     "execution_count": 24,
     "metadata": {},
     "output_type": "execute_result"
    },
    {
     "data": {
      "image/png": "[encoded data removed]",
      "text/plain": [
       "<Figure size 432x288 with 1 Axes>"
      ]
     },
     "metadata": {
      "needs_background": "light"
     },
     "output_type": "display_data"
    }
   ],
   "source": [
    "#designate the path where you saved your Iris data\n",
    "Iris_data_path = \"../Datasets/iris_Imb.csv\"\n",
    "\n",
    "#Load the data using pandas read_csv function. \n",
    "\n",
    "df = pd.read_csv(Iris_data_path)\n",
    "\n",
    "print(df.head())\n",
    "print(df.tail())\n",
    "\n",
    "#Show distribution of the class on whole dataset\n",
    "sns.countplot(x= 'species', data=df)"
   ]
  },
  {
   "cell_type": "markdown",
   "metadata": {},
   "source": [
    "Now we look at the count of examples for each of the species. "
   ]
  },
  {
   "cell_type": "code",
   "execution_count": 25,
   "metadata": {},
   "outputs": [
    {
     "data": {
      "text/plain": [
       "virginica     50\n",
       "versicolor    50\n",
       "setosa        10\n",
       "Name: species, dtype: int64"
      ]
     },
     "execution_count": 25,
     "metadata": {},
     "output_type": "execute_result"
    }
   ],
   "source": [
    "df['species'].value_counts()"
   ]
  },
  {
   "cell_type": "markdown",
   "metadata": {},
   "source": [
    "## Upsampling the minority class\n",
    "\n",
    "We now need to start by upsampling a minority class. For this we can use the `resample` library from scikitlearn.  In this case, some of the minority class samples are copied until we get the the balanced dataset, so the minority class has `n_samples` at the end.  We use sample with replacement which means any data point that is chosen for copying can be picked again.\n"
   ]
  },
  {
   "cell_type": "code",
   "execution_count": 26,
   "metadata": {},
   "outputs": [
    {
     "name": "stdout",
     "output_type": "stream",
     "text": [
      "       sepal_length  sepal_width  petal_length  petal_width\n",
      "count    150.000000   150.000000    150.000000   150.000000\n",
      "mean       5.844667     3.050000      3.772000     1.211333\n",
      "std        0.813769     0.389588      1.749022     0.747841\n",
      "min        4.600000     2.000000      1.000000     0.200000\n",
      "25%        5.100000     2.800000      1.700000     0.400000\n",
      "50%        5.800000     3.000000      4.350000     1.300000\n",
      "75%        6.400000     3.400000      5.100000     1.800000\n",
      "max        7.900000     3.800000      6.900000     2.500000\n"
     ]
    },
    {
     "data": {
      "text/plain": [
       "virginica     50\n",
       "versicolor    50\n",
       "setosa        50\n",
       "Name: species, dtype: int64"
      ]
     },
     "execution_count": 26,
     "metadata": {},
     "output_type": "execute_result"
    }
   ],
   "source": [
    "from sklearn.utils import resample\n",
    "\n",
    "# Separate majority and minority classes. We will use both classes, 'virginica' and 'versicolor' combined as majority class\n",
    "\n",
    "df_majority = df[df.species!=\"setosa\"]\n",
    "df_minority = df[df.species==\"setosa\"]\n",
    "\n",
    "# Upsample minority class\n",
    "df_minority_upsampled = resample(df_minority, \n",
    "                                 replace=True,     # sample with replacement\n",
    "                                 n_samples=50,     # to match majority class\n",
    "                                 random_state=123) # reproducible results\n",
    " \n",
    "# Combine majority class with upsampled minority class\n",
    "df_upsampled = pd.concat([df_majority, df_minority_upsampled])\n",
    "\n",
    "# Show dataset statistics\n",
    "print(df_upsampled.describe())\n",
    " \n",
    "# Display new class counts\n",
    "df_upsampled.species.value_counts()\n"
   ]
  },
  {
   "cell_type": "markdown",
   "metadata": {},
   "source": [
    "We can show the new upsampled data using plots. As we can observe the classes are now balanced at 50 examples each."
   ]
  },
  {
   "cell_type": "code",
   "execution_count": 27,
   "metadata": {},
   "outputs": [
    {
     "data": {
      "text/plain": [
       "<AxesSubplot:xlabel='species', ylabel='count'>"
      ]
     },
     "execution_count": 27,
     "metadata": {},
     "output_type": "execute_result"
    },
    {
     "data": {
      "image/png": "[encoded data removed]",
      "text/plain": [
       "<Figure size 432x288 with 1 Axes>"
      ]
     },
     "metadata": {
      "needs_background": "light"
     },
     "output_type": "display_data"
    }
   ],
   "source": [
    "#Show distribution of the class on whole dataset\n",
    "sns.countplot(x= 'species', data=df_upsampled)"
   ]
  },
  {
   "cell_type": "markdown",
   "metadata": {},
   "source": [
    "Additionally, we can use a scatterplot to show the points that we have after upsampling and the original data points, superimposed. This shows that all the points that have been upsampled correspond to points in the original data. However, we now have 50 data points for _setosa_."
   ]
  },
  {
   "cell_type": "code",
   "execution_count": 28,
   "metadata": {},
   "outputs": [
    {
     "data": {
      "image/png": "[encoded data removed]",
      "text/plain": [
       "<Figure size 432x288 with 1 Axes>"
      ]
     },
     "metadata": {
      "needs_background": "light"
     },
     "output_type": "display_data"
    }
   ],
   "source": [
    "sns.scatterplot(x=df_upsampled['petal_width'], y=df_upsampled['petal_length'], style=df_upsampled['species'],color=\".2\", marker=\"+\")\n",
    "sns.scatterplot(x=df['petal_width'], s= 10,y=df['petal_length'],hue=df.species)\n",
    "\n",
    "# Put the legend out of the figure\n",
    "plt.legend(bbox_to_anchor=(1.05, 1), loc=2, borderaxespad=0.)\n",
    "\n",
    "plt.show()"
   ]
  },
  {
   "cell_type": "markdown",
   "metadata": {},
   "source": [
    "To better understand the effect of the upsampling, let us look at what the original dataset may have looked like when we had all the data (i.e. the original Iris dataset that we loaded at the beginning of the lab before we made it into an unbalanced dataset).  We can see the scatter of data for _petal_length_ using a stripplot from seaborne. "
   ]
  },
  {
   "cell_type": "code",
   "execution_count": 29,
   "metadata": {},
   "outputs": [
    {
     "data": {
      "image/png": "[encoded data removed]",
      "text/plain": [
       "<Figure size 432x288 with 1 Axes>"
      ]
     },
     "metadata": {
      "needs_background": "light"
     },
     "output_type": "display_data"
    }
   ],
   "source": [
    "sns.stripplot(x=Iris_data['species'],y=Iris_data['petal_length'],data=Iris_data, jitter=0.2, order=['setosa','versicolor','virginica'])\n",
    "sns.despine()"
   ]
  },
  {
   "cell_type": "markdown",
   "metadata": {},
   "source": [
    "We can plot a similar graph for the upsampled data to compare them.  We can see tht the distribution of points in the Setosa has changed as the same point may be plotted multiple times.  Note that the points show an amount of _jitter_ so that they are not overimposed. We can see by the spread of the points for a particular value of _petal_length_ that there is some repetition."
   ]
  },
  {
   "cell_type": "code",
   "execution_count": 30,
   "metadata": {},
   "outputs": [
    {
     "data": {
      "image/png": "[encoded data removed]",
      "text/plain": [
       "<Figure size 432x288 with 1 Axes>"
      ]
     },
     "metadata": {
      "needs_background": "light"
     },
     "output_type": "display_data"
    }
   ],
   "source": [
    "\n",
    "sns.stripplot(x=df_upsampled['species'],y=df_upsampled['petal_length'],data=df_upsampled, jitter=0.2,order=['setosa','versicolor','virginica'])\n",
    "sns.despine()"
   ]
  },
  {
   "cell_type": "markdown",
   "metadata": {},
   "source": [
    "## Downsampling the majority classes\n",
    "Next we downsample the majority class and show the resulting data showing similar methods.  That is, we discard some examples of the majority classes to produced the balanced dataset."
   ]
  },
  {
   "cell_type": "code",
   "execution_count": 31,
   "metadata": {},
   "outputs": [
    {
     "data": {
      "text/plain": [
       "setosa        10\n",
       "versicolor     5\n",
       "virginica      5\n",
       "Name: species, dtype: int64"
      ]
     },
     "execution_count": 31,
     "metadata": {},
     "output_type": "execute_result"
    }
   ],
   "source": [
    "# Downsample majority class\n",
    "df_majority_downsampled = resample(df_majority, \n",
    "                                 replace=False,    # sample without replacement\n",
    "                                 n_samples=10,     # to match minority class\n",
    "                                 random_state=123) # reproducible results\n",
    "    \n",
    "# Combine minority class with downsampled majority class\n",
    "df_downsampled = pd.concat([df_majority_downsampled, df_minority])\n",
    " \n",
    "# Display new class counts\n",
    "df_downsampled.species.value_counts()"
   ]
  },
  {
   "cell_type": "markdown",
   "metadata": {},
   "source": [
    "We now use a plot of the distribution of the _species_ to show the balance of the classes.  Note tha the two classes now add up to the same as the minority class (i.e. 10 examples in total, 5 each)."
   ]
  },
  {
   "cell_type": "code",
   "execution_count": 32,
   "metadata": {},
   "outputs": [
    {
     "data": {
      "text/plain": [
       "<AxesSubplot:xlabel='species', ylabel='count'>"
      ]
     },
     "execution_count": 32,
     "metadata": {},
     "output_type": "execute_result"
    },
    {
     "data": {
      "image/png": "[encoded data removed]",
      "text/plain": [
       "<Figure size 432x288 with 1 Axes>"
      ]
     },
     "metadata": {
      "needs_background": "light"
     },
     "output_type": "display_data"
    }
   ],
   "source": [
    "#Show distribution of the class on whole dataset\n",
    "sns.countplot(x= 'species', data=df_downsampled)"
   ]
  },
  {
   "cell_type": "markdown",
   "metadata": {},
   "source": [
    "We can again use a scatter plot of the original Iris data and then superimpose the downsampled data to see what we are left with.  Note that all of the original data points for Setosa (the 10 in the imbalanced data) are there, but only 5 for each of the other classes have been taken for the downsampled data. "
   ]
  },
  {
   "cell_type": "code",
   "execution_count": 33,
   "metadata": {},
   "outputs": [
    {
     "data": {
      "image/png": "[encoded data removed]",
      "text/plain": [
       "<Figure size 1152x720 with 1 Axes>"
      ]
     },
     "metadata": {
      "needs_background": "light"
     },
     "output_type": "display_data"
    }
   ],
   "source": [
    "plt.figure(figsize=(16,10))\n",
    "sns.scatterplot(x=df_downsampled['petal_width'], y=df_downsampled['petal_length'], style=df_downsampled['species'],color=\".2\", marker=\"+\",s=150)\n",
    "sns.scatterplot(x=df['petal_width'], s= 20,y=df['petal_length'],hue=df.species)\n",
    "# Put the legend out of the figure\n",
    "plt.legend(bbox_to_anchor=(1.05, 1), loc=2, borderaxespad=0.)\n",
    "plt.show()"
   ]
  },
  {
   "cell_type": "markdown",
   "metadata": {},
   "source": [
    "Now we look at the stripplot again to undestand the data that we have left afer downsampling."
   ]
  },
  {
   "cell_type": "code",
   "execution_count": 34,
   "metadata": {},
   "outputs": [
    {
     "data": {
      "image/png": "[encoded data removed]",
      "text/plain": [
       "<Figure size 432x288 with 1 Axes>"
      ]
     },
     "metadata": {
      "needs_background": "light"
     },
     "output_type": "display_data"
    }
   ],
   "source": [
    "sns.stripplot(x=df_downsampled['species'],y=df_downsampled['petal_length'],data=df_downsampled, jitter=0.2,order=['setosa','versicolor','virginica'])\n",
    "sns.despine()"
   ]
  },
  {
   "cell_type": "markdown",
   "metadata": {},
   "source": [
    "# Missing values\n",
    "\n",
    "In this part of the lab we are going to deal with another altered iris dataset, one in which we have introduced missing values randomly for all of the attributes.  We will load the data and then we will look at simple methods for dealing with these missing values. "
   ]
  },
  {
   "cell_type": "code",
   "execution_count": 35,
   "metadata": {},
   "outputs": [
    {
     "name": "stdout",
     "output_type": "stream",
     "text": [
      "   sepal_length  sepal_width  petal_length  petal_width species\n",
      "0           5.1          3.5           1.4          0.2  setosa\n",
      "1           4.9          3.0           1.4          0.2  setosa\n",
      "2           NaN          3.2           1.3          0.2  setosa\n",
      "3           4.6          3.1           1.5          0.2  setosa\n",
      "4           5.0          3.6           1.4          0.2  setosa\n",
      "     sepal_length  sepal_width  petal_length  petal_width     species\n",
      "150           9.0          0.0          13.0          5.0   virginica\n",
      "151           7.0          8.0           1.0          1.0   virginica\n",
      "152           8.0          9.0           0.2          0.3      setosa\n",
      "153           1.0          1.0           1.0          0.3  versicolor\n",
      "154           8.0          9.0           8.0          0.3      setosa\n"
     ]
    },
    {
     "data": {
      "text/plain": [
       "<AxesSubplot:xlabel='species', ylabel='count'>"
      ]
     },
     "execution_count": 35,
     "metadata": {},
     "output_type": "execute_result"
    },
    {
     "data": {
      "image/png": "[encoded data removed]",
      "text/plain": [
       "<Figure size 432x288 with 1 Axes>"
      ]
     },
     "metadata": {
      "needs_background": "light"
     },
     "output_type": "display_data"
    }
   ],
   "source": [
    "#designate the path where you saved your Iris data with missing values\n",
    "Iris_data_path = \"../Datasets/irisOL_Miss.csv\"\n",
    "\n",
    "#Load the data using pandas read_csv function. \n",
    "Iris_data_M = pd.read_csv(Iris_data_path)\n",
    "\n",
    "print(Iris_data_M.head())\n",
    "print(Iris_data_M.tail())\n",
    "\n",
    "#Show distribution of the class on whole dataset\n",
    "sns.countplot(x= 'species', data=Iris_data)"
   ]
  },
  {
   "cell_type": "markdown",
   "metadata": {},
   "source": [
    "We start bt looking at the amount of missing values in each column.  For this we can use the `isnull()` method available for a dataframe and use the `sum()` method to add those.\n"
   ]
  },
  {
   "cell_type": "code",
   "execution_count": 36,
   "metadata": {},
   "outputs": [
    {
     "data": {
      "text/plain": [
       "sepal_length    12\n",
       "sepal_width     17\n",
       "petal_length    13\n",
       "petal_width      1\n",
       "species          0\n",
       "dtype: int64"
      ]
     },
     "execution_count": 36,
     "metadata": {},
     "output_type": "execute_result"
    }
   ],
   "source": [
    "# get the number of missing data points per column\n",
    "missing_values_count = Iris_data_M.isnull().sum()\n",
    "\n",
    "# look at the # of missing points in the first ten columns\n",
    "missing_values_count[0:5]"
   ]
  },
  {
   "cell_type": "markdown",
   "metadata": {},
   "source": [
    "The next thing we may want to do is to calculate the total percentage of missing values in the dataset as a whole. The `shape`method returns the number of rows and columns and we can multiply those with the `product()` method from numpy to calculate the total number of cells in the dataframe.  With that and the total number of missing cells, we can calculate the %. "
   ]
  },
  {
   "cell_type": "code",
   "execution_count": 52,
   "metadata": {},
   "outputs": [
    {
     "name": "stdout",
     "output_type": "stream",
     "text": [
      "5.548387096774193\n"
     ]
    }
   ],
   "source": [
    "#Calculation of total cells in the dataframe\n",
    "total_cells = np.product(Iris_data_M.shape)\n",
    "total_missing = missing_values_count.sum()\n",
    "\n",
    "# percent of data that is missing\n",
    "percent_missing = (total_missing/total_cells) * 100\n",
    "print(percent_missing)"
   ]
  },
  {
   "cell_type": "markdown",
   "metadata": {},
   "source": [
    "## Removal of missing values \n",
    "\n",
    "A first approach for missing data is missing data removal, so we can remove all all rows containing missing data.  What are we left with? "
   ]
  },
  {
   "cell_type": "code",
   "execution_count": 53,
   "metadata": {},
   "outputs": [
    {
     "data": {
      "text/html": [
       "<div>\n",
       "<style scoped>\n",
       "    .dataframe tbody tr th:only-of-type {\n",
       "        vertical-align: middle;\n",
       "    }\n",
       "\n",
       "    .dataframe tbody tr th {\n",
       "        vertical-align: top;\n",
       "    }\n",
       "\n",
       "    .dataframe thead th {\n",
       "        text-align: right;\n",
       "    }\n",
       "</style>\n",
       "<table border=\"1\" class=\"dataframe\">\n",
       "  <thead>\n",
       "    <tr style=\"text-align: right;\">\n",
       "      <th></th>\n",
       "      <th>sepal_length</th>\n",
       "      <th>sepal_width</th>\n",
       "      <th>petal_length</th>\n",
       "      <th>petal_width</th>\n",
       "      <th>species</th>\n",
       "    </tr>\n",
       "  </thead>\n",
       "  <tbody>\n",
       "    <tr>\n",
       "      <th>0</th>\n",
       "      <td>5.1</td>\n",
       "      <td>3.5</td>\n",
       "      <td>1.4</td>\n",
       "      <td>0.2</td>\n",
       "      <td>setosa</td>\n",
       "    </tr>\n",
       "    <tr>\n",
       "      <th>1</th>\n",
       "      <td>4.9</td>\n",
       "      <td>3.0</td>\n",
       "      <td>1.4</td>\n",
       "      <td>0.2</td>\n",
       "      <td>setosa</td>\n",
       "    </tr>\n",
       "    <tr>\n",
       "      <th>3</th>\n",
       "      <td>4.6</td>\n",
       "      <td>3.1</td>\n",
       "      <td>1.5</td>\n",
       "      <td>0.2</td>\n",
       "      <td>setosa</td>\n",
       "    </tr>\n",
       "    <tr>\n",
       "      <th>4</th>\n",
       "      <td>5.0</td>\n",
       "      <td>3.6</td>\n",
       "      <td>1.4</td>\n",
       "      <td>0.2</td>\n",
       "      <td>setosa</td>\n",
       "    </tr>\n",
       "    <tr>\n",
       "      <th>6</th>\n",
       "      <td>4.6</td>\n",
       "      <td>3.4</td>\n",
       "      <td>1.4</td>\n",
       "      <td>0.3</td>\n",
       "      <td>setosa</td>\n",
       "    </tr>\n",
       "    <tr>\n",
       "      <th>...</th>\n",
       "      <td>...</td>\n",
       "      <td>...</td>\n",
       "      <td>...</td>\n",
       "      <td>...</td>\n",
       "      <td>...</td>\n",
       "    </tr>\n",
       "    <tr>\n",
       "      <th>150</th>\n",
       "      <td>9.0</td>\n",
       "      <td>0.0</td>\n",
       "      <td>13.0</td>\n",
       "      <td>5.0</td>\n",
       "      <td>virginica</td>\n",
       "    </tr>\n",
       "    <tr>\n",
       "      <th>151</th>\n",
       "      <td>7.0</td>\n",
       "      <td>8.0</td>\n",
       "      <td>1.0</td>\n",
       "      <td>1.0</td>\n",
       "      <td>virginica</td>\n",
       "    </tr>\n",
       "    <tr>\n",
       "      <th>152</th>\n",
       "      <td>8.0</td>\n",
       "      <td>9.0</td>\n",
       "      <td>0.2</td>\n",
       "      <td>0.3</td>\n",
       "      <td>setosa</td>\n",
       "    </tr>\n",
       "    <tr>\n",
       "      <th>153</th>\n",
       "      <td>1.0</td>\n",
       "      <td>1.0</td>\n",
       "      <td>1.0</td>\n",
       "      <td>0.3</td>\n",
       "      <td>versicolor</td>\n",
       "    </tr>\n",
       "    <tr>\n",
       "      <th>154</th>\n",
       "      <td>8.0</td>\n",
       "      <td>9.0</td>\n",
       "      <td>8.0</td>\n",
       "      <td>0.3</td>\n",
       "      <td>setosa</td>\n",
       "    </tr>\n",
       "  </tbody>\n",
       "</table>\n",
       "<p>115 rows × 5 columns</p>\n",
       "</div>"
      ],
      "text/plain": [
       "     sepal_length  sepal_width  petal_length  petal_width     species\n",
       "0             5.1          3.5           1.4          0.2      setosa\n",
       "1             4.9          3.0           1.4          0.2      setosa\n",
       "3             4.6          3.1           1.5          0.2      setosa\n",
       "4             5.0          3.6           1.4          0.2      setosa\n",
       "6             4.6          3.4           1.4          0.3      setosa\n",
       "..            ...          ...           ...          ...         ...\n",
       "150           9.0          0.0          13.0          5.0   virginica\n",
       "151           7.0          8.0           1.0          1.0   virginica\n",
       "152           8.0          9.0           0.2          0.3      setosa\n",
       "153           1.0          1.0           1.0          0.3  versicolor\n",
       "154           8.0          9.0           8.0          0.3      setosa\n",
       "\n",
       "[115 rows x 5 columns]"
      ]
     },
     "execution_count": 53,
     "metadata": {},
     "output_type": "execute_result"
    }
   ],
   "source": [
    "# remove all the rows that contain a missing value\n",
    "Iris_data_M.dropna()"
   ]
  },
  {
   "cell_type": "markdown",
   "metadata": {},
   "source": [
    "An alternative approach may  may be to remove columns with missing data. How many columns are left?"
   ]
  },
  {
   "cell_type": "code",
   "execution_count": 54,
   "metadata": {},
   "outputs": [
    {
     "data": {
      "text/html": [
       "<div>\n",
       "<style scoped>\n",
       "    .dataframe tbody tr th:only-of-type {\n",
       "        vertical-align: middle;\n",
       "    }\n",
       "\n",
       "    .dataframe tbody tr th {\n",
       "        vertical-align: top;\n",
       "    }\n",
       "\n",
       "    .dataframe thead th {\n",
       "        text-align: right;\n",
       "    }\n",
       "</style>\n",
       "<table border=\"1\" class=\"dataframe\">\n",
       "  <thead>\n",
       "    <tr style=\"text-align: right;\">\n",
       "      <th></th>\n",
       "      <th>species</th>\n",
       "    </tr>\n",
       "  </thead>\n",
       "  <tbody>\n",
       "    <tr>\n",
       "      <th>0</th>\n",
       "      <td>setosa</td>\n",
       "    </tr>\n",
       "    <tr>\n",
       "      <th>1</th>\n",
       "      <td>setosa</td>\n",
       "    </tr>\n",
       "    <tr>\n",
       "      <th>2</th>\n",
       "      <td>setosa</td>\n",
       "    </tr>\n",
       "    <tr>\n",
       "      <th>3</th>\n",
       "      <td>setosa</td>\n",
       "    </tr>\n",
       "    <tr>\n",
       "      <th>4</th>\n",
       "      <td>setosa</td>\n",
       "    </tr>\n",
       "  </tbody>\n",
       "</table>\n",
       "</div>"
      ],
      "text/plain": [
       "  species\n",
       "0  setosa\n",
       "1  setosa\n",
       "2  setosa\n",
       "3  setosa\n",
       "4  setosa"
      ]
     },
     "execution_count": 54,
     "metadata": {},
     "output_type": "execute_result"
    }
   ],
   "source": [
    "columns_with_na_dropped = Iris_data_M.dropna(axis=1)\n",
    "columns_with_na_dropped.head()"
   ]
  },
  {
   "cell_type": "code",
   "execution_count": 47,
   "metadata": {},
   "outputs": [
    {
     "name": "stdout",
     "output_type": "stream",
     "text": [
      "Columns in original dataset: 5 \n",
      "\n",
      "Columns after na's dropped: 1\n"
     ]
    }
   ],
   "source": [
    "# just how much data did we lose?\n",
    "print(\"Columns in original dataset: %d \\n\" % Iris_data.shape[1])\n",
    "print(\"Columns after na's dropped: %d\" % columns_with_na_dropped.shape[1])"
   ]
  },
  {
   "cell_type": "markdown",
   "metadata": {},
   "source": [
    "## Imputation of missing values\n",
    "\n",
    "The second approach to imputation, specially when there is a lot of missing data is to impute the missing data in some way so we do not have to remove unecessarily information that accompanies the missing data.  To start, let us calculate the stats for each field to compare it with, with the values after imputation.  Imputation should not alter the data statistics to greatly if it is to work well. We look at the stats for the original iris data (without missing values) which could serve as a form of _ground truth_ for the imputation."
   ]
  },
  {
   "cell_type": "code",
   "execution_count": 55,
   "metadata": {},
   "outputs": [
    {
     "data": {
      "text/html": [
       "<div>\n",
       "<style scoped>\n",
       "    .dataframe tbody tr th:only-of-type {\n",
       "        vertical-align: middle;\n",
       "    }\n",
       "\n",
       "    .dataframe tbody tr th {\n",
       "        vertical-align: top;\n",
       "    }\n",
       "\n",
       "    .dataframe thead th {\n",
       "        text-align: right;\n",
       "    }\n",
       "</style>\n",
       "<table border=\"1\" class=\"dataframe\">\n",
       "  <thead>\n",
       "    <tr style=\"text-align: right;\">\n",
       "      <th></th>\n",
       "      <th>sepal_length</th>\n",
       "      <th>sepal_width</th>\n",
       "      <th>petal_length</th>\n",
       "      <th>petal_width</th>\n",
       "    </tr>\n",
       "  </thead>\n",
       "  <tbody>\n",
       "    <tr>\n",
       "      <th>count</th>\n",
       "      <td>143.000000</td>\n",
       "      <td>138.000000</td>\n",
       "      <td>142.000000</td>\n",
       "      <td>154.000000</td>\n",
       "    </tr>\n",
       "    <tr>\n",
       "      <th>mean</th>\n",
       "      <td>5.896503</td>\n",
       "      <td>3.137681</td>\n",
       "      <td>3.766901</td>\n",
       "      <td>1.209091</td>\n",
       "    </tr>\n",
       "    <tr>\n",
       "      <th>std</th>\n",
       "      <td>0.996360</td>\n",
       "      <td>0.983455</td>\n",
       "      <td>1.996618</td>\n",
       "      <td>0.821235</td>\n",
       "    </tr>\n",
       "    <tr>\n",
       "      <th>min</th>\n",
       "      <td>1.000000</td>\n",
       "      <td>0.000000</td>\n",
       "      <td>0.200000</td>\n",
       "      <td>0.100000</td>\n",
       "    </tr>\n",
       "    <tr>\n",
       "      <th>25%</th>\n",
       "      <td>5.100000</td>\n",
       "      <td>2.800000</td>\n",
       "      <td>1.500000</td>\n",
       "      <td>0.300000</td>\n",
       "    </tr>\n",
       "    <tr>\n",
       "      <th>50%</th>\n",
       "      <td>5.900000</td>\n",
       "      <td>3.000000</td>\n",
       "      <td>4.300000</td>\n",
       "      <td>1.300000</td>\n",
       "    </tr>\n",
       "    <tr>\n",
       "      <th>75%</th>\n",
       "      <td>6.500000</td>\n",
       "      <td>3.400000</td>\n",
       "      <td>5.100000</td>\n",
       "      <td>1.800000</td>\n",
       "    </tr>\n",
       "    <tr>\n",
       "      <th>max</th>\n",
       "      <td>9.000000</td>\n",
       "      <td>9.000000</td>\n",
       "      <td>13.000000</td>\n",
       "      <td>5.000000</td>\n",
       "    </tr>\n",
       "  </tbody>\n",
       "</table>\n",
       "</div>"
      ],
      "text/plain": [
       "       sepal_length  sepal_width  petal_length  petal_width\n",
       "count    143.000000   138.000000    142.000000   154.000000\n",
       "mean       5.896503     3.137681      3.766901     1.209091\n",
       "std        0.996360     0.983455      1.996618     0.821235\n",
       "min        1.000000     0.000000      0.200000     0.100000\n",
       "25%        5.100000     2.800000      1.500000     0.300000\n",
       "50%        5.900000     3.000000      4.300000     1.300000\n",
       "75%        6.500000     3.400000      5.100000     1.800000\n",
       "max        9.000000     9.000000     13.000000     5.000000"
      ]
     },
     "execution_count": 55,
     "metadata": {},
     "output_type": "execute_result"
    }
   ],
   "source": [
    "Iris_data_M.describe()"
   ]
  },
  {
   "cell_type": "markdown",
   "metadata": {},
   "source": [
    "The first form of very simple (but probably not correct) imputation is to fill the missing values with 0.  We do this and then look at stats for the whole file after imputation."
   ]
  },
  {
   "cell_type": "code",
   "execution_count": 56,
   "metadata": {},
   "outputs": [
    {
     "data": {
      "text/html": [
       "<div>\n",
       "<style scoped>\n",
       "    .dataframe tbody tr th:only-of-type {\n",
       "        vertical-align: middle;\n",
       "    }\n",
       "\n",
       "    .dataframe tbody tr th {\n",
       "        vertical-align: top;\n",
       "    }\n",
       "\n",
       "    .dataframe thead th {\n",
       "        text-align: right;\n",
       "    }\n",
       "</style>\n",
       "<table border=\"1\" class=\"dataframe\">\n",
       "  <thead>\n",
       "    <tr style=\"text-align: right;\">\n",
       "      <th></th>\n",
       "      <th>sepal_length</th>\n",
       "      <th>sepal_width</th>\n",
       "      <th>petal_length</th>\n",
       "      <th>petal_width</th>\n",
       "    </tr>\n",
       "  </thead>\n",
       "  <tbody>\n",
       "    <tr>\n",
       "      <th>count</th>\n",
       "      <td>155.00000</td>\n",
       "      <td>155.000000</td>\n",
       "      <td>155.000000</td>\n",
       "      <td>155.000000</td>\n",
       "    </tr>\n",
       "    <tr>\n",
       "      <th>mean</th>\n",
       "      <td>5.44000</td>\n",
       "      <td>2.793548</td>\n",
       "      <td>3.450968</td>\n",
       "      <td>1.201290</td>\n",
       "    </tr>\n",
       "    <tr>\n",
       "      <th>std</th>\n",
       "      <td>1.84794</td>\n",
       "      <td>1.352039</td>\n",
       "      <td>2.178835</td>\n",
       "      <td>0.824305</td>\n",
       "    </tr>\n",
       "    <tr>\n",
       "      <th>min</th>\n",
       "      <td>0.00000</td>\n",
       "      <td>0.000000</td>\n",
       "      <td>0.000000</td>\n",
       "      <td>0.000000</td>\n",
       "    </tr>\n",
       "    <tr>\n",
       "      <th>25%</th>\n",
       "      <td>5.00000</td>\n",
       "      <td>2.600000</td>\n",
       "      <td>1.500000</td>\n",
       "      <td>0.300000</td>\n",
       "    </tr>\n",
       "    <tr>\n",
       "      <th>50%</th>\n",
       "      <td>5.70000</td>\n",
       "      <td>3.000000</td>\n",
       "      <td>4.100000</td>\n",
       "      <td>1.300000</td>\n",
       "    </tr>\n",
       "    <tr>\n",
       "      <th>75%</th>\n",
       "      <td>6.40000</td>\n",
       "      <td>3.300000</td>\n",
       "      <td>5.100000</td>\n",
       "      <td>1.800000</td>\n",
       "    </tr>\n",
       "    <tr>\n",
       "      <th>max</th>\n",
       "      <td>9.00000</td>\n",
       "      <td>9.000000</td>\n",
       "      <td>13.000000</td>\n",
       "      <td>5.000000</td>\n",
       "    </tr>\n",
       "  </tbody>\n",
       "</table>\n",
       "</div>"
      ],
      "text/plain": [
       "       sepal_length  sepal_width  petal_length  petal_width\n",
       "count     155.00000   155.000000    155.000000   155.000000\n",
       "mean        5.44000     2.793548      3.450968     1.201290\n",
       "std         1.84794     1.352039      2.178835     0.824305\n",
       "min         0.00000     0.000000      0.000000     0.000000\n",
       "25%         5.00000     2.600000      1.500000     0.300000\n",
       "50%         5.70000     3.000000      4.100000     1.300000\n",
       "75%         6.40000     3.300000      5.100000     1.800000\n",
       "max         9.00000     9.000000     13.000000     5.000000"
      ]
     },
     "execution_count": 56,
     "metadata": {},
     "output_type": "execute_result"
    }
   ],
   "source": [
    "# replace all NA's with 0\n",
    "Filled0_Iris=Iris_data_M.fillna(0)\n",
    "Filled0_Iris.describe()"
   ]
  },
  {
   "cell_type": "markdown",
   "metadata": {},
   "source": [
    "This has altered the mean of a number of the attributes so it is probably not a great imputation method.  "
   ]
  },
  {
   "cell_type": "markdown",
   "metadata": {},
   "source": [
    "Now, we can try to fill the missing values with the value before it (in the cell before) and then with 0 and look at the stats.  This is a method provided by scikitlearn. "
   ]
  },
  {
   "cell_type": "code",
   "execution_count": 57,
   "metadata": {},
   "outputs": [
    {
     "data": {
      "text/html": [
       "<div>\n",
       "<style scoped>\n",
       "    .dataframe tbody tr th:only-of-type {\n",
       "        vertical-align: middle;\n",
       "    }\n",
       "\n",
       "    .dataframe tbody tr th {\n",
       "        vertical-align: top;\n",
       "    }\n",
       "\n",
       "    .dataframe thead th {\n",
       "        text-align: right;\n",
       "    }\n",
       "</style>\n",
       "<table border=\"1\" class=\"dataframe\">\n",
       "  <thead>\n",
       "    <tr style=\"text-align: right;\">\n",
       "      <th></th>\n",
       "      <th>sepal_length</th>\n",
       "      <th>sepal_width</th>\n",
       "      <th>petal_length</th>\n",
       "      <th>petal_width</th>\n",
       "    </tr>\n",
       "  </thead>\n",
       "  <tbody>\n",
       "    <tr>\n",
       "      <th>count</th>\n",
       "      <td>155.000000</td>\n",
       "      <td>155.000000</td>\n",
       "      <td>155.000000</td>\n",
       "      <td>155.000000</td>\n",
       "    </tr>\n",
       "    <tr>\n",
       "      <th>mean</th>\n",
       "      <td>5.892903</td>\n",
       "      <td>3.113548</td>\n",
       "      <td>3.813548</td>\n",
       "      <td>1.202581</td>\n",
       "    </tr>\n",
       "    <tr>\n",
       "      <th>std</th>\n",
       "      <td>1.001305</td>\n",
       "      <td>0.978010</td>\n",
       "      <td>1.977933</td>\n",
       "      <td>0.822567</td>\n",
       "    </tr>\n",
       "    <tr>\n",
       "      <th>min</th>\n",
       "      <td>1.000000</td>\n",
       "      <td>0.000000</td>\n",
       "      <td>0.200000</td>\n",
       "      <td>0.100000</td>\n",
       "    </tr>\n",
       "    <tr>\n",
       "      <th>25%</th>\n",
       "      <td>5.100000</td>\n",
       "      <td>2.750000</td>\n",
       "      <td>1.600000</td>\n",
       "      <td>0.300000</td>\n",
       "    </tr>\n",
       "    <tr>\n",
       "      <th>50%</th>\n",
       "      <td>5.900000</td>\n",
       "      <td>3.000000</td>\n",
       "      <td>4.400000</td>\n",
       "      <td>1.300000</td>\n",
       "    </tr>\n",
       "    <tr>\n",
       "      <th>75%</th>\n",
       "      <td>6.500000</td>\n",
       "      <td>3.400000</td>\n",
       "      <td>5.150000</td>\n",
       "      <td>1.800000</td>\n",
       "    </tr>\n",
       "    <tr>\n",
       "      <th>max</th>\n",
       "      <td>9.000000</td>\n",
       "      <td>9.000000</td>\n",
       "      <td>13.000000</td>\n",
       "      <td>5.000000</td>\n",
       "    </tr>\n",
       "  </tbody>\n",
       "</table>\n",
       "</div>"
      ],
      "text/plain": [
       "       sepal_length  sepal_width  petal_length  petal_width\n",
       "count    155.000000   155.000000    155.000000   155.000000\n",
       "mean       5.892903     3.113548      3.813548     1.202581\n",
       "std        1.001305     0.978010      1.977933     0.822567\n",
       "min        1.000000     0.000000      0.200000     0.100000\n",
       "25%        5.100000     2.750000      1.600000     0.300000\n",
       "50%        5.900000     3.000000      4.400000     1.300000\n",
       "75%        6.500000     3.400000      5.150000     1.800000\n",
       "max        9.000000     9.000000     13.000000     5.000000"
      ]
     },
     "execution_count": 57,
     "metadata": {},
     "output_type": "execute_result"
    }
   ],
   "source": [
    "# replace all NA's with the value that comes directly after it in the same column, \n",
    "# then replace all the remaining na's with 0\n",
    "FilledNext_Iris= Iris_data_M.fillna(method='bfill', axis=0).fillna(0)\n",
    "FilledNext_Iris.describe()"
   ]
  },
  {
   "cell_type": "markdown",
   "metadata": {},
   "source": [
    "That seems as a better method, as the means for example are closer to the original data.  We can now try a more sophisticated method, e.g. a K-Nearest Neighbour algorithm for imputation. For this we use the method `KNNImputer` from the `sklearn.impute` library."
   ]
  },
  {
   "cell_type": "code",
   "execution_count": 58,
   "metadata": {},
   "outputs": [
    {
     "data": {
      "text/html": [
       "<div>\n",
       "<style scoped>\n",
       "    .dataframe tbody tr th:only-of-type {\n",
       "        vertical-align: middle;\n",
       "    }\n",
       "\n",
       "    .dataframe tbody tr th {\n",
       "        vertical-align: top;\n",
       "    }\n",
       "\n",
       "    .dataframe thead th {\n",
       "        text-align: right;\n",
       "    }\n",
       "</style>\n",
       "<table border=\"1\" class=\"dataframe\">\n",
       "  <thead>\n",
       "    <tr style=\"text-align: right;\">\n",
       "      <th></th>\n",
       "      <th>sepal_length</th>\n",
       "      <th>sepal_width</th>\n",
       "      <th>petal_length</th>\n",
       "      <th>petal_width</th>\n",
       "    </tr>\n",
       "  </thead>\n",
       "  <tbody>\n",
       "    <tr>\n",
       "      <th>count</th>\n",
       "      <td>155.000000</td>\n",
       "      <td>155.000000</td>\n",
       "      <td>155.000000</td>\n",
       "      <td>155.000000</td>\n",
       "    </tr>\n",
       "    <tr>\n",
       "      <th>mean</th>\n",
       "      <td>5.880645</td>\n",
       "      <td>3.120323</td>\n",
       "      <td>3.776452</td>\n",
       "      <td>1.203226</td>\n",
       "    </tr>\n",
       "    <tr>\n",
       "      <th>std</th>\n",
       "      <td>0.971466</td>\n",
       "      <td>0.934975</td>\n",
       "      <td>1.954941</td>\n",
       "      <td>0.821815</td>\n",
       "    </tr>\n",
       "    <tr>\n",
       "      <th>min</th>\n",
       "      <td>1.000000</td>\n",
       "      <td>0.000000</td>\n",
       "      <td>0.200000</td>\n",
       "      <td>0.100000</td>\n",
       "    </tr>\n",
       "    <tr>\n",
       "      <th>25%</th>\n",
       "      <td>5.100000</td>\n",
       "      <td>2.800000</td>\n",
       "      <td>1.600000</td>\n",
       "      <td>0.300000</td>\n",
       "    </tr>\n",
       "    <tr>\n",
       "      <th>50%</th>\n",
       "      <td>5.800000</td>\n",
       "      <td>3.000000</td>\n",
       "      <td>4.300000</td>\n",
       "      <td>1.300000</td>\n",
       "    </tr>\n",
       "    <tr>\n",
       "      <th>75%</th>\n",
       "      <td>6.450000</td>\n",
       "      <td>3.300000</td>\n",
       "      <td>5.100000</td>\n",
       "      <td>1.800000</td>\n",
       "    </tr>\n",
       "    <tr>\n",
       "      <th>max</th>\n",
       "      <td>9.000000</td>\n",
       "      <td>9.000000</td>\n",
       "      <td>13.000000</td>\n",
       "      <td>5.000000</td>\n",
       "    </tr>\n",
       "  </tbody>\n",
       "</table>\n",
       "</div>"
      ],
      "text/plain": [
       "       sepal_length  sepal_width  petal_length  petal_width\n",
       "count    155.000000   155.000000    155.000000   155.000000\n",
       "mean       5.880645     3.120323      3.776452     1.203226\n",
       "std        0.971466     0.934975      1.954941     0.821815\n",
       "min        1.000000     0.000000      0.200000     0.100000\n",
       "25%        5.100000     2.800000      1.600000     0.300000\n",
       "50%        5.800000     3.000000      4.300000     1.300000\n",
       "75%        6.450000     3.300000      5.100000     1.800000\n",
       "max        9.000000     9.000000     13.000000     5.000000"
      ]
     },
     "execution_count": 58,
     "metadata": {},
     "output_type": "execute_result"
    }
   ],
   "source": [
    "#import the relevant methods\n",
    "from sklearn.impute import KNNImputer\n",
    "nan = np.nan\n",
    "\n",
    "#Designate the features to become X\n",
    "iris_features=['sepal_length', 'sepal_width','petal_length','petal_width']\n",
    "X= Iris_data_M[iris_features]\n",
    "\n",
    "#Apply KNN imputer\n",
    "imputer = KNNImputer(n_neighbors=2, weights=\"uniform\")\n",
    "ImputedX=imputer.fit_transform(X)\n",
    "\n",
    "# Convert output to a data frame to show the stats\n",
    "dataframe = pd.DataFrame.from_records(ImputedX)\n",
    "dataframe.columns = iris_features\n",
    "dataframe.describe()                        \n"
   ]
  },
  {
   "cell_type": "code",
   "execution_count": null,
   "metadata": {},
   "outputs": [],
   "source": []
  },
  {
   "cell_type": "code",
   "execution_count": null,
   "metadata": {},
   "outputs": [],
   "source": []
  }
 ],
 "metadata": {
  "kernelspec": {
   "display_name": "Python 3",
   "language": "python",
   "name": "python3"
  },
  "language_info": {
   "codemirror_mode": {
    "name": "ipython",
    "version": 3
   },
   "file_extension": ".py",
   "mimetype": "text/x-python",
   "name": "python",
   "nbconvert_exporter": "python",
   "pygments_lexer": "ipython3",
   "version": "3.8.5"
  }
 },
 "nbformat": 4,
 "nbformat_minor": 4
}