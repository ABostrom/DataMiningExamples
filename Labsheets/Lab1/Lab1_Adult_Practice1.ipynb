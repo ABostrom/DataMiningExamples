{
 "cells": [
  {
   "cell_type": "markdown",
   "metadata": {},
   "source": [
    "# Lab 1: practice what you learned\n",
    "\n",
    "Now that you have learned the basics of data frames and pandas, you will use this to load and explore a new data file.  We will work with the adult data which you can obtain from the Kaggle repository: https://www.kaggle.com/johnolafenwa\n",
    "\n",
    "The dataset is already divided into a train and test set so you can read both separately.\n",
    "\n",
    "The first step is to import the libraries you will need for your work.  Insert your code to load the libraries in the code cell below: "
   ]
  },
  {
   "cell_type": "code",
   "execution_count": null,
   "metadata": {},
   "outputs": [],
   "source": []
  },
  {
   "cell_type": "markdown",
   "metadata": {},
   "source": [
    "## Read the data \n",
    "\n",
    "Now you need to specify the path for both the train_file and the test_file, which you have previously downloaded, so the path to those files: "
   ]
  },
  {
   "cell_type": "code",
   "execution_count": null,
   "metadata": {},
   "outputs": [],
   "source": []
  },
  {
   "cell_type": "markdown",
   "metadata": {},
   "source": [
    "If you inspect the files you will see, they do not include the column names.  You can place those column names in a list so that you can specify those are the names when you load the data.  The columns are: \"age\", \"workclass\", \"fnlwgt\", \"education\",  \"education_num\",\"marital_status\", \"occupation\", \"relationship\", \"race\", \"gender\",\"capital_gain\", \"capital_loss\", \"hours_per_week\", \"native_country\",\"income_bracket\".\n",
    "\n"
   ]
  },
  {
   "cell_type": "code",
   "execution_count": null,
   "metadata": {},
   "outputs": [],
   "source": []
  },
  {
   "cell_type": "markdown",
   "metadata": {},
   "source": [
    "You may wish to specified now two separate lists, one which contains the __categorical columns__, and one which contains the __numeric columns__ of interest. Note that we can exclude some columns (e.g. \"fnlwgt\" by not adding them to the array below).  This is not necessary for loading the data but may help when you are applying particular operations to each type of column.  The categorical columns of interest are: \"workclass\", \"education\", \"marital_status\", \"occupation\",\"relationship\", \"race\", \"gender\", \"native_country\".  The numeric columns are: \"age\", \"education_num\", \"capital_gain\", \"capital_loss\", \"hours_per_week\"."
   ]
  },
  {
   "cell_type": "code",
   "execution_count": null,
   "metadata": {},
   "outputs": [],
   "source": []
  },
  {
   "cell_type": "markdown",
   "metadata": {},
   "source": [
    "Now you are ready to read the train data into the data frame _Adult_train_ and the test data into the data frame _Adult_test_. Remember that for each dataset you may want to specify where the _names_ are,`names = COLUMNS`, i.e. in the list of columns you created.  "
   ]
  },
  {
   "cell_type": "code",
   "execution_count": null,
   "metadata": {},
   "outputs": [],
   "source": []
  },
  {
   "cell_type": "markdown",
   "metadata": {},
   "source": [
    "Check the data that you read, in particular find out how many records and columns there are in the training set. Check the first and last few rows to ensure the data is being read correctly.  "
   ]
  },
  {
   "cell_type": "code",
   "execution_count": null,
   "metadata": {},
   "outputs": [],
   "source": []
  },
  {
   "cell_type": "markdown",
   "metadata": {},
   "source": [
    "Perform the same checks for the data frame containing the test dataset. "
   ]
  },
  {
   "cell_type": "code",
   "execution_count": null,
   "metadata": {},
   "outputs": [],
   "source": []
  },
  {
   "cell_type": "markdown",
   "metadata": {},
   "source": [
    "You may notice that the first row of the test data is not correct.  This is because it contains some text.  We need to skip it.  There is a parameter in the read.csv function that will help with that.  To find out all the parameters of the function and how to call them use <code> help(pd.read_csv) </code>"
   ]
  },
  {
   "cell_type": "code",
   "execution_count": null,
   "metadata": {},
   "outputs": [],
   "source": []
  },
  {
   "cell_type": "markdown",
   "metadata": {},
   "source": [
    "Write the code for reading the test file again but this time skip the first row. Check again that it has been read correctly this time. "
   ]
  },
  {
   "cell_type": "code",
   "execution_count": null,
   "metadata": {},
   "outputs": [],
   "source": []
  },
  {
   "cell_type": "markdown",
   "metadata": {},
   "source": [
    "## Accesing the data\n",
    "\n",
    "We will focus on the training data for some exploration. Practice now accessing a few columns.  For example, start by accessing the column containing __education__."
   ]
  },
  {
   "cell_type": "code",
   "execution_count": null,
   "metadata": {},
   "outputs": [],
   "source": []
  },
  {
   "cell_type": "markdown",
   "metadata": {},
   "source": [
    "Now access the all of the rows but only the __relationship, gender__ and __income_bracket__ columns.\n"
   ]
  },
  {
   "cell_type": "code",
   "execution_count": null,
   "metadata": {},
   "outputs": [],
   "source": []
  },
  {
   "cell_type": "markdown",
   "metadata": {},
   "source": [
    "Now, access the first 5 rows for the 3th column, __education__."
   ]
  },
  {
   "cell_type": "code",
   "execution_count": null,
   "metadata": {},
   "outputs": [],
   "source": []
  },
  {
   "cell_type": "markdown",
   "metadata": {},
   "source": [
    "Let us do some conditional selection.  Select only those with the higher salaries, >50K and with __relationship__ _'Husband'_. How many rows are there?  If you struggle, look to the hint below."
   ]
  },
  {
   "cell_type": "code",
   "execution_count": null,
   "metadata": {},
   "outputs": [],
   "source": []
  },
  {
   "cell_type": "markdown",
   "metadata": {},
   "source": [
    "\n",
    "Hint: Note that you my find problems while doing this.  It may be that nothing matches the _'Husband'_ value even though you can see some in the dataset.  This is because there may be trailing white spaces which alter the string.  To remove those, you can use the `str.strip()` method which returns a copy of the string by removing both the leading and the trailing characters (based on the string argument passed).If no argument is provided, all leading and trailing whitespaces are removed from the string."
   ]
  },
  {
   "cell_type": "markdown",
   "metadata": {},
   "source": [
    "## Summary statistics \n",
    "\n",
    "Let us now attempt to describe all our attributes. Start by describing some attributes, for example the categorical attribute __education__ and then the numeric attribute __education_number__. What kind of information do you get from the `describe()` function for a categorical attribute?  What about for a numeric attribute? "
   ]
  },
  {
   "cell_type": "code",
   "execution_count": null,
   "metadata": {},
   "outputs": [],
   "source": []
  },
  {
   "cell_type": "code",
   "execution_count": null,
   "metadata": {},
   "outputs": [],
   "source": []
  },
  {
   "cell_type": "markdown",
   "metadata": {},
   "source": [
    "Try to find the mean for the capital_gain atribute using the `mean()` function. "
   ]
  },
  {
   "cell_type": "code",
   "execution_count": null,
   "metadata": {},
   "outputs": [],
   "source": []
  },
  {
   "cell_type": "markdown",
   "metadata": {},
   "source": [
    "What are the unique values in the __education__ attribute? How many occurrences of each are there in the training set? Which are the most and least frequent?"
   ]
  },
  {
   "cell_type": "code",
   "execution_count": null,
   "metadata": {},
   "outputs": [],
   "source": []
  },
  {
   "cell_type": "code",
   "execution_count": null,
   "metadata": {},
   "outputs": [],
   "source": []
  },
  {
   "cell_type": "markdown",
   "metadata": {},
   "source": [
    "## Creating a data dictionary\n",
    "\n",
    "### Numeric variables\n",
    "\n",
    "Let us know collect all of the statistics for all of the attribute plus some initial visualisations to show us the characteristics of each attribute.  First, try you use the `describe()` function but apply it to all of the numeric columns of interest so that you end up with a data frame that has the as columns the attributes and as rows the different values returned by `describe()`, e.g. count, mean, etc.\n"
   ]
  },
  {
   "cell_type": "code",
   "execution_count": null,
   "metadata": {},
   "outputs": [],
   "source": []
  },
  {
   "cell_type": "markdown",
   "metadata": {},
   "source": [
    "We can add even more information to it.  Calculate also the median and total number of null values for each attribute and add them to the Data Frame you created for the stats. (Hint: for this you can use `median()` and `isnull().sum`."
   ]
  },
  {
   "cell_type": "code",
   "execution_count": null,
   "metadata": {},
   "outputs": [],
   "source": []
  },
  {
   "cell_type": "markdown",
   "metadata": {},
   "source": [
    "### Visualisations to show distributions for each numeric variable\n",
    "\n",
    "Now, let us produce a visualisation for each of those attributes that enable us to see the distribution, but also using the target attribute to contrast the distributions for the different labels.  First we need to divide the data into two data frames one for the records with _High_ income (>50K) and one for those with _Low_ income (<=50K). Remember thta you can do conditional selects.  "
   ]
  },
  {
   "cell_type": "code",
   "execution_count": null,
   "metadata": {},
   "outputs": [],
   "source": []
  },
  {
   "cell_type": "markdown",
   "metadata": {},
   "source": [
    "Now, let us use a __kde plot__, just as we did in the first part of the lab to show the distribution of an attribute, using colour shading to contrast distributions for each target income. Remember, this can be done by doing one plot after another for the  (>50K) and  (<=50K) data frames. Let us do this for the attribute _education_num_ and make sure you add a title and a legend to your graph. What does it tell you about the differences in education for each income group?"
   ]
  },
  {
   "cell_type": "code",
   "execution_count": null,
   "metadata": {},
   "outputs": [],
   "source": []
  },
  {
   "cell_type": "markdown",
   "metadata": {},
   "source": [
    "Now, let us try the same but we will do the graphs for every numeric attribute in succession, just as we generated the descriptive statistics for each attribute.  To make sure that all your graphs do not merge into one you can use the ` plt.figure()` method before you plot the graph for a particular attribute. Your plots should still include a title and legend.  You can save each plot in the working directory as a figure too if you wish.  For this, you can use the  `plt.savefig('Name of graph'+'.jpg')` to produce the .jpg in the working directory.  "
   ]
  },
  {
   "cell_type": "code",
   "execution_count": null,
   "metadata": {},
   "outputs": [],
   "source": []
  },
  {
   "cell_type": "markdown",
   "metadata": {},
   "source": [
    "You can even plot all of the figures together as subplots. "
   ]
  },
  {
   "cell_type": "code",
   "execution_count": null,
   "metadata": {},
   "outputs": [],
   "source": []
  },
  {
   "cell_type": "markdown",
   "metadata": {},
   "source": [
    "This graphs show what we may call one-way analysis when we look at the effect of each variable on the target variable.  What have you learned from the data by looking at those?  "
   ]
  },
  {
   "cell_type": "markdown",
   "metadata": {},
   "source": [
    "__Solutions:__ \n",
    "For a start, there is a shift in the age distribution so the high earners are older, than the low earners. The high earners have higher levels of education attainment in general. Capital_gain is difficult to ascertain as most values are around 0, though the high earners have a wider spread around 0. Capital_loss is not particularly discriminatory. Those on high income tend to worker higher hours per week."
   ]
  },
  {
   "cell_type": "markdown",
   "metadata": {},
   "source": [
    "### Categorical variables\n",
    "\n",
    "Now we do similar statistics and visualisations for the categorical variables.  Again, we use the `describe()` function and apply it to all of the  categorical columns so that we end up with a data frame that has the as columns the attributes and as rows the different values returned by `describe()`, e.g. count, unique, etc.  We can optionally add for the categorical variables also how many missing values, plus the list of unique values in each column or attribute. \n",
    "\n"
   ]
  },
  {
   "cell_type": "code",
   "execution_count": null,
   "metadata": {
    "scrolled": false
   },
   "outputs": [],
   "source": []
  },
  {
   "cell_type": "markdown",
   "metadata": {},
   "source": [
    "### Visualisations to show distributions for each categorical  variable\n",
    "\n",
    "Now, we will produce countplots to show distribution of values for categorical variables.  We can add the __income_bracket__ attribute through the _hue_ parameter to contrast the distributions for the different labels.   In the previous exercise we did not see so much about visualisation of categorical variables but you can find some help here: https://seaborn.pydata.org/generated/seaborn.countplot.html#seaborn.countplot.  The first thing we may want is a `sns.countplot` to show the distribution of, say, __gender__.  Countplots only require you to specify the values for the x_axis (if you are happy with a horizontal plot).  Make sure you use the   `hue='income_bracket` parameter to ensure distribution for both labels are shown.  You can experiment with plot size through the `plt.figure(figsize=(length,width))` parameter by chaging the values length and width."
   ]
  },
  {
   "cell_type": "code",
   "execution_count": null,
   "metadata": {},
   "outputs": [],
   "source": []
  },
  {
   "cell_type": "markdown",
   "metadata": {},
   "source": [
    "The plot can be changed to be a vertical plot by specifying gender to be the y-axis (no x-axis).  Try it. "
   ]
  },
  {
   "cell_type": "code",
   "execution_count": null,
   "metadata": {},
   "outputs": [],
   "source": []
  },
  {
   "cell_type": "markdown",
   "metadata": {},
   "source": [
    "Not let's do the plots for every categorical variable, as we did before for every numeric variable.  When you have done so, you may notice some of them have many categories and the labels are squashed in the graph.  You could turn the labels vertically with ` plt.xticks(rotation=90) ` if you have a horizontal bar graph. "
   ]
  },
  {
   "cell_type": "code",
   "execution_count": null,
   "metadata": {},
   "outputs": [],
   "source": [
    "    "
   ]
  },
  {
   "cell_type": "markdown",
   "metadata": {},
   "source": [
    "Again, what can we learn from those plots in terms of the relationship between various categorical variables and income levels? "
   ]
  },
  {
   "cell_type": "markdown",
   "metadata": {},
   "source": [
    "__Solutions:__\n",
    "\n",
    "__Workclass__ shows us that a relatively high proportion of high income earners can be seen within _local-gov_ and _self_emp_inc_.  From __education__ we learn that high income earners seem to have _Bachelors, Masters, Doctorate, Prof-School_ so education pays!  Most of the category _Married_civ_spouse_ within __marital_status__ are also high earners so marriage seems also to pay (?). From __occupation__ we find a high proportion of _Exec-managerial, Prof_speciality_ are high earners.  The relationships most associated with high earners are _husband, wife_.  That seems to be consistent with the finding on _Married_civ_spouse_.  The distriution of __race__, also shows _White_ having higher proportion of high earners than say _Black_.  For __gender__ it may be not surprising that there are more high income earners within the _male_ category.  The distribution of __native_country__ as is not helpful as there are too many sparce categories. "
   ]
  },
  {
   "cell_type": "code",
   "execution_count": null,
   "metadata": {},
   "outputs": [],
   "source": []
  },
  {
   "cell_type": "markdown",
   "metadata": {},
   "source": [
    "## Further Visualisations: relationships within 2 or more variables\n",
    "\n",
    "As the final part of our lab, let us explore further visualisations that explore two or more variables and their relationship to the target variable.  For example, we could try a violin plot (see https://seaborn.pydata.org/generated/seaborn.violinplot.html#seaborn.violinplot) showing __gender__ in the x-axis and __age__ in the y-axix, with the income_bracket represented by the hue.  What does it tell us?"
   ]
  },
  {
   "cell_type": "code",
   "execution_count": null,
   "metadata": {},
   "outputs": [],
   "source": []
  },
  {
   "cell_type": "markdown",
   "metadata": {},
   "source": [
    "Or alternatively try the same as a box or boxen plot and compare them.  Which is visually more informative? "
   ]
  },
  {
   "cell_type": "code",
   "execution_count": null,
   "metadata": {},
   "outputs": [],
   "source": []
  },
  {
   "cell_type": "markdown",
   "metadata": {},
   "source": [
    "Insert a scatterplot if __relationship__ against __education__. Help can be found here (https://seaborn.pydata.org/generated/seaborn.catplot.html#seaborn.catplot) Play with the height and aspect to make it look right.  What do you learn about the data? Are there particular combinations that have a high concentration of high earners? "
   ]
  },
  {
   "cell_type": "code",
   "execution_count": null,
   "metadata": {},
   "outputs": [],
   "source": []
  },
  {
   "cell_type": "markdown",
   "metadata": {},
   "source": [
    "Perhaps look at __education__ against __capital_gain__ with a scatterplot.  What do you discover? "
   ]
  },
  {
   "cell_type": "code",
   "execution_count": null,
   "metadata": {},
   "outputs": [],
   "source": []
  },
  {
   "cell_type": "markdown",
   "metadata": {},
   "source": [
    "Or try the same variables, __education__ against __capital_gain__ but using a barplot."
   ]
  },
  {
   "cell_type": "code",
   "execution_count": null,
   "metadata": {},
   "outputs": [],
   "source": []
  },
  {
   "cell_type": "markdown",
   "metadata": {},
   "source": [
    "# All done!!!\n",
    "\n",
    "You have experimented with how to start building data dictionaries, how to use various visualisations to discover relationships between the data in the exploratory face of the project and more!"
   ]
  },
  {
   "cell_type": "code",
   "execution_count": null,
   "metadata": {},
   "outputs": [],
   "source": []
  }
 ],
 "metadata": {
  "celltoolbar": "Raw Cell Format",
  "kernelspec": {
   "display_name": "Python 3",
   "language": "python",
   "name": "python3"
  },
  "language_info": {
   "codemirror_mode": {
    "name": "ipython",
    "version": 3
   },
   "file_extension": ".py",
   "mimetype": "text/x-python",
   "name": "python",
   "nbconvert_exporter": "python",
   "pygments_lexer": "ipython3",
   "version": "3.8.5"
  }
 },
 "nbformat": 4,
 "nbformat_minor": 4
}
